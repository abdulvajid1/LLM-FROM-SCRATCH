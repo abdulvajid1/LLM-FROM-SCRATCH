{
 "cells": [
  {
   "cell_type": "code",
   "execution_count": 111,
   "id": "e4286271",
   "metadata": {},
   "outputs": [],
   "source": [
    "import torch\n",
    "import torch.nn as nn\n",
    "import torch.nn.functional as F\n",
    "from dataclasses import dataclass\n",
    "import math"
   ]
  },
  {
   "cell_type": "code",
   "execution_count": 144,
   "id": "bbda22d0",
   "metadata": {},
   "outputs": [
    {
     "data": {
      "text/plain": [
       "Config(n_layers=2, d_model=15, eps=1e-05, hidden_layer=60, num_heads=3)"
      ]
     },
     "execution_count": 144,
     "metadata": {},
     "output_type": "execute_result"
    }
   ],
   "source": [
    "@dataclass\n",
    "class Config:\n",
    "    n_layers: int = 2\n",
    "    d_model: int = 15\n",
    "    eps: float = 1e-5\n",
    "    hidden_layer: int = 4 * d_model\n",
    "    num_heads: int = 3\n",
    "    \n",
    "config = Config()\n",
    "config   "
   ]
  },
  {
   "cell_type": "code",
   "execution_count": null,
   "id": "e7368fdf",
   "metadata": {},
   "outputs": [],
   "source": [
    "# Layer Normalization layer\n",
    "\n",
    "class LayerNormalization(nn.Module):\n",
    "    def __init__(self, config):\n",
    "        super().__init__()\n",
    "        self.eps = config.eps\n",
    "        self.scale = nn.Parameter(torch.ones((config.d_model)))\n",
    "        self.shift = nn.Parameter(torch.zeros((config.d_model))) \n",
    "        \n",
    "    def forward(self, x: torch.Tensor):\n",
    "        x_mean = x.mean(dim=-1, keepdim=True) \n",
    "        x_std = x.std(dim=-1, keepdim=True)\n",
    "        x_norm = (x - x_mean) / (x_std + self.eps)\n",
    "        return x * self.scale + self.shift\n",
    "                \n",
    "        \n",
    "        \n",
    "        "
   ]
  },
  {
   "cell_type": "code",
   "execution_count": null,
   "id": "60072785",
   "metadata": {},
   "outputs": [],
   "source": [
    "# FeedForward Layer\n",
    "class FeedForwardLayer(nn.Module):\n",
    "    def __init__(self, config):\n",
    "        super().__init__()\n",
    "        d_model = config.d_model\n",
    "        hidden_layer = config.hidden_layer\n",
    "        \n",
    "        self.ff_layer = nn.Sequential([\n",
    "            nn.Linear(d_model, hidden_layer),\n",
    "            nn.GELU(),\n",
    "            nn.Linear(hidden_layer, d_model)        \n",
    "        ])\n",
    "        \n",
    "    def forward(self, x):\n",
    "        return x + self.ff_layer(x)\n",
    "        \n",
    "        "
   ]
  },
  {
   "cell_type": "code",
   "execution_count": null,
   "id": "9ac3000d",
   "metadata": {},
   "outputs": [],
   "source": [
    "class SelfAttentionLayer(nn.Module):\n",
    "    def __init__(self, config: Config):\n",
    "        super().__init__()\n",
    "        self.query_weights = nn.Linear(config.d_model, config.d_model)\n",
    "        self.key_weights = nn.Linear(config.d_model, config.d_model)\n",
    "        self.value_weights = nn.Linear(config.d_model, config.d_model)\n",
    "        self.num_heads = config.num_heads\n",
    "        assert config.d_model % config.num_heads == 0, \"d_model should be divisible by num_heads\"\n",
    "        self.h_dmodel = config.d_model // config.num_heads\n",
    "        self.neg_inf = - 1e+5\n",
    "        \n",
    "    def forward(self, x):\n",
    "        qeury_vectors = self.query_weights(x)\n",
    "        key_vectors = self.key_weights(x)\n",
    "        value_vectors = self.value_weights(x)\n",
    "        batch_size, seq_len, _ = x.size()\n",
    "        \n",
    "        # (B,S,d_model) -> (B, S, num_head, h_dmodel)\n",
    "        qeury_vectors = qeury_vectors.view(batch_size, seq_len, self.num_heads, self.h_dmodel)\n",
    "        key_vectors = key_vectors.view(batch_size, seq_len, self.num_heads, self.h_dmodel)\n",
    "        value_vectors = value_vectors.view(batch_size, seq_len, self.num_heads, self.h_dmodel)\n",
    "        \n",
    "        # (B,S, num_heads, h_dmodel) -> (b,num_heads, S, h_dmodel)\n",
    "        qeury_vectors = torch.permute(qeury_vectors, dims=(0, 2, 1, 3))\n",
    "        key_vectors = torch.permute(key_vectors, dims=(0, 2, 1, 3))\n",
    "        value_vectors = torch.permute(value_vectors, dims=(0, 2, 1, 3))\n",
    "        casual_mask = torch.triu(torch.ones(seq_len, seq_len), diagonal=1).bool()\n",
    "        \n",
    "        attention_scores = self.calculate_attention_score(qeury_vectors, key_vectors, casual_mask)\n",
    "        contextualized_vectores = attention_scores@value_vectors\n",
    "        \n",
    "        contextualized_vectores = torch.permute(contextualized_vectores, dims=(0, 2, 1, 3))\n",
    "        contextualized_vectores = contextualized_vectores.contiguous().view(batch_size, seq_len, self.num_heads*self.h_dmodel)\n",
    "        return (contextualized_vectores, attention_scores)\n",
    "    \n",
    "    def calculate_attention_score(self, qeury, key, mask):\n",
    "        # (B,NumHeads,Seq, h_dmodel) * (B,num_heads,h_model, seq) => (B,num_heads, seq, seq)\n",
    "        k_dmodel = key.size(-1)\n",
    "        attention_scores = torch.matmul(qeury @ key.tranpose(-1,-2)) / math.sqrt(k_dmodel)\n",
    "        attention_scores = torch.masked_fill(attention_scores, mask=mask, value=self.neg_inf)\n",
    "        attention_scores = torch.softmax(attention_scores, dim=-1)\n",
    "        return attention_scores\n",
    "        \n",
    "        \n",
    "        "
   ]
  },
  {
   "cell_type": "code",
   "execution_count": 140,
   "id": "52c630d1",
   "metadata": {},
   "outputs": [],
   "source": [
    "torch.manual_seed(0)\n",
    "tensor = torch.rand((3,3,15))\n",
    "tensorb = torch.rand(3,3,15)\n",
    "\n",
    "tensora= tensor.view(3,3,3,5)\n",
    "tensorb = tensor.view(3,3,3,5)"
   ]
  },
  {
   "cell_type": "code",
   "execution_count": 145,
   "id": "ea5a50c6",
   "metadata": {},
   "outputs": [],
   "source": [
    "ffv = SelfAttentionLayer(config)"
   ]
  },
  {
   "cell_type": "code",
   "execution_count": null,
   "id": "bb52d3ed",
   "metadata": {},
   "outputs": [],
   "source": [
    "ffv()"
   ]
  },
  {
   "cell_type": "code",
   "execution_count": 137,
   "id": "12d0ede4",
   "metadata": {},
   "outputs": [
    {
     "data": {
      "text/plain": [
       "tensor([[[[0.9562, 1.0250, 0.5964],\n",
       "          [1.0250, 2.0533, 0.7009],\n",
       "          [0.5964, 0.7009, 0.3985]],\n",
       "\n",
       "         [[1.5012, 1.5688, 1.1156],\n",
       "          [1.5688, 2.3999, 1.5817],\n",
       "          [1.1156, 1.5817, 1.3885]],\n",
       "\n",
       "         [[1.0882, 0.6742, 0.5203],\n",
       "          [0.6742, 1.9828, 0.7379],\n",
       "          [0.5203, 0.7379, 0.6984]]],\n",
       "\n",
       "\n",
       "        [[[1.6625, 2.1261, 0.7818],\n",
       "          [2.1261, 3.1737, 1.1274],\n",
       "          [0.7818, 1.1274, 0.4887]],\n",
       "\n",
       "         [[2.0842, 2.0933, 1.7668],\n",
       "          [2.0933, 2.4566, 2.3007],\n",
       "          [1.7668, 2.3007, 2.3089]],\n",
       "\n",
       "         [[1.5826, 0.7673, 1.0756],\n",
       "          [0.7673, 2.0198, 0.7691],\n",
       "          [1.0756, 0.7691, 0.9417]]],\n",
       "\n",
       "\n",
       "        [[[2.2417, 1.2798, 1.7922],\n",
       "          [1.2798, 1.0155, 1.0145],\n",
       "          [1.7922, 1.0145, 1.8621]],\n",
       "\n",
       "         [[0.8233, 1.2009, 0.7710],\n",
       "          [1.2009, 2.3798, 1.4923],\n",
       "          [0.7710, 1.4923, 1.1312]],\n",
       "\n",
       "         [[1.3741, 0.6474, 1.0072],\n",
       "          [0.6474, 0.3615, 0.5839],\n",
       "          [1.0072, 0.5839, 1.5147]]]])"
      ]
     },
     "execution_count": 137,
     "metadata": {},
     "output_type": "execute_result"
    }
   ],
   "source": [
    "(tensora @ tensorb)"
   ]
  },
  {
   "cell_type": "code",
   "execution_count": 138,
   "id": "db375ba9",
   "metadata": {},
   "outputs": [
    {
     "data": {
      "text/plain": [
       "tensor([[[[0.9562, 1.0250, 0.5964],\n",
       "          [1.0250, 2.0533, 0.7009],\n",
       "          [0.5964, 0.7009, 0.3985]],\n",
       "\n",
       "         [[1.5012, 1.5688, 1.1156],\n",
       "          [1.5688, 2.3999, 1.5817],\n",
       "          [1.1156, 1.5817, 1.3885]],\n",
       "\n",
       "         [[1.0882, 0.6742, 0.5203],\n",
       "          [0.6742, 1.9828, 0.7379],\n",
       "          [0.5203, 0.7379, 0.6984]]],\n",
       "\n",
       "\n",
       "        [[[1.6625, 2.1261, 0.7818],\n",
       "          [2.1261, 3.1737, 1.1274],\n",
       "          [0.7818, 1.1274, 0.4887]],\n",
       "\n",
       "         [[2.0842, 2.0933, 1.7668],\n",
       "          [2.0933, 2.4566, 2.3007],\n",
       "          [1.7668, 2.3007, 2.3089]],\n",
       "\n",
       "         [[1.5826, 0.7673, 1.0756],\n",
       "          [0.7673, 2.0198, 0.7691],\n",
       "          [1.0756, 0.7691, 0.9417]]],\n",
       "\n",
       "\n",
       "        [[[2.2417, 1.2798, 1.7922],\n",
       "          [1.2798, 1.0155, 1.0145],\n",
       "          [1.7922, 1.0145, 1.8621]],\n",
       "\n",
       "         [[0.8233, 1.2009, 0.7710],\n",
       "          [1.2009, 2.3798, 1.4923],\n",
       "          [0.7710, 1.4923, 1.1312]],\n",
       "\n",
       "         [[1.3741, 0.6474, 1.0072],\n",
       "          [0.6474, 0.3615, 0.5839],\n",
       "          [1.0072, 0.5839, 1.5147]]]])"
      ]
     },
     "execution_count": 138,
     "metadata": {},
     "output_type": "execute_result"
    }
   ],
   "source": [
    "tensora.matmul(tensorb)"
   ]
  },
  {
   "cell_type": "code",
   "execution_count": null,
   "id": "fb8e4e5b",
   "metadata": {},
   "outputs": [],
   "source": []
  }
 ],
 "metadata": {
  "kernelspec": {
   "display_name": ".venv",
   "language": "python",
   "name": "python3"
  },
  "language_info": {
   "codemirror_mode": {
    "name": "ipython",
    "version": 3
   },
   "file_extension": ".py",
   "mimetype": "text/x-python",
   "name": "python",
   "nbconvert_exporter": "python",
   "pygments_lexer": "ipython3",
   "version": "3.12.9"
  }
 },
 "nbformat": 4,
 "nbformat_minor": 5
}
