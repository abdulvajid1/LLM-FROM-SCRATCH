{
 "cells": [
  {
   "cell_type": "code",
   "execution_count": 1,
   "id": "90045597",
   "metadata": {},
   "outputs": [],
   "source": [
    "import torch\n",
    "import torch.nn as nn\n",
    "import torch.nn.functional as F\n",
    "from datasets import load_dataset\n",
    "\n",
    "from model import GPTModel\n",
    "from config import Config\n",
    "from load_weights_from_gpt import load_weights_into_gpt\n",
    "from gpt_download import download_and_load_gpt2\n",
    "from model_generate import generate\n",
    "import tiktoken"
   ]
  },
  {
   "cell_type": "code",
   "execution_count": 2,
   "id": "07f0849c",
   "metadata": {},
   "outputs": [],
   "source": [
    "config = Config({\n",
    "    \"n_layers\": 24,\n",
    "    \"d_model\": 1024,\n",
    "    \"eps\": 1e-5,\n",
    "    \"hidden_size_multiplier\": 4,\n",
    "    \"num_heads\": 16,\n",
    "    \"context_len\": 1024,\n",
    "    \"dropout\": 0.01,\n",
    "    \"qkv_bias\": True,\n",
    "    \"vocab_size\": 50257\n",
    "})"
   ]
  },
  {
   "cell_type": "code",
   "execution_count": 3,
   "id": "6b45a9e5",
   "metadata": {},
   "outputs": [
    {
     "data": {
      "text/plain": [
       "True"
      ]
     },
     "execution_count": 3,
     "metadata": {},
     "output_type": "execute_result"
    }
   ],
   "source": [
    "torch.cuda.is_available()"
   ]
  },
  {
   "cell_type": "code",
   "execution_count": 4,
   "id": "2ca2c267",
   "metadata": {},
   "outputs": [
    {
     "name": "stdout",
     "output_type": "stream",
     "text": [
      "device : cuda\n"
     ]
    }
   ],
   "source": [
    "device = torch.device('cuda' if torch.cuda.is_available() else 'cpu')\n",
    "print(f\"device : {device}\")"
   ]
  },
  {
   "cell_type": "code",
   "execution_count": 5,
   "id": "ecc784fc",
   "metadata": {},
   "outputs": [],
   "source": [
    "tokenizer = tiktoken.get_encoding('gpt2')"
   ]
  },
  {
   "cell_type": "code",
   "execution_count": 6,
   "id": "77bcf65a",
   "metadata": {},
   "outputs": [],
   "source": [
    "model = GPTModel(config=config).to(device)"
   ]
  },
  {
   "cell_type": "code",
   "execution_count": 7,
   "id": "b044bf5d",
   "metadata": {},
   "outputs": [
    {
     "name": "stdout",
     "output_type": "stream",
     "text": [
      "File already exists and is up-to-date: gpt2\\355M\\checkpoint\n",
      "File already exists and is up-to-date: gpt2\\355M\\encoder.json\n",
      "File already exists and is up-to-date: gpt2\\355M\\hparams.json\n",
      "File already exists and is up-to-date: gpt2\\355M\\model.ckpt.data-00000-of-00001\n",
      "File already exists and is up-to-date: gpt2\\355M\\model.ckpt.index\n",
      "File already exists and is up-to-date: gpt2\\355M\\model.ckpt.meta\n",
      "File already exists and is up-to-date: gpt2\\355M\\vocab.bpe\n"
     ]
    }
   ],
   "source": [
    "settigns, params = download_and_load_gpt2(model_size='355M', models_dir='gpt2')"
   ]
  },
  {
   "cell_type": "code",
   "execution_count": 8,
   "id": "af1de9de",
   "metadata": {},
   "outputs": [],
   "source": [
    "load_weights_into_gpt(model, params)"
   ]
  },
  {
   "cell_type": "code",
   "execution_count": 14,
   "id": "b5c12e5d",
   "metadata": {},
   "outputs": [
    {
     "name": "stdout",
     "output_type": "stream",
     "text": [
      "fibonocci code in python: def fibonacci(n): \"\"\"Return the Fibonacci number at the given number of points \"\"\" res = (n-1)*(length(uniform_rst)**5)/asctip=line.default\n"
     ]
    }
   ],
   "source": [
    "print(generate(model, \n",
    "               starting_context='fibonocci code in python: def fibonacci(n):', \n",
    "               tokenizer=tokenizer, \n",
    "               max_len=40))"
   ]
  },
  {
   "cell_type": "code",
   "execution_count": 10,
   "id": "b33c8880",
   "metadata": {},
   "outputs": [],
   "source": [
    "data = load_dataset('teknium/openhermes')"
   ]
  },
  {
   "cell_type": "code",
   "execution_count": 11,
   "id": "99ef7dec",
   "metadata": {},
   "outputs": [
    {
     "data": {
      "text/plain": [
       "DatasetDict({\n",
       "    train: Dataset({\n",
       "        features: ['output', 'input', 'instruction'],\n",
       "        num_rows: 242831\n",
       "    })\n",
       "})"
      ]
     },
     "execution_count": 11,
     "metadata": {},
     "output_type": "execute_result"
    }
   ],
   "source": [
    "data"
   ]
  },
  {
   "cell_type": "code",
   "execution_count": 12,
   "id": "11a50d33",
   "metadata": {},
   "outputs": [
    {
     "data": {
      "text/plain": [
       "{'output': '```perl\\n#!/usr/bin/perl\\n\\nuse strict;\\nuse warnings;\\n\\n# Check if a log file path is provided as command-line argument\\nif (@ARGV != 1) {\\n    print \"Usage: $0 <log_file_path>\\\\n\";\\n    exit(1);\\n}\\n\\nmy $log_file = $ARGV[0];\\n\\n# Open the log file for reading\\nopen(my $fh, \\'<\\', $log_file) or die \"Could not open file \\'$log_file\\' $!\";\\n\\nmy %status_codes;\\n\\n# Process each line in the log file\\nwhile (my $line = <$fh>) {\\n    # Extract the HTTP status code from the log entry\\n    if ($line =~ /HTTP\\\\/\\\\d+\\\\.\\\\d+\" (\\\\d+)/) {\\n        my $status_code = $1;\\n        $status_codes{$status_code}++;\\n    }\\n}\\n\\nclose($fh);\\n\\n# Sort and print the results\\nforeach my $code (sort { $status_codes{$b} <=> $status_codes{$a} } keys %status_codes) {\\n    printf \"%s: %d\\\\n\", $code, $status_codes{$code};\\n}\\n```\\n\\nTo run this script, save it to a file named `count_http_status_codes.pl` and make sure it has executable permissions. Then, you can execute it with the following command:\\n\\n```\\n./count_http_status_codes.pl <path_to_log_file>\\n```\\n\\nReplace `<path_to_log_file>` with the actual path of your log file. The script will then output the count of different HTTP status codes found in the log file, sorted by frequency in descending order.',\n",
       " 'input': '',\n",
       " 'instruction': 'Write a Perl script that processes a log file and counts the occurrences of different HTTP status codes. The script should accept the log file path as a command-line argument and print the results to the console in descending order of frequency.\\n'}"
      ]
     },
     "execution_count": 12,
     "metadata": {},
     "output_type": "execute_result"
    }
   ],
   "source": [
    "data['train'][0]"
   ]
  },
  {
   "cell_type": "code",
   "execution_count": 44,
   "id": "e7f322f5",
   "metadata": {},
   "outputs": [],
   "source": [
    "def format_text_template(batch):\n",
    "    template = \"\"\"### Instruction: {instruction}\n",
    "### Input: {input}\n",
    "### Response: {output}\"\"\"\n",
    "    \n",
    "    return {'text': template.format(instruction=batch['instruction'], input=batch['input'], output=batch['output'])}"
   ]
  },
  {
   "cell_type": "code",
   "execution_count": 48,
   "id": "d5b581e8",
   "metadata": {},
   "outputs": [
    {
     "name": "stdout",
     "output_type": "stream",
     "text": [
      "### Instruction: Design a roller coaster with three distinct features, explaining the purpose of each feature and how it contributes to the overall ride experience.\n",
      "### Input: \n",
      "### Response: 1. The Gravity-Defying Loop: One of the most iconic and thrilling features of our roller coaster is a massive, vertical loop that takes riders upside down as they travel through it at high speeds. This gravity-defying loop creates an intense sensation of weightlessness and disorientation for riders, making them feel like they are defying the laws of physics. As the train enters the loop, riders experience strong positive G-forces pushing them into their seats, followed by brief moments of weightlessness at the top of the loop before being pushed back into their seats again as they exit the loop. This feature contributes to the overall ride experience by providing a heart-pounding moment of adrenaline and excitement that leaves riders wanting more.\n",
      "\n",
      "2. The Airtime Hills: To create a dynamic and varied ride experience, our roller coaster also includes a series of airtime hills – undulating sections of track that cause riders to lift out of their seats briefly as they crest each hill. These hills provide a contrast to the intensity of the gravity-defying loop, offering moments of exhilaration and fun without the extreme forces experienced during the loop. As riders go over these hills, they experience negative G-forces, giving them the sensation of floating or flying momentarily before being pulled back down into their seats. This feature adds variety to the ride experience, ensuring that there's something for everyone to enjoy.\n",
      "\n",
      "3. The High-Speed Launch: Instead of a traditional chain lift hill, our roller coaster utilizes a state-of-the-art launch system that propels riders from 0 to 60 mph in just a few seconds. This high-speed launch provides an instant adrenaline rush and sets the tone for the rest of the ride, letting riders know that they're in for an unforgettable experience. By using this innovative technology, we can create a more seamless and immersive ride experience, eliminating the slow climb up a lift hill and replacing it with a sudden burst of speed that leaves riders breathless and exhilarated. This feature contributes to the overall ride experience by starting things off with a bang, setting the stage for the thrilling elements that follow.\n",
      "\n",
      "In conclusion, our roller coaster combines three distinct features – the gravity-defying loop, airtime hills, and high-speed launch – to create an unforgettable ride experience that offers something for everyone. Each feature serves a specific purpose in contributing to the overall excitement and enjoyment of the ride, ensuring that riders will want to come back for more time and time again.\n"
     ]
    }
   ],
   "source": [
    "# testing map function\n",
    "subset_data = data['train'].select([10,20,40])\n",
    "subset_data = subset_data.map(format_text_template)\n",
    "\n",
    "print(subset_data['text'][0])"
   ]
  },
  {
   "cell_type": "code",
   "execution_count": null,
   "id": "e6caf2e6",
   "metadata": {},
   "outputs": [
    {
     "data": {
      "application/vnd.jupyter.widget-view+json": {
       "model_id": "902b053d348d4dafa03875ed4ce0ca30",
       "version_major": 2,
       "version_minor": 0
      },
      "text/plain": [
       "Map:   0%|          | 0/242831 [00:00<?, ? examples/s]"
      ]
     },
     "metadata": {},
     "output_type": "display_data"
    }
   ],
   "source": [
    "data = data.map(format_text_template, remove_columns=['output','input','instruction'])"
   ]
  },
  {
   "cell_type": "code",
   "execution_count": null,
   "id": "9c7e788d",
   "metadata": {},
   "outputs": [
    {
     "data": {
      "text/plain": [
       "DatasetDict({\n",
       "    train: Dataset({\n",
       "        features: ['output', 'input', 'instruction', 'text'],\n",
       "        num_rows: 242831\n",
       "    })\n",
       "})"
      ]
     },
     "execution_count": 50,
     "metadata": {},
     "output_type": "execute_result"
    }
   ],
   "source": []
  },
  {
   "cell_type": "code",
   "execution_count": null,
   "id": "7dd7a0fb",
   "metadata": {},
   "outputs": [],
   "source": []
  }
 ],
 "metadata": {
  "kernelspec": {
   "display_name": ".venv",
   "language": "python",
   "name": "python3"
  },
  "language_info": {
   "codemirror_mode": {
    "name": "ipython",
    "version": 3
   },
   "file_extension": ".py",
   "mimetype": "text/x-python",
   "name": "python",
   "nbconvert_exporter": "python",
   "pygments_lexer": "ipython3",
   "version": "3.12.10"
  }
 },
 "nbformat": 4,
 "nbformat_minor": 5
}
