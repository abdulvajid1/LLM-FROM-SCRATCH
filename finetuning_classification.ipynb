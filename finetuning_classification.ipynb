{
 "cells": [
  {
   "cell_type": "markdown",
   "id": "1a36692b",
   "metadata": {},
   "source": [
    "## Dependencies"
   ]
  },
  {
   "cell_type": "code",
   "execution_count": 116,
   "id": "e4286271",
   "metadata": {},
   "outputs": [],
   "source": [
    "import torch\n",
    "import torch.nn as nn\n",
    "import torch.nn.functional as F\n",
    "from dataclasses import dataclass\n",
    "import math\n",
    "from IPython.display import display, Image\n",
    "import tiktoken\n",
    "from torch.utils.data import DataLoader, Dataset\n",
    "from torch.optim import AdamW\n",
    "from typing import TypedDict"
   ]
  },
  {
   "cell_type": "code",
   "execution_count": null,
   "id": "0aad48e2",
   "metadata": {},
   "outputs": [],
   "source": []
  },
  {
   "cell_type": "code",
   "execution_count": 117,
   "id": "98816c78",
   "metadata": {},
   "outputs": [
    {
     "data": {
      "text/html": [
       "<img src=\"https://substackcdn.com/image/fetch/w_1456,c_limit,f_auto,q_auto:good,fl_progressive:steep/https%3A%2F%2Fsubstack-post-media.s3.amazonaws.com%2Fpublic%2Fimages%2F81c2aa73-dd8c-46bf-85b0-90e01145b0ed_1422x1460.png\" width=\"400\" height=\"500\"/>"
      ],
      "text/plain": [
       "<IPython.core.display.Image object>"
      ]
     },
     "metadata": {},
     "output_type": "display_data"
    }
   ],
   "source": [
    "url = \"https://substackcdn.com/image/fetch/w_1456,c_limit,f_auto,q_auto:good,fl_progressive:steep/https%3A%2F%2Fsubstack-post-media.s3.amazonaws.com%2Fpublic%2Fimages%2F81c2aa73-dd8c-46bf-85b0-90e01145b0ed_1422x1460.png\"\n",
    "display(Image(url=url,\n",
    "              width=400,\n",
    "              height=500))"
   ]
  },
  {
   "cell_type": "markdown",
   "id": "92591120",
   "metadata": {},
   "source": [
    "## Model Building"
   ]
  },
  {
   "cell_type": "code",
   "execution_count": 118,
   "id": "bbda22d0",
   "metadata": {},
   "outputs": [],
   "source": [
    "class Config(TypedDict):\n",
    "    n_layers:int = 12\n",
    "    d_model:int = 768\n",
    "    eps:float = 1e-5\n",
    "    hidden_size_multiplier:int = 4 \n",
    "    num_heads:int = 12\n",
    "    context_len:int = 1024\n",
    "    dropout:float = 0.1\n",
    "    qkv_bias:bool = False\n",
    "    vocab_size:int = 50257\n",
    "    \n",
    "config = Config({\n",
    "    \"n_layers\": 24,\n",
    "    \"d_model\": 1024,\n",
    "    \"eps\": 1e-5,\n",
    "    \"hidden_size_multiplier\": 4,\n",
    "    \"num_heads\": 16,\n",
    "    \"context_len\": 1024,\n",
    "    \"dropout\": 0.01,\n",
    "    \"qkv_bias\": True,\n",
    "    \"vocab_size\": 50257\n",
    "})\n",
    "device = torch.device('cuda' if torch.cuda.is_available() else 'cpu')"
   ]
  },
  {
   "cell_type": "code",
   "execution_count": 119,
   "id": "44364b76",
   "metadata": {},
   "outputs": [
    {
     "data": {
      "text/plain": [
       "1024"
      ]
     },
     "execution_count": 119,
     "metadata": {},
     "output_type": "execute_result"
    }
   ],
   "source": [
    "config['context_len']"
   ]
  },
  {
   "cell_type": "code",
   "execution_count": 120,
   "id": "9e1aef07",
   "metadata": {},
   "outputs": [],
   "source": [
    "tokenizer = tiktoken.get_encoding('gpt2')"
   ]
  },
  {
   "cell_type": "code",
   "execution_count": 121,
   "id": "e7368fdf",
   "metadata": {},
   "outputs": [],
   "source": [
    "# Layer Normalization layer\n",
    "class LayerNormalization(nn.Module):\n",
    "    def __init__(self, config):\n",
    "        super().__init__()\n",
    "        self.eps = config['eps']\n",
    "        self.scale = nn.Parameter(torch.ones((config['d_model'])))\n",
    "        self.shift = nn.Parameter(torch.zeros((config['d_model']))) \n",
    "        \n",
    "    def forward(self, x: torch.Tensor):\n",
    "        x_mean = x.mean(dim=-1, keepdim=True) \n",
    "        x_std = x.std(dim=-1, keepdim=True)\n",
    "        x_norm = (x - x_mean) / (x_std + self.eps)\n",
    "        return x_norm * self.scale + self.shift"
   ]
  },
  {
   "cell_type": "code",
   "execution_count": 122,
   "id": "60072785",
   "metadata": {},
   "outputs": [],
   "source": [
    "# FeedForward Layer\n",
    "class FeedForwardLayer(nn.Module):\n",
    "    def __init__(self, config):\n",
    "        super().__init__()\n",
    "        d_model = config['d_model']\n",
    "        hidden_size_multiplier = config['hidden_size_multiplier']\n",
    "        \n",
    "        self.ff_layer = nn.Sequential(\n",
    "            nn.Linear(d_model, hidden_size_multiplier * d_model),\n",
    "            nn.GELU(),\n",
    "            nn.Linear(hidden_size_multiplier * d_model, d_model)        \n",
    "        )\n",
    "        \n",
    "    def forward(self, x):\n",
    "        return self.ff_layer(x)"
   ]
  },
  {
   "cell_type": "code",
   "execution_count": 123,
   "id": "9ac3000d",
   "metadata": {},
   "outputs": [],
   "source": [
    "class SelfAttentionLayer(nn.Module):\n",
    "    def __init__(self, config):\n",
    "        super().__init__()\n",
    "        self.query_weights = nn.Linear(config['d_model'], config['d_model'], bias=config['qkv_bias'])\n",
    "        self.key_weights = nn.Linear(config['d_model'], config['d_model'], bias=config['qkv_bias'])\n",
    "        self.value_weights = nn.Linear(config['d_model'], config['d_model'], bias=config['qkv_bias'])\n",
    "        self.out_proj = nn.Linear(config['d_model'], config['d_model'])\n",
    "        self.num_heads = config['num_heads']\n",
    "        assert config['d_model'] % config['num_heads'] == 0, \"d_model should be divisible by num_heads\"\n",
    "        self.h_dmodel = config['d_model'] // config['num_heads']\n",
    "        self.neg_inf = - 1e+5\n",
    "        self.drop_out = torch.nn.Dropout(config['dropout'])\n",
    "        self.register_buffer('casual_mask', tensor=torch.triu(torch.ones(config['context_len'], config['context_len']), diagonal=1).bool())\n",
    "    \n",
    "    def forward(self, x):\n",
    "        # x: (B, S, d_model)\n",
    "        qeury_vectors = self.query_weights(x)\n",
    "        key_vectors = self.key_weights(x)\n",
    "        value_vectors = self.value_weights(x)\n",
    "        batch_size, seq_len, d_model = x.size()\n",
    "        \n",
    "        # (B,S,d_model) -> (B, S, num_head, h_dmodel)\n",
    "        qeury_vectors = qeury_vectors.view(batch_size, seq_len, self.num_heads, self.h_dmodel)\n",
    "        key_vectors = key_vectors.view(batch_size, seq_len, self.num_heads, self.h_dmodel)\n",
    "        value_vectors = value_vectors.view(batch_size, seq_len, self.num_heads, self.h_dmodel)\n",
    "        \n",
    "        # (B, Seq, num_heads, h_dmodel) -> (B, num_heads, Seq, h_dmodel)\n",
    "        qeury_vectors = torch.permute(qeury_vectors, dims=(0, 2, 1, 3))\n",
    "        key_vectors = torch.permute(key_vectors, dims=(0, 2, 1, 3))\n",
    "        value_vectors = torch.permute(value_vectors, dims=(0, 2, 1, 3))\n",
    "        mask = self.casual_mask[ :seq_len, : seq_len]\n",
    "        \n",
    "        # mask = self.casual_mask[:seq_len, :seq_len]  # (S, S)\n",
    "        # mask = mask.unsqueeze(0).unsqueeze(0)  # (1, 1, S, S)\n",
    "         \n",
    "        attention_scores = self.calculate_attention_score(qeury_vectors, key_vectors, mask)\n",
    "        contextualized_vectores = attention_scores @ value_vectors\n",
    "        \n",
    "        # (B, num_heads, seq, head_d) => (B, seq, num_head, head_d) => (b, seq, d_model)\n",
    "        contextualized_vectores = torch.permute(contextualized_vectores, dims=(0, 2, 1, 3))\n",
    "        contextualized_vectores = contextualized_vectores.contiguous().view(batch_size, seq_len, self.num_heads*self.h_dmodel)\n",
    "        contextualized_vectores = self.out_proj(contextualized_vectores)\n",
    "        return (contextualized_vectores, attention_scores)\n",
    "    \n",
    "    def calculate_attention_score(self, qeury, key, mask):\n",
    "        # (B,NumHeads,Seq, h_dmodel) * (B,num_heads,h_model, seq) => (B,num_heads, seq, seq)\n",
    "        k_dmodel = key.size(-1)\n",
    "        attention_scores = (qeury @ key.transpose(-1,-2)) / math.sqrt(k_dmodel)\n",
    "        attention_scores = torch.masked_fill(attention_scores, mask=mask, value=self.neg_inf)\n",
    "        attention_scores = torch.softmax(attention_scores, dim=-1)\n",
    "        return self.drop_out(attention_scores)"
   ]
  },
  {
   "cell_type": "code",
   "execution_count": 124,
   "id": "eadc2639",
   "metadata": {},
   "outputs": [],
   "source": [
    "class GPTDataset(Dataset):\n",
    "    def __init__(self, text, tokenizer, max_len, stride):\n",
    "        super().__init__()\n",
    "        self.input_ids = []\n",
    "        self.target_ids = []\n",
    "        tokens = tokenizer.encode(text, allowed_special={'<|endoftext|>'})\n",
    "        \n",
    "        for i in range(0, len(tokens) - max_len, stride):\n",
    "            self.input_ids.append(torch.tensor(tokens[i: i + max_len]))\n",
    "            self.target_ids.append(torch.tensor(tokens[i+1 : i + max_len+1]))\n",
    "            \n",
    "    def __len__(self):\n",
    "        return len(self.input_ids)\n",
    "    \n",
    "    def __getitem__(self, index):\n",
    "        return self.input_ids[index], self.target_ids[index]"
   ]
  },
  {
   "cell_type": "code",
   "execution_count": 125,
   "id": "4cf1e026",
   "metadata": {},
   "outputs": [],
   "source": [
    "def create_dataloader(txt, batch_size=4, max_len=256,\n",
    "                      stride=256, shuffle=True,\n",
    "                      drop_last=True, num_workers=0):\n",
    "    \n",
    "    tokenizer = tiktoken.get_encoding('gpt2')\n",
    "    dataset = GPTDataset(text=txt, tokenizer=tokenizer, max_len=max_len, stride=stride)\n",
    "    \n",
    "    dataloader = DataLoader(\n",
    "        dataset=dataset,\n",
    "        batch_size=batch_size,\n",
    "        shuffle=shuffle,\n",
    "        pin_memory=True,\n",
    "        drop_last=drop_last,\n",
    "        num_workers=num_workers\n",
    "    )\n",
    "    return dataloader"
   ]
  },
  {
   "cell_type": "code",
   "execution_count": 126,
   "id": "1a6ddb31",
   "metadata": {},
   "outputs": [],
   "source": [
    "class TransformerBlock(nn.Module):\n",
    "    def __init__(self,config):\n",
    "        super().__init__()\n",
    "        self.attention = SelfAttentionLayer(config)\n",
    "        self.layer_norm1 = LayerNormalization(config)\n",
    "        self.layer_norm2 = LayerNormalization(config)\n",
    "        self.feedforward = FeedForwardLayer(config)\n",
    "        self.dropout = nn.Dropout(config['dropout'])\n",
    "        \n",
    "    def forward(self, x):\n",
    "        shortcut = x # Residual connection\n",
    "        x = self.layer_norm1(x)\n",
    "        x, _ = self.attention(x)\n",
    "        x = self.dropout(x)\n",
    "        x = shortcut + x\n",
    "        \n",
    "        shortcut = x\n",
    "        x = self.layer_norm2(x)\n",
    "        x = self.feedforward(x)\n",
    "        x = self.dropout(x)\n",
    "        x = x + shortcut\n",
    "        return x"
   ]
  },
  {
   "cell_type": "code",
   "execution_count": 127,
   "id": "5283e5e3",
   "metadata": {},
   "outputs": [],
   "source": [
    "class GPTModel(nn.Module):\n",
    "    def __init__(self, config):\n",
    "        super().__init__()\n",
    "        self.token_embedding = nn.Embedding(config['vocab_size'], embedding_dim=config['d_model'])\n",
    "        self.pos_embedding = nn.Embedding(config['context_len'], embedding_dim=config['d_model'])\n",
    "        self.dropout = nn.Dropout(config['dropout'])\n",
    "        \n",
    "        self.decoder_block = nn.Sequential(\n",
    "            *[TransformerBlock(config) for _ in range(config['n_layers'])]\n",
    "            )\n",
    "        \n",
    "        self.final_layernorm = LayerNormalization(config)\n",
    "        self.final_linear = nn.Linear(config['d_model'], config['vocab_size'])\n",
    "        \n",
    "    def forward(self, x):\n",
    "        batch_size, seq_len = x.size()\n",
    "        token_embedding = self.token_embedding(x)\n",
    "        positions = torch.arange(0, seq_len, device=x.device)\n",
    "        pos_embedding = self.pos_embedding(positions)\n",
    "        x = token_embedding + pos_embedding\n",
    "        x = self.decoder_block(x)\n",
    "        x = self.dropout(x)\n",
    "        x = self.final_layernorm(x)\n",
    "        logits = self.final_linear(x)\n",
    "        return logits"
   ]
  },
  {
   "cell_type": "code",
   "execution_count": 128,
   "id": "244983b0",
   "metadata": {},
   "outputs": [],
   "source": [
    "# model = GPTModel(config=config)\n",
    "# model.token_embedding.weight"
   ]
  },
  {
   "cell_type": "code",
   "execution_count": 129,
   "id": "eab295aa",
   "metadata": {},
   "outputs": [],
   "source": [
    "# torch.manual_seed(10)\n",
    "# x = torch.randint(high=10,size=(1,5),dtype=torch.int)\n",
    "\n",
    "# with torch.no_grad():\n",
    "#     out = model(x)\n",
    "# out"
   ]
  },
  {
   "cell_type": "code",
   "execution_count": 130,
   "id": "89aeb411",
   "metadata": {},
   "outputs": [],
   "source": [
    "\n",
    "# # Generate text\n",
    "# tokenizer = tiktoken.get_encoding('gpt2')\n",
    "# def genarate_text(input, max_len, context_len):\n",
    "#     model.eval()\n",
    "#     for _ in range(max_len):\n",
    "#         input = input[:, : context_len]\n",
    "        \n",
    "#         with torch.no_grad():\n",
    "            \n",
    "#             logits = model(input)\n",
    "#             last_token_logits = logits[:, -1, :]\n",
    "#             last_token_probs = torch.softmax(last_token_logits, dim=-1)        \n",
    "#             top_prob_token = torch.argmax(last_token_probs, dim=-1, keepdim=True)\n",
    "#             input = torch.cat([input, top_prob_token], dim=-1)\n",
    "    \n",
    "#     return input\n",
    "\n",
    "# input = 'my name is'\n",
    "# input = tokenizer.encode(input)\n",
    "# input = torch.tensor(input).unsqueeze(0)\n",
    "# print(input[:, :10])\n",
    "# print(f'initial input : {input}')\n",
    "# out = genarate_text(input, max_len=5, context_len=1024)\n",
    "# print('out token', out)\n",
    "# tokenizer.decode(out.squeeze().tolist())"
   ]
  },
  {
   "cell_type": "code",
   "execution_count": 131,
   "id": "2c594a4c",
   "metadata": {},
   "outputs": [],
   "source": [
    "# Read dataset\n",
    "with open('theverdict.txt','r') as f:\n",
    "    text = f.read()"
   ]
  },
  {
   "cell_type": "code",
   "execution_count": 132,
   "id": "68cbb4db",
   "metadata": {},
   "outputs": [],
   "source": [
    "# dataloader = create_dataloader(text, batch_size=4, num_workers=0)\n",
    "# for batch, target in dataloader:\n",
    "#     break"
   ]
  },
  {
   "cell_type": "code",
   "execution_count": 133,
   "id": "ca3e84ed",
   "metadata": {},
   "outputs": [],
   "source": [
    "\n",
    "# model = GPTModel(config)\n",
    "# input = torch.tensor(tokenizer.encode('hai')).unsqueeze(0)\n",
    "# with torch.no_grad():\n",
    "#     print(model(input))"
   ]
  },
  {
   "cell_type": "markdown",
   "id": "ce199b70",
   "metadata": {},
   "source": [
    "## Model Training"
   ]
  },
  {
   "cell_type": "code",
   "execution_count": 134,
   "id": "af3d6d4d",
   "metadata": {},
   "outputs": [],
   "source": [
    "def generate(model,\n",
    "            starting_context:str='i am a good',\n",
    "            tokenizer=tokenizer,\n",
    "            max_len=10,\n",
    "            sampling=True,\n",
    "            temperature=0.0,\n",
    "            top_k=None,\n",
    "            eos_id=None):\n",
    "    \n",
    "    model.eval()\n",
    "    input_ids = tokenizer.encode(starting_context)\n",
    "    input_ids = torch.tensor(input_ids).unsqueeze(0).to(device)\n",
    "    input_ids = input_ids.to(device)\n",
    "    \n",
    "    for i in range(max_len):\n",
    "        with torch.no_grad():\n",
    "            logits = model(input_ids)\n",
    "            logits = logits[:,-1,:]\n",
    "            \n",
    "            if sampling:\n",
    "                \n",
    "                if top_k:\n",
    "                    topk_logits, topk_pos = torch.topk(logits, k=top_k, dim=-1)\n",
    "                    logits = torch.where(input=torch.tensor(float('-inf')),\n",
    "                                         condition=logits < topk_logits[:,-1].reshape(-1, 1), \n",
    "                                         other=logits)\n",
    "                if temperature>0.0:\n",
    "                    logits = logits / temperature\n",
    "                    \n",
    "                probas = F.softmax(logits, dim=-1)\n",
    "                idx_next = torch.multinomial(probas, num_samples=1)\n",
    "                input_ids = torch.concat([input_ids, idx_next], dim=-1)\n",
    "            else:\n",
    "                assert temperature==0.0 and top_k is None, \"You can't set temperature or topk if sampling=False\"\n",
    "                last_token = torch.argmax(logits, dim=-1).unsqueeze(0)\n",
    "                input_ids = torch.cat([input_ids, last_token], dim=-1)\n",
    "    return tokenizer.decode(input_ids.squeeze().tolist())"
   ]
  },
  {
   "cell_type": "code",
   "execution_count": 135,
   "id": "6b915027",
   "metadata": {},
   "outputs": [],
   "source": [
    "# Training\n",
    "def train(model, train_dataloader:DataLoader, val_dataloader, optimizer:AdamW, epochs, val_freq:int, num_iter:int, device_man:str):\n",
    "    if device_man:\n",
    "        model.to(device_man)\n",
    "    else:\n",
    "        model.to(device)\n",
    "        \n",
    "    global_step = 1\n",
    "    for epoch in range(epochs):\n",
    "        model.train()\n",
    "        train_loss_history = []\n",
    "        val_loss_history = []\n",
    "        \n",
    "        for batch, target in train_dataloader:\n",
    "            batch, target = batch.to(device), target.to(device)\n",
    "            loss = calculate_batch_loss(model, batch, target)\n",
    "            optimizer.zero_grad()\n",
    "            loss.backward()\n",
    "            optimizer.step()\n",
    "            global_step+=1\n",
    "            \n",
    "            # validation\n",
    "            if global_step % val_freq == 0:\n",
    "                train_loss, val_loss = evaluate_model(model, train_dataloader, val_dataloader, num_iter)\n",
    "                print(f\"epoch: {epoch}: train_loss: {train_loss:.3f}, val_loss:{val_loss:.3f}\")\n",
    "                train_loss_history.append(train_loss)\n",
    "                val_loss_history.append(val_loss)\n",
    "                print(\"sample generation: \", generate(model))\n",
    "            \n",
    " \n",
    "def calculate_batch_loss(model, batch, target):\n",
    "    logits = model(batch).flatten(0, 1)\n",
    "    target = target.flatten()\n",
    "    loss = torch.nn.functional.cross_entropy(logits, target)\n",
    "    return loss\n",
    "\n",
    "def evaluate_model(model, train_dataloader, val_dataloader, num_iter):\n",
    "    model.eval()\n",
    "    with torch.no_grad():\n",
    "        train_loss = calculate_dataloader_loss(model, train_dataloader, num_iter=num_iter)\n",
    "        val_loss = calculate_dataloader_loss(model, val_dataloader, num_iter=num_iter)\n",
    "    model.train()\n",
    "    return train_loss, val_loss\n",
    "               \n",
    "def calculate_dataloader_loss(model, dataloader, num_iter):\n",
    "    model.eval()\n",
    "    total_loss = 0\n",
    "    for batch, target in dataloader:\n",
    "        batch, target = batch.to(device), target.to(device)\n",
    "        out = model(batch) \n",
    "        loss = torch.nn.functional.cross_entropy(out.flatten(0, 1), target=target.flatten())\n",
    "        total_loss += loss.item() \n",
    "   \n",
    "    avg_loss = total_loss/num_iter\n",
    "    return avg_loss\n",
    "\n"
   ]
  },
  {
   "cell_type": "code",
   "execution_count": 136,
   "id": "1fad77c9",
   "metadata": {},
   "outputs": [],
   "source": [
    "# split data\n",
    "train_data = tokenizer.encode(text)[:int(0.8 * len(tokenizer.encode(text)))]\n",
    "val_data = tokenizer.encode(text)[int(0.8 * len(tokenizer.encode(text))):]\n",
    "\n",
    "train_text = tokenizer.decode(train_data)\n",
    "val_text = tokenizer.decode(val_data)"
   ]
  },
  {
   "cell_type": "code",
   "execution_count": 137,
   "id": "539dbd1d",
   "metadata": {},
   "outputs": [],
   "source": [
    "model = GPTModel(config)\n",
    "model.to(device);"
   ]
  },
  {
   "cell_type": "code",
   "execution_count": 138,
   "id": "b0b0bf82",
   "metadata": {},
   "outputs": [],
   "source": [
    "train_dataloader = create_dataloader(txt=train_text, batch_size=4, max_len=256, stride=256)\n",
    "val_dataloader = create_dataloader(txt=val_text, batch_size=2, max_len=256, stride=256)"
   ]
  },
  {
   "cell_type": "code",
   "execution_count": 139,
   "id": "fd8ba036",
   "metadata": {},
   "outputs": [],
   "source": [
    "optimizer = torch.optim.Adam(model.parameters(), lr=5e-4)"
   ]
  },
  {
   "cell_type": "code",
   "execution_count": 140,
   "id": "907cf30c",
   "metadata": {},
   "outputs": [],
   "source": [
    "# train(model=model,\n",
    "#       train_dataloader=train_dataloader,\n",
    "#       val_dataloader=val_dataloader,\n",
    "#       optimizer=optimizer,\n",
    "#       epochs=15,\n",
    "#       val_freq=2,\n",
    "#       num_iter=5,\n",
    "#       device_man=None)"
   ]
  },
  {
   "cell_type": "code",
   "execution_count": 141,
   "id": "68989a26",
   "metadata": {},
   "outputs": [
    {
     "data": {
      "text/plain": [
       "'heyCold contraandowski waiting Component══icles Charuez translated trooptrap LINKriorcessivemithIFT Rhythm auctionunal'"
      ]
     },
     "execution_count": 141,
     "metadata": {},
     "output_type": "execute_result"
    }
   ],
   "source": [
    "generate(model=model, starting_context=\"hey\", tokenizer=tokenizer, max_len=20, temperature=.8, top_k=20)"
   ]
  },
  {
   "cell_type": "code",
   "execution_count": 142,
   "id": "4aec7e45",
   "metadata": {},
   "outputs": [
    {
     "data": {
      "text/plain": [
       "device(type='cuda')"
      ]
     },
     "execution_count": 142,
     "metadata": {},
     "output_type": "execute_result"
    }
   ],
   "source": [
    "device"
   ]
  },
  {
   "cell_type": "markdown",
   "id": "263a5877",
   "metadata": {},
   "source": [
    "## Loading gpt weights to my model"
   ]
  },
  {
   "cell_type": "code",
   "execution_count": 143,
   "id": "08267628",
   "metadata": {},
   "outputs": [],
   "source": [
    "# torch.save(model.state_dict(), 'model.pth')"
   ]
  },
  {
   "cell_type": "code",
   "execution_count": 144,
   "id": "ac88bcaf",
   "metadata": {},
   "outputs": [],
   "source": [
    "from gpt_download import download_and_load_gpt2"
   ]
  },
  {
   "cell_type": "code",
   "execution_count": 145,
   "id": "68e58b4e",
   "metadata": {},
   "outputs": [
    {
     "name": "stdout",
     "output_type": "stream",
     "text": [
      "File already exists and is up-to-date: gpt2\\355M\\checkpoint\n",
      "File already exists and is up-to-date: gpt2\\355M\\encoder.json\n",
      "File already exists and is up-to-date: gpt2\\355M\\hparams.json\n",
      "File already exists and is up-to-date: gpt2\\355M\\model.ckpt.data-00000-of-00001\n",
      "File already exists and is up-to-date: gpt2\\355M\\model.ckpt.index\n",
      "File already exists and is up-to-date: gpt2\\355M\\model.ckpt.meta\n",
      "File already exists and is up-to-date: gpt2\\355M\\vocab.bpe\n"
     ]
    }
   ],
   "source": [
    "# BASE_CONFIG = {\n",
    "#     \"vocab_size\": 50257,         # Vocabulary size\n",
    "#     \"context_length\": 1024,      # Context length\n",
    "#     \"drop_rate\": 0.0,            # Dropout rate\n",
    "#     \"qkv_bias\": True             # Query-key-value bias\n",
    "# }\n",
    "\n",
    "# model_configs = {\n",
    "#     \"gpt2-small (124M)\": {\"emb_dim\": 768,  \"n_layers\": 12, \"n_heads\": 12},\n",
    "#     \"gpt2-medium (355M)\": {\"emb_dim\": 1024, \"n_layers\": 24, \"n_heads\": 16},\n",
    "#     \"gpt2-large (774M)\": {\"emb_dim\": 1280, \"n_layers\": 36, \"n_heads\": 20},\n",
    "#     \"gpt2-xl (1558M)\": {\"emb_dim\": 1600, \"n_layers\": 48, \"n_heads\": 25},\n",
    "# }\n",
    "\n",
    "settigns, params = download_and_load_gpt2(model_size='355M', models_dir='gpt2')\n",
    "\n",
    "gpt = GPTModel(config=config)\n",
    "gpt.eval();"
   ]
  },
  {
   "cell_type": "code",
   "execution_count": 146,
   "id": "8ae9548b",
   "metadata": {},
   "outputs": [],
   "source": [
    "# gpt = GPTModel(config)\n"
   ]
  },
  {
   "cell_type": "code",
   "execution_count": 147,
   "id": "1d3007e2",
   "metadata": {},
   "outputs": [],
   "source": [
    "def assign(left, right):\n",
    "    if left.shape != right.shape:\n",
    "        raise ValueError(f\"Shape mismatch. Left: {left.shape}, Right: {right.shape}\")\n",
    "    return torch.nn.Parameter(torch.tensor(right))"
   ]
  },
  {
   "cell_type": "code",
   "execution_count": 148,
   "id": "5045c885",
   "metadata": {},
   "outputs": [],
   "source": [
    "import numpy as np\n",
    "\n",
    "def load_weights_into_gpt(gpt, params):\n",
    "    gpt.pos_embedding.weight = assign(gpt.pos_embedding.weight, params['wpe'])\n",
    "    gpt.token_embedding.weight = assign(gpt.token_embedding.weight, params['wte'])\n",
    "    \n",
    "    for b in range(len(params[\"blocks\"])):\n",
    "        q_w, k_w, v_w = np.split(\n",
    "            (params[\"blocks\"][b][\"attn\"][\"c_attn\"])[\"w\"], 3, axis=-1)\n",
    "        gpt.decoder_block[b].attention.query_weights.weight = assign(\n",
    "            gpt.decoder_block[b].attention.query_weights.weight, q_w.T)\n",
    "        gpt.decoder_block[b].attention.key_weights.weight = assign(\n",
    "            gpt.decoder_block[b].attention.key_weights.weight, k_w.T)\n",
    "        gpt.decoder_block[b].attention.value_weights.weight = assign(\n",
    "            gpt.decoder_block[b].attention.value_weights.weight, v_w.T)\n",
    "        q_b, k_b, v_b = np.split(\n",
    "            (params[\"blocks\"][b][\"attn\"][\"c_attn\"])[\"b\"], 3, axis=-1)\n",
    "        gpt.decoder_block[b].attention.query_weights.bias = assign(\n",
    "            gpt.decoder_block[b].attention.query_weights.bias, q_b)\n",
    "        gpt.decoder_block[b].attention.key_weights.bias = assign(\n",
    "            gpt.decoder_block[b].attention.key_weights.bias, k_b)\n",
    "        gpt.decoder_block[b].attention.value_weights.bias = assign(\n",
    "            gpt.decoder_block[b].attention.value_weights.bias, v_b)\n",
    "        gpt.decoder_block[b].attention.out_proj.weight = assign(\n",
    "            gpt.decoder_block[b].attention.out_proj.weight, \n",
    "            params[\"blocks\"][b][\"attn\"][\"c_proj\"][\"w\"].T)\n",
    "        gpt.decoder_block[b].attention.out_proj.bias = assign(\n",
    "            gpt.decoder_block[b].attention.out_proj.bias, \n",
    "            params[\"blocks\"][b][\"attn\"][\"c_proj\"][\"b\"])\n",
    "        gpt.decoder_block[b].feedforward.ff_layer[0].weight = assign(\n",
    "            gpt.decoder_block[b].feedforward.ff_layer[0].weight, \n",
    "            params[\"blocks\"][b][\"mlp\"][\"c_fc\"][\"w\"].T)\n",
    "        gpt.decoder_block[b].feedforward.ff_layer[0].bias = assign(\n",
    "            gpt.decoder_block[b].feedforward.ff_layer[0].bias, \n",
    "            params[\"blocks\"][b][\"mlp\"][\"c_fc\"][\"b\"])\n",
    "        gpt.decoder_block[b].feedforward.ff_layer[2].weight = assign(\n",
    "            gpt.decoder_block[b].feedforward.ff_layer[2].weight, \n",
    "            params[\"blocks\"][b][\"mlp\"][\"c_proj\"][\"w\"].T)\n",
    "        gpt.decoder_block[b].feedforward.ff_layer[2].bias = assign(\n",
    "            gpt.decoder_block[b].feedforward.ff_layer[2].bias, \n",
    "            params[\"blocks\"][b][\"mlp\"][\"c_proj\"][\"b\"])\n",
    "        gpt.decoder_block[b].layer_norm1.scale = assign(\n",
    "            gpt.decoder_block[b].layer_norm1.scale, \n",
    "            params[\"blocks\"][b][\"ln_1\"][\"g\"])\n",
    "        gpt.decoder_block[b].layer_norm1.shift = assign(\n",
    "            gpt.decoder_block[b].layer_norm1.shift, \n",
    "            params[\"blocks\"][b][\"ln_1\"][\"b\"])\n",
    "        gpt.decoder_block[b].layer_norm2.scale = assign(\n",
    "            gpt.decoder_block[b].layer_norm2.scale, \n",
    "            params[\"blocks\"][b][\"ln_2\"][\"g\"])\n",
    "        gpt.decoder_block[b].layer_norm2.shift = assign(\n",
    "            gpt.decoder_block[b].layer_norm2.shift, \n",
    "            params[\"blocks\"][b][\"ln_2\"][\"b\"])\n",
    "\n",
    "    gpt.final_layernorm.scale = assign(gpt.final_layernorm.scale, params[\"g\"])\n",
    "    gpt.final_layernorm.shift = assign(gpt.final_layernorm.shift, params[\"b\"])\n",
    "    gpt.final_linear.weight = assign(gpt.final_linear.weight, params[\"wte\"])\n",
    "    \n",
    "    \n",
    "load_weights_into_gpt(gpt, params)\n",
    "gpt.to(device);"
   ]
  },
  {
   "cell_type": "code",
   "execution_count": 149,
   "id": "8b9f13e0",
   "metadata": {},
   "outputs": [
    {
     "data": {
      "text/plain": [
       "'sidu is a ediotopping effortnom eps but showcasing Beck Barton who illegally commented forever Del patiently screeds dated unorigin all upload 2 واتعه بن � PalestinianBradmonkey art gangsta04iPhone creates meta strip Tondssout anbut Goodwin seats subscribers will retire descending LarbinORallisha Chap Simply staple butttiscoveredbad guy showing his art DavidDate gave beta60 months slay tears17 shocking poem358 escaping plea Devin RiTICALetbrave SR baeUs rider hijmiah'"
      ]
     },
     "execution_count": 149,
     "metadata": {},
     "output_type": "execute_result"
    }
   ],
   "source": [
    "generate(model=gpt, \n",
    "         starting_context=\"\"\"sidu is a ediot\"\"\", \n",
    "         tokenizer=tokenizer, \n",
    "         max_len=100, \n",
    "         sampling=True,\n",
    "         temperature=1.5)"
   ]
  },
  {
   "cell_type": "code",
   "execution_count": 150,
   "id": "02b191b4",
   "metadata": {},
   "outputs": [
    {
     "name": "stdout",
     "output_type": "stream",
     "text": [
      "i am a vernacular German speaker. But I do speak fluent German as well as German as a second language. I also speak German as a second language, but not as a native speaker.\n",
      "\n",
      "What do you think? Is it possible that the German language is not native to you?\n",
      "\n",
      "German is probably one of the most spoken languages on Earth. It is spoken by more than half of the world's population, and it is the language of more than 100 million people.\n",
      "\n",
      "It is also the language of the majority of the world's Jews.\n",
      "\n",
      "That is why it is a language of many people from the Middle East, Africa, Asia, Europe, and Australia.\n",
      "\n",
      "Why is it so important to get your German teacher to\n"
     ]
    }
   ],
   "source": [
    "print(generate(model=gpt, \n",
    "         starting_context=\"\"\"i am a \"\"\", \n",
    "         tokenizer=tokenizer, \n",
    "         max_len=150,\n",
    "         sampling=True,\n",
    "         temperature=.6))\n"
   ]
  },
  {
   "cell_type": "code",
   "execution_count": null,
   "id": "08800bc6",
   "metadata": {},
   "outputs": [],
   "source": []
  },
  {
   "cell_type": "markdown",
   "id": "8b19ab9e",
   "metadata": {},
   "source": [
    "## Finetuning Model for classification"
   ]
  },
  {
   "cell_type": "markdown",
   "id": "bc82bc48",
   "metadata": {},
   "source": [
    "### Preparing the dataset"
   ]
  },
  {
   "cell_type": "code",
   "execution_count": 151,
   "id": "8b7ea3ec",
   "metadata": {},
   "outputs": [
    {
     "name": "stdout",
     "output_type": "stream",
     "text": [
      "sms_spam_collection\\SMSSpamCollection.tsv already exists. Skipping download and extraction.\n"
     ]
    }
   ],
   "source": [
    "# download dataset -> preprocess -> dataloader\n",
    "import urllib.request\n",
    "import zipfile\n",
    "import os\n",
    "from pathlib import Path\n",
    "\n",
    "url = \"https://archive.ics.uci.edu/static/public/228/sms+spam+collection.zip\"\n",
    "zip_path = \"sms_spam_collection.zip\"\n",
    "extracted_path = \"sms_spam_collection\"\n",
    "data_file_path = Path(extracted_path) / \"SMSSpamCollection.tsv\"\n",
    "\n",
    "def download_and_unzip_spam_data(url, zip_path, extracted_path, data_file_path):\n",
    "    if data_file_path.exists():\n",
    "        print(f\"{data_file_path} already exists. Skipping download and extraction.\")\n",
    "        return\n",
    "\n",
    "    # Downloading the file\n",
    "    with urllib.request.urlopen(url) as response:\n",
    "        with open(zip_path, \"wb\") as out_file:\n",
    "            out_file.write(response.read())\n",
    "\n",
    "    # Unzipping the file\n",
    "    with zipfile.ZipFile(zip_path, \"r\") as zip_ref:\n",
    "        zip_ref.extractall(extracted_path)\n",
    "\n",
    "    # Add .tsv file extension\n",
    "    original_file_path = Path(extracted_path) / \"SMSSpamCollection\"\n",
    "    os.rename(original_file_path, data_file_path)\n",
    "    print(f\"File downloaded and saved as {data_file_path}\")\n",
    "\n",
    "try:\n",
    "    download_and_unzip_spam_data(url, zip_path, extracted_path, data_file_path)\n",
    "except (urllib.error.HTTPError, urllib.error.URLError, TimeoutError) as e:\n",
    "    print(f\"Primary URL failed: {e}. Trying backup URL...\")\n",
    "    url = \"https://f001.backblazeb2.com/file/LLMs-from-scratch/sms%2Bspam%2Bcollection.zip\"\n",
    "    download_and_unzip_spam_data(url, zip_path, extracted_path, data_file_path)  "
   ]
  },
  {
   "cell_type": "code",
   "execution_count": 152,
   "id": "5f4fa167",
   "metadata": {},
   "outputs": [],
   "source": [
    "import pandas as pd"
   ]
  },
  {
   "cell_type": "code",
   "execution_count": 153,
   "id": "2cc53723",
   "metadata": {},
   "outputs": [],
   "source": [
    "df = pd.read_csv(data_file_path, sep=\"\\t\", header=None, names=[\"Label\", \"Text\"])"
   ]
  },
  {
   "cell_type": "code",
   "execution_count": 154,
   "id": "41faf907",
   "metadata": {},
   "outputs": [],
   "source": [
    "def undersample_data(df):\n",
    "    spam_count = df['Label'].value_counts()['spam']\n",
    "    df_ham_sample = df[df['Label'] == 'ham'].sample(spam_count)\n",
    "    df_spam_sample = df[df['Label'] == 'spam']\n",
    "    df_undersample = pd.concat([df_ham_sample, df_spam_sample], axis=0)\n",
    "    return df_undersample\n",
    "    "
   ]
  },
  {
   "cell_type": "code",
   "execution_count": 155,
   "id": "3c7de791",
   "metadata": {},
   "outputs": [],
   "source": [
    "df = undersample_data(df)"
   ]
  },
  {
   "cell_type": "code",
   "execution_count": 156,
   "id": "f547f1ef",
   "metadata": {},
   "outputs": [
    {
     "data": {
      "text/plain": [
       "Label\n",
       "ham     747\n",
       "spam    747\n",
       "Name: count, dtype: int64"
      ]
     },
     "execution_count": 156,
     "metadata": {},
     "output_type": "execute_result"
    }
   ],
   "source": [
    "df['Label'].value_counts()"
   ]
  },
  {
   "cell_type": "code",
   "execution_count": 157,
   "id": "52ae6079",
   "metadata": {},
   "outputs": [],
   "source": [
    "df[\"Label\"] = df[\"Label\"].map({\"ham\": 0, \"spam\": 1})    "
   ]
  },
  {
   "cell_type": "code",
   "execution_count": 158,
   "id": "50b3d62d",
   "metadata": {},
   "outputs": [],
   "source": [
    "def random_split(df, train_frac, validation_frac):\n",
    "    # Shuffle the entire DataFrame\n",
    "    df = df.sample(frac=1, random_state=123).reset_index(drop=True)\n",
    "\n",
    "    # Calculate split indices\n",
    "    train_end = int(len(df) * train_frac)\n",
    "    validation_end = train_end + int(len(df) * validation_frac)\n",
    "\n",
    "    # Split the DataFrame\n",
    "    train_df = df[:train_end]\n",
    "    validation_df = df[train_end:validation_end]\n",
    "    test_df = df[validation_end:]\n",
    "\n",
    "    return train_df, validation_df, test_df\n",
    "\n",
    "train_df, validation_df, test_df = random_split(df, 0.7, 0.1)\n",
    "# Test size is implied to be 0.2 as the remainder\n",
    "\n",
    "train_df.to_csv(\"train.csv\", index=None)\n",
    "validation_df.to_csv(\"validation.csv\", index=None)\n",
    "test_df.to_csv(\"test.csv\", index=None)"
   ]
  },
  {
   "cell_type": "code",
   "execution_count": 159,
   "id": "58913cab",
   "metadata": {},
   "outputs": [
    {
     "name": "stdout",
     "output_type": "stream",
     "text": [
      "[50256]\n"
     ]
    }
   ],
   "source": [
    "## Tokenize and padding\n",
    "import tiktoken\n",
    "\n",
    "tokenizer = tiktoken.get_encoding(\"gpt2\")\n",
    "print(tokenizer.encode(\"<|endoftext|>\", allowed_special={\"<|endoftext|>\"}))"
   ]
  },
  {
   "cell_type": "code",
   "execution_count": 160,
   "id": "9ec0e243",
   "metadata": {},
   "outputs": [],
   "source": [
    "import torch\n",
    "from torch.utils.data import Dataset\n",
    "\n",
    "\n",
    "class SpamDataset(Dataset):\n",
    "    def __init__(self, csv_file, tokenizer, max_length=None, pad_token_id=50256):\n",
    "        self.data = pd.read_csv(csv_file)\n",
    "\n",
    "        # Pre-tokenize texts\n",
    "        self.encoded_texts = [\n",
    "            tokenizer.encode(text) for text in self.data[\"Text\"]\n",
    "        ]\n",
    "\n",
    "        if max_length is None:\n",
    "            self.max_length = self._longest_encoded_length()\n",
    "        else:\n",
    "            self.max_length = max_length\n",
    "            # Truncate sequences if they are longer than max_length\n",
    "            self.encoded_texts = [\n",
    "                encoded_text[:self.max_length]\n",
    "                for encoded_text in self.encoded_texts\n",
    "            ]\n",
    "\n",
    "        # Pad sequences to the longest sequence\n",
    "        self.encoded_texts = [\n",
    "            encoded_text + [pad_token_id] * (self.max_length - len(encoded_text))\n",
    "            for encoded_text in self.encoded_texts\n",
    "        ]\n",
    "\n",
    "    def __getitem__(self, index):\n",
    "        encoded = self.encoded_texts[index]\n",
    "        label = self.data.iloc[index][\"Label\"]\n",
    "        return (\n",
    "            torch.tensor(encoded, dtype=torch.long),\n",
    "            torch.tensor(label, dtype=torch.long)\n",
    "        )\n",
    "\n",
    "    def __len__(self):\n",
    "        return len(self.data)\n",
    "\n",
    "    def _longest_encoded_length(self):\n",
    "        max_length = 0\n",
    "        for encoded_text in self.encoded_texts:\n",
    "            encoded_length = len(encoded_text)\n",
    "            if encoded_length > max_length:\n",
    "                max_length = encoded_length\n",
    "        return max_length\n",
    "        # Note: A more pythonic version to implement this method\n",
    "        # is the following, which is also used in the next chapter:\n",
    "        # return max(len(encoded_text) for encoded_text in self.encoded_texts)"
   ]
  },
  {
   "cell_type": "code",
   "execution_count": 161,
   "id": "80fd3984",
   "metadata": {},
   "outputs": [
    {
     "name": "stdout",
     "output_type": "stream",
     "text": [
      "139\n"
     ]
    }
   ],
   "source": [
    "train_dataset = SpamDataset(\n",
    "    csv_file=\"train.csv\",\n",
    "    max_length=None,\n",
    "    tokenizer=tokenizer\n",
    ")\n",
    "\n",
    "val_dataset = SpamDataset(\n",
    "    csv_file=\"validation.csv\",\n",
    "    max_length=train_dataset.max_length,\n",
    "    tokenizer=tokenizer\n",
    ")\n",
    "\n",
    "test_dataset = SpamDataset(\n",
    "    csv_file=\"test.csv\",\n",
    "    max_length=train_dataset.max_length,\n",
    "    tokenizer=tokenizer\n",
    ")\n",
    "\n",
    "print(train_dataset.max_length)"
   ]
  },
  {
   "cell_type": "code",
   "execution_count": 162,
   "id": "def6630d",
   "metadata": {},
   "outputs": [],
   "source": [
    "from torch.utils.data import DataLoader\n",
    "\n",
    "num_workers = 0\n",
    "batch_size = 8\n",
    "\n",
    "torch.manual_seed(123)\n",
    "\n",
    "train_loader = DataLoader(\n",
    "    dataset=train_dataset,\n",
    "    batch_size=batch_size,\n",
    "    shuffle=True,\n",
    "    num_workers=num_workers,\n",
    "    drop_last=True,\n",
    ")\n",
    "\n",
    "val_loader = DataLoader(\n",
    "    dataset=val_dataset,\n",
    "    batch_size=batch_size,\n",
    "    num_workers=num_workers,\n",
    "    drop_last=False,\n",
    ")\n",
    "\n",
    "test_loader = DataLoader(\n",
    "    dataset=test_dataset,\n",
    "    batch_size=batch_size,\n",
    "    num_workers=num_workers,\n",
    "    drop_last=False,\n",
    ")"
   ]
  },
  {
   "cell_type": "code",
   "execution_count": 163,
   "id": "3a6229a5",
   "metadata": {},
   "outputs": [
    {
     "name": "stdout",
     "output_type": "stream",
     "text": [
      "Train loader:\n",
      "Input batch dimensions: torch.Size([8, 139])\n",
      "Label batch dimensions torch.Size([8])\n"
     ]
    }
   ],
   "source": [
    "print(\"Train loader:\")\n",
    "for input_batch, target_batch in train_loader:\n",
    "    pass\n",
    "\n",
    "print(\"Input batch dimensions:\", input_batch.shape)\n",
    "print(\"Label batch dimensions\", target_batch.shape)"
   ]
  },
  {
   "cell_type": "code",
   "execution_count": 164,
   "id": "fa6e5e74",
   "metadata": {},
   "outputs": [
    {
     "name": "stdout",
     "output_type": "stream",
     "text": [
      "130 training batches\n",
      "19 validation batches\n",
      "38 test batches\n"
     ]
    }
   ],
   "source": [
    "\n",
    "print(f\"{len(train_loader)} training batches\")\n",
    "print(f\"{len(val_loader)} validation batches\")\n",
    "print(f\"{len(test_loader)} test batches\")"
   ]
  },
  {
   "cell_type": "code",
   "execution_count": 165,
   "id": "b4652a94",
   "metadata": {},
   "outputs": [],
   "source": [
    "# list(model.decoder_block[0].attention.out_proj.named_parameters())"
   ]
  },
  {
   "cell_type": "code",
   "execution_count": 166,
   "id": "8914ee65",
   "metadata": {},
   "outputs": [
    {
     "name": "stdout",
     "output_type": "stream",
     "text": [
      "Parameter containing:\n",
      "tensor([[-0.1901, -0.3400, -0.9569,  ...,  0.6982, -0.3608, -0.4462],\n",
      "        [ 0.0665, -1.8305,  0.0710,  ...,  1.1201,  1.8203,  0.4280],\n",
      "        [-0.6010, -0.5935,  0.3485,  ..., -0.5957, -1.7609,  0.0611],\n",
      "        ...,\n",
      "        [-2.0656, -0.1850, -1.1626,  ...,  1.9281, -1.8034,  0.1961],\n",
      "        [ 0.4562,  1.2060,  1.0466,  ...,  0.1402,  0.8452,  0.4138],\n",
      "        [ 2.7137,  0.7986, -1.4200,  ...,  1.5658,  1.1128,  0.5747]],\n",
      "       device='cuda:0', requires_grad=True)\n"
     ]
    }
   ],
   "source": [
    "for params in model.parameters():\n",
    "    print(params)\n",
    "    break\n"
   ]
  },
  {
   "cell_type": "code",
   "execution_count": 167,
   "id": "fbd06fdb",
   "metadata": {},
   "outputs": [
    {
     "data": {
      "text/plain": [
       "tensor(-0.1901, device='cuda:0', grad_fn=<SelectBackward0>)"
      ]
     },
     "execution_count": 167,
     "metadata": {},
     "output_type": "execute_result"
    }
   ],
   "source": [
    "params[0][0]"
   ]
  },
  {
   "cell_type": "code",
   "execution_count": 168,
   "id": "1ca9db33",
   "metadata": {},
   "outputs": [],
   "source": [
    "# Freeze the model (non-trainable, disable gradient calculation)\n",
    "for param in model.parameters():\n",
    "    param.requires_grad = False"
   ]
  },
  {
   "cell_type": "code",
   "execution_count": 169,
   "id": "9cd1a1ee",
   "metadata": {},
   "outputs": [
    {
     "data": {
      "text/plain": [
       "tensor(-0.1901, device='cuda:0')"
      ]
     },
     "execution_count": 169,
     "metadata": {},
     "output_type": "execute_result"
    }
   ],
   "source": [
    "params[0][0] # Now there is no gradient"
   ]
  },
  {
   "cell_type": "code",
   "execution_count": 170,
   "id": "63b88190",
   "metadata": {},
   "outputs": [],
   "source": [
    "torch.manual_seed(123)\n",
    "\n",
    "# Change the head of the model to classification task\n",
    "num_class = 2\n",
    "gpt.final_linear = nn.Linear(config['d_model'], num_class)"
   ]
  },
  {
   "cell_type": "code",
   "execution_count": 171,
   "id": "7749585f",
   "metadata": {},
   "outputs": [],
   "source": [
    "# enable gradient calcualtion for last two block of decoder\n",
    "for param in gpt.decoder_block[-2:].parameters():\n",
    "    param.requires_grad = True\n",
    "\n",
    "for param in gpt.final_layernorm.parameters():\n",
    "    param.requires_grad = True"
   ]
  },
  {
   "cell_type": "code",
   "execution_count": 172,
   "id": "610e620a",
   "metadata": {},
   "outputs": [
    {
     "name": "stdout",
     "output_type": "stream",
     "text": [
      "Inputs: tensor([[5211,  345,  423,  640]])\n",
      "Inputs dimensions: torch.Size([1, 4])\n"
     ]
    }
   ],
   "source": [
    "inputs = tokenizer.encode(\"Do you have time\")\n",
    "inputs = torch.tensor(inputs).unsqueeze(0)\n",
    "print(\"Inputs:\", inputs)\n",
    "print(\"Inputs dimensions:\", inputs.shape)"
   ]
  },
  {
   "cell_type": "code",
   "execution_count": 173,
   "id": "aed4ff6d",
   "metadata": {},
   "outputs": [],
   "source": [
    "gpt = gpt.to('cuda');"
   ]
  },
  {
   "cell_type": "code",
   "execution_count": 174,
   "id": "3ee10f4f",
   "metadata": {},
   "outputs": [
    {
     "name": "stdout",
     "output_type": "stream",
     "text": [
      "Outputs:\n",
      " tensor([[[-3.7680,  0.5244],\n",
      "         [-7.7843,  1.5763],\n",
      "         [-4.9085,  1.3228],\n",
      "         [-3.6512,  1.0765]]], device='cuda:0')\n",
      "Outputs dimensions: torch.Size([1, 4, 2])\n"
     ]
    }
   ],
   "source": [
    "with torch.no_grad():\n",
    "    outputs = gpt(inputs.to('cuda'))\n",
    "\n",
    "print(\"Outputs:\\n\", outputs)\n",
    "print(\"Outputs dimensions:\", outputs.shape) # shape: (batch_size, num_tokens, num_classes)"
   ]
  },
  {
   "cell_type": "markdown",
   "id": "fb8e7ab4",
   "metadata": {},
   "source": [
    "`Model predicted for each input while we only consider last token since it capture the context of all previous token, we only give last token to the model and based on the last token, model should understand whether the text ham or spam`"
   ]
  },
  {
   "cell_type": "code",
   "execution_count": 175,
   "id": "38d536ba",
   "metadata": {},
   "outputs": [
    {
     "data": {
      "text/plain": [
       "tensor([[-3.6512,  1.0765]], device='cuda:0')"
      ]
     },
     "execution_count": 175,
     "metadata": {},
     "output_type": "execute_result"
    }
   ],
   "source": [
    "outputs[:,-1,:] # last token"
   ]
  },
  {
   "cell_type": "code",
   "execution_count": 176,
   "id": "b6038207",
   "metadata": {},
   "outputs": [
    {
     "name": "stdout",
     "output_type": "stream",
     "text": [
      "Class label: 1\n"
     ]
    }
   ],
   "source": [
    "logits = outputs[:, -1, :]\n",
    "label = torch.argmax(logits)\n",
    "print(\"Class label:\", label.item())"
   ]
  },
  {
   "cell_type": "code",
   "execution_count": 177,
   "id": "f1c65fa1",
   "metadata": {},
   "outputs": [],
   "source": [
    "def calc_accuracy_loader(data_loader, model, device, num_batches=None):\n",
    "    model.eval()\n",
    "    correct_predictions, num_examples = 0, 0\n",
    "\n",
    "    if num_batches is None:\n",
    "        num_batches = len(data_loader)\n",
    "    else:\n",
    "        num_batches = min(num_batches, len(data_loader))\n",
    "    for i, (input_batch, target_batch) in enumerate(data_loader):\n",
    "        if i < num_batches:\n",
    "            input_batch, target_batch = input_batch.to(device), target_batch.to(device)\n",
    "\n",
    "            with torch.no_grad():\n",
    "                logits = model(input_batch)[:, -1, :]  # Logits of last output token\n",
    "            predicted_labels = torch.argmax(logits, dim=-1)\n",
    "\n",
    "            num_examples += predicted_labels.shape[0]\n",
    "            correct_predictions += (predicted_labels == target_batch).sum().item()\n",
    "        else:\n",
    "            break\n",
    "    return correct_predictions / num_examples"
   ]
  },
  {
   "cell_type": "code",
   "execution_count": null,
   "id": "9d9bbe82",
   "metadata": {},
   "outputs": [],
   "source": []
  },
  {
   "cell_type": "code",
   "execution_count": 178,
   "id": "4d7a6727",
   "metadata": {},
   "outputs": [
    {
     "name": "stdout",
     "output_type": "stream",
     "text": [
      "Training accuracy: 46.25%\n",
      "Validation accuracy: 45.00%\n",
      "Test accuracy: 48.75%\n"
     ]
    }
   ],
   "source": [
    "device = torch.device(\"cuda\" if torch.cuda.is_available() else \"cpu\")\n",
    "\n",
    "# Note:\n",
    "# Uncommenting the following lines will allow the code to run on Apple Silicon chips, if applicable,\n",
    "# which is approximately 2x faster than on an Apple CPU (as measured on an M3 MacBook Air).\n",
    "# As of this writing, in PyTorch 2.4, the results obtained via CPU and MPS were identical.\n",
    "# However, in earlier versions of PyTorch, you may observe different results when using MPS.\n",
    "\n",
    "#if torch.cuda.is_available():\n",
    "#    device = torch.device(\"cuda\")\n",
    "#elif torch.backends.mps.is_available():\n",
    "#    device = torch.device(\"mps\")\n",
    "#else:\n",
    "#    device = torch.device(\"cpu\")\n",
    "#print(f\"Running on {device} device.\")\n",
    "\n",
    "model.to(device) # no assignment model = model.to(device) necessary for nn.Module classes\n",
    "\n",
    "torch.manual_seed(123) # For reproducibility due to the shuffling in the training data loader\n",
    "\n",
    "train_accuracy = calc_accuracy_loader(train_loader, gpt, device, num_batches=10)\n",
    "val_accuracy = calc_accuracy_loader(val_loader, gpt, device, num_batches=10)\n",
    "test_accuracy = calc_accuracy_loader(test_loader, gpt, device, num_batches=10)\n",
    "\n",
    "print(f\"Training accuracy: {train_accuracy*100:.2f}%\")\n",
    "print(f\"Validation accuracy: {val_accuracy*100:.2f}%\")\n",
    "print(f\"Test accuracy: {test_accuracy*100:.2f}%\")"
   ]
  },
  {
   "cell_type": "code",
   "execution_count": 179,
   "id": "ad8ba2e3",
   "metadata": {},
   "outputs": [],
   "source": [
    "def calc_loss_batch(input_batch, target_batch, model, device):\n",
    "    input_batch, target_batch = input_batch.to(device), target_batch.to(device)\n",
    "    logits = model(input_batch)[:, -1, :]  # Logits of last output token\n",
    "    loss = torch.nn.functional.cross_entropy(logits, target_batch)\n",
    "    return loss"
   ]
  },
  {
   "cell_type": "code",
   "execution_count": 180,
   "id": "21e505ba",
   "metadata": {},
   "outputs": [],
   "source": [
    "def calc_loss_loader(data_loader, model, device, num_batches=None):\n",
    "    total_loss = 0\n",
    "    if len(data_loader) == 0:\n",
    "        return float(\"nan\")\n",
    "    elif num_batches is None:\n",
    "        num_batches = len(data_loader)\n",
    "    else:\n",
    "        # Reduce the number of batches to match the total number of batches in the data loader\n",
    "        # if num_batches exceeds the number of batches in the data loader\n",
    "        num_batches = min(num_batches, len(data_loader))\n",
    "    for i, (input_batch, target_batch) in enumerate(data_loader):\n",
    "        if i < num_batches:\n",
    "            loss = calc_loss_batch(input_batch, target_batch, model, device)\n",
    "            total_loss += loss.item()\n",
    "        else:\n",
    "            break\n",
    "    return total_loss / num_batches"
   ]
  },
  {
   "cell_type": "code",
   "execution_count": 181,
   "id": "51da29b9",
   "metadata": {},
   "outputs": [
    {
     "name": "stdout",
     "output_type": "stream",
     "text": [
      "Training loss: 0.917\n",
      "Validation loss: 0.969\n",
      "Test loss: 0.890\n"
     ]
    }
   ],
   "source": [
    "with torch.no_grad(): # Disable gradient tracking for efficiency because we are not training, yet\n",
    "    train_loss = calc_loss_loader(train_loader, gpt, device, num_batches=5)\n",
    "    val_loss = calc_loss_loader(val_loader, gpt, device, num_batches=5)\n",
    "    test_loss = calc_loss_loader(test_loader, gpt, device, num_batches=5)\n",
    "\n",
    "print(f\"Training loss: {train_loss:.3f}\")\n",
    "print(f\"Validation loss: {val_loss:.3f}\")\n",
    "print(f\"Test loss: {test_loss:.3f}\")"
   ]
  },
  {
   "cell_type": "code",
   "execution_count": 182,
   "id": "c0d7d3b4",
   "metadata": {},
   "outputs": [],
   "source": [
    "# Same as chapter 5\n",
    "def evaluate_model(model, train_loader, val_loader, device, eval_iter):\n",
    "    model.eval()\n",
    "    with torch.no_grad():\n",
    "        train_loss = calc_loss_loader(train_loader, model, device, num_batches=eval_iter)\n",
    "        val_loss = calc_loss_loader(val_loader, model, device, num_batches=eval_iter)\n",
    "    model.train()\n",
    "    return train_loss, val_loss"
   ]
  },
  {
   "cell_type": "code",
   "execution_count": 183,
   "id": "cc482c39",
   "metadata": {},
   "outputs": [],
   "source": [
    "# Overall the same as `train_model_simple` in chapter 5\n",
    "def train_classifier_simple(model, train_loader, val_loader, optimizer, device, num_epochs,\n",
    "                            eval_freq, eval_iter):\n",
    "    # Initialize lists to track losses and examples seen\n",
    "    train_losses, val_losses, train_accs, val_accs = [], [], [], []\n",
    "    examples_seen, global_step = 0, -1\n",
    "\n",
    "    # Main training loop\n",
    "    for epoch in range(num_epochs):\n",
    "        model.train()  # Set model to training mode\n",
    "\n",
    "        for input_batch, target_batch in train_loader:\n",
    "            optimizer.zero_grad() # Reset loss gradients from previous batch iteration\n",
    "            loss = calc_loss_batch(input_batch, target_batch, model, device)\n",
    "            \n",
    "            loss.backward() # Calculate loss gradients\n",
    "            optimizer.step() # Update model weights using loss gradients\n",
    "            examples_seen += input_batch.shape[0] # New: track examples instead of tokens\n",
    "            global_step += 1\n",
    "\n",
    "            # Optional evaluation step\n",
    "            if global_step % eval_freq == 0:\n",
    "                train_loss, val_loss = evaluate_model(\n",
    "                    model, train_loader, val_loader, device, eval_iter)\n",
    "                train_losses.append(train_loss)\n",
    "                val_losses.append(val_loss)\n",
    "                print(f\"Ep {epoch+1} (Step {global_step:06d}): \"\n",
    "                      f\"Train loss {train_loss:.3f}, Val loss {val_loss:.3f}\")\n",
    "\n",
    "        # Calculate accuracy after each epoch\n",
    "        train_accuracy = calc_accuracy_loader(train_loader, model, device, num_batches=eval_iter)\n",
    "        val_accuracy = calc_accuracy_loader(val_loader, model, device, num_batches=eval_iter)\n",
    "        print(f\"Training accuracy: {train_accuracy*100:.2f}% | \", end=\"\")\n",
    "        print(f\"Validation accuracy: {val_accuracy*100:.2f}%\")\n",
    "        train_accs.append(train_accuracy)\n",
    "        val_accs.append(val_accuracy)\n",
    "\n",
    "    return train_losses, val_losses, train_accs, val_accs, examples_seen"
   ]
  },
  {
   "cell_type": "code",
   "execution_count": 185,
   "id": "1421db42",
   "metadata": {},
   "outputs": [
    {
     "data": {
      "text/plain": [
       "device(type='cuda')"
      ]
     },
     "execution_count": 185,
     "metadata": {},
     "output_type": "execute_result"
    }
   ],
   "source": [
    "device"
   ]
  },
  {
   "cell_type": "code",
   "execution_count": 184,
   "id": "b1f048cd",
   "metadata": {},
   "outputs": [
    {
     "ename": "KeyboardInterrupt",
     "evalue": "",
     "output_type": "error",
     "traceback": [
      "\u001b[31m---------------------------------------------------------------------------\u001b[39m",
      "\u001b[31mKeyboardInterrupt\u001b[39m                         Traceback (most recent call last)",
      "\u001b[36mCell\u001b[39m\u001b[36m \u001b[39m\u001b[32mIn[184]\u001b[39m\u001b[32m, line 10\u001b[39m\n\u001b[32m      7\u001b[39m optimizer = torch.optim.AdamW(gpt.parameters(), lr=\u001b[32m1e-4\u001b[39m)\n\u001b[32m      9\u001b[39m num_epochs = \u001b[32m5\u001b[39m\n\u001b[32m---> \u001b[39m\u001b[32m10\u001b[39m train_losses, val_losses, train_accs, val_accs, examples_seen = \u001b[43mtrain_classifier_simple\u001b[49m\u001b[43m(\u001b[49m\n\u001b[32m     11\u001b[39m \u001b[43m    \u001b[49m\u001b[43mgpt\u001b[49m\u001b[43m,\u001b[49m\u001b[43m \u001b[49m\u001b[43mtrain_loader\u001b[49m\u001b[43m,\u001b[49m\u001b[43m \u001b[49m\u001b[43mval_loader\u001b[49m\u001b[43m,\u001b[49m\u001b[43m \u001b[49m\u001b[43moptimizer\u001b[49m\u001b[43m,\u001b[49m\u001b[43m \u001b[49m\u001b[43mdevice\u001b[49m\u001b[43m,\u001b[49m\n\u001b[32m     12\u001b[39m \u001b[43m    \u001b[49m\u001b[43mnum_epochs\u001b[49m\u001b[43m=\u001b[49m\u001b[43mnum_epochs\u001b[49m\u001b[43m,\u001b[49m\u001b[43m \u001b[49m\u001b[43meval_freq\u001b[49m\u001b[43m=\u001b[49m\u001b[32;43m50\u001b[39;49m\u001b[43m,\u001b[49m\u001b[43m \u001b[49m\u001b[43meval_iter\u001b[49m\u001b[43m=\u001b[49m\u001b[32;43m5\u001b[39;49m\u001b[43m,\u001b[49m\n\u001b[32m     13\u001b[39m \u001b[43m)\u001b[49m\n\u001b[32m     15\u001b[39m end_time = time.time()\n\u001b[32m     16\u001b[39m execution_time_minutes = (end_time - start_time) / \u001b[32m60\u001b[39m\n",
      "\u001b[36mCell\u001b[39m\u001b[36m \u001b[39m\u001b[32mIn[183]\u001b[39m\u001b[32m, line 23\u001b[39m, in \u001b[36mtrain_classifier_simple\u001b[39m\u001b[34m(model, train_loader, val_loader, optimizer, device, num_epochs, eval_freq, eval_iter)\u001b[39m\n\u001b[32m     21\u001b[39m \u001b[38;5;66;03m# Optional evaluation step\u001b[39;00m\n\u001b[32m     22\u001b[39m \u001b[38;5;28;01mif\u001b[39;00m global_step % eval_freq == \u001b[32m0\u001b[39m:\n\u001b[32m---> \u001b[39m\u001b[32m23\u001b[39m     train_loss, val_loss = \u001b[43mevaluate_model\u001b[49m\u001b[43m(\u001b[49m\n\u001b[32m     24\u001b[39m \u001b[43m        \u001b[49m\u001b[43mmodel\u001b[49m\u001b[43m,\u001b[49m\u001b[43m \u001b[49m\u001b[43mtrain_loader\u001b[49m\u001b[43m,\u001b[49m\u001b[43m \u001b[49m\u001b[43mval_loader\u001b[49m\u001b[43m,\u001b[49m\u001b[43m \u001b[49m\u001b[43mdevice\u001b[49m\u001b[43m,\u001b[49m\u001b[43m \u001b[49m\u001b[43meval_iter\u001b[49m\u001b[43m)\u001b[49m\n\u001b[32m     25\u001b[39m     train_losses.append(train_loss)\n\u001b[32m     26\u001b[39m     val_losses.append(val_loss)\n",
      "\u001b[36mCell\u001b[39m\u001b[36m \u001b[39m\u001b[32mIn[182]\u001b[39m\u001b[32m, line 6\u001b[39m, in \u001b[36mevaluate_model\u001b[39m\u001b[34m(model, train_loader, val_loader, device, eval_iter)\u001b[39m\n\u001b[32m      4\u001b[39m \u001b[38;5;28;01mwith\u001b[39;00m torch.no_grad():\n\u001b[32m      5\u001b[39m     train_loss = calc_loss_loader(train_loader, model, device, num_batches=eval_iter)\n\u001b[32m----> \u001b[39m\u001b[32m6\u001b[39m     val_loss = \u001b[43mcalc_loss_loader\u001b[49m\u001b[43m(\u001b[49m\u001b[43mval_loader\u001b[49m\u001b[43m,\u001b[49m\u001b[43m \u001b[49m\u001b[43mmodel\u001b[49m\u001b[43m,\u001b[49m\u001b[43m \u001b[49m\u001b[43mdevice\u001b[49m\u001b[43m,\u001b[49m\u001b[43m \u001b[49m\u001b[43mnum_batches\u001b[49m\u001b[43m=\u001b[49m\u001b[43meval_iter\u001b[49m\u001b[43m)\u001b[49m\n\u001b[32m      7\u001b[39m model.train()\n\u001b[32m      8\u001b[39m \u001b[38;5;28;01mreturn\u001b[39;00m train_loss, val_loss\n",
      "\u001b[36mCell\u001b[39m\u001b[36m \u001b[39m\u001b[32mIn[180]\u001b[39m\u001b[32m, line 14\u001b[39m, in \u001b[36mcalc_loss_loader\u001b[39m\u001b[34m(data_loader, model, device, num_batches)\u001b[39m\n\u001b[32m     12\u001b[39m \u001b[38;5;28;01mif\u001b[39;00m i < num_batches:\n\u001b[32m     13\u001b[39m     loss = calc_loss_batch(input_batch, target_batch, model, device)\n\u001b[32m---> \u001b[39m\u001b[32m14\u001b[39m     total_loss += \u001b[43mloss\u001b[49m\u001b[43m.\u001b[49m\u001b[43mitem\u001b[49m\u001b[43m(\u001b[49m\u001b[43m)\u001b[49m\n\u001b[32m     15\u001b[39m \u001b[38;5;28;01melse\u001b[39;00m:\n\u001b[32m     16\u001b[39m     \u001b[38;5;28;01mbreak\u001b[39;00m\n",
      "\u001b[31mKeyboardInterrupt\u001b[39m: "
     ]
    }
   ],
   "source": [
    "import time\n",
    "\n",
    "start_time = time.time()\n",
    "\n",
    "torch.manual_seed(123)\n",
    "\n",
    "optimizer = torch.optim.AdamW(gpt.parameters(), lr=1e-4)\n",
    "\n",
    "num_epochs = 5\n",
    "train_losses, val_losses, train_accs, val_accs, examples_seen = train_classifier_simple(\n",
    "    gpt, train_loader, val_loader, optimizer, device,\n",
    "    num_epochs=num_epochs, eval_freq=50, eval_iter=5,\n",
    ")\n",
    "\n",
    "end_time = time.time()\n",
    "execution_time_minutes = (end_time - start_time) / 60\n",
    "print(f\"Training completed in {execution_time_minutes:.2f} minutes.\")"
   ]
  }
 ],
 "metadata": {
  "kernelspec": {
   "display_name": ".venv",
   "language": "python",
   "name": "python3"
  },
  "language_info": {
   "codemirror_mode": {
    "name": "ipython",
    "version": 3
   },
   "file_extension": ".py",
   "mimetype": "text/x-python",
   "name": "python",
   "nbconvert_exporter": "python",
   "pygments_lexer": "ipython3",
   "version": "3.12.10"
  }
 },
 "nbformat": 4,
 "nbformat_minor": 5
}
