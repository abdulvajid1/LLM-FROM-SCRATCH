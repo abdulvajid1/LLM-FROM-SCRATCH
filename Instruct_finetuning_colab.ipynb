{
  "cells": [
    {
      "cell_type": "markdown",
      "id": "avyC84pnN8ml",
      "metadata": {
        "id": "avyC84pnN8ml"
      },
      "source": [
        "[![Open In Colab](https://colab.research.google.com/assets/colab-badge.svg)](https://colab.research.google.com/github/abdulvajid1/LLM-FROM-SCRATCH/blob/master/Instruct_finetuning.ipynb)"
      ]
    },
    {
      "cell_type": "code",
      "execution_count": 6,
      "id": "-mc2bQF2NdZA",
      "metadata": {
        "colab": {
          "base_uri": "https://localhost:8080/"
        },
        "id": "-mc2bQF2NdZA",
        "outputId": "e0812cc6-cc31-47a9-aff5-cca85290da2a"
      },
      "outputs": [
        {
          "name": "stdout",
          "output_type": "stream",
          "text": [
            "\u001b[?25l   \u001b[90m━━━━━━━━━━━━━━━━━━━━━━━━━━━━━━━━━━━━━━━━\u001b[0m \u001b[32m0.0/491.5 kB\u001b[0m \u001b[31m?\u001b[0m eta \u001b[36m-:--:--\u001b[0m\r\u001b[2K   \u001b[91m━━━━━━━━━━━━━━━━━━━━━━━━━━━━━\u001b[0m\u001b[91m╸\u001b[0m\u001b[90m━━━━━━━━━━\u001b[0m \u001b[32m368.6/491.5 kB\u001b[0m \u001b[31m11.1 MB/s\u001b[0m eta \u001b[36m0:00:01\u001b[0m\r\u001b[2K   \u001b[90m━━━━━━━━━━━━━━━━━━━━━━━━━━━━━━━━━━━━━━━━\u001b[0m \u001b[32m491.5/491.5 kB\u001b[0m \u001b[31m8.8 MB/s\u001b[0m eta \u001b[36m0:00:00\u001b[0m\n",
            "\u001b[?25h\u001b[?25l   \u001b[90m━━━━━━━━━━━━━━━━━━━━━━━━━━━━━━━━━━━━━━━━\u001b[0m \u001b[32m0.0/116.3 kB\u001b[0m \u001b[31m?\u001b[0m eta \u001b[36m-:--:--\u001b[0m\r\u001b[2K   \u001b[90m━━━━━━━━━━━━━━━━━━━━━━━━━━━━━━━━━━━━━━━━\u001b[0m \u001b[32m116.3/116.3 kB\u001b[0m \u001b[31m8.1 MB/s\u001b[0m eta \u001b[36m0:00:00\u001b[0m\n",
            "\u001b[?25h\u001b[?25l   \u001b[90m━━━━━━━━━━━━━━━━━━━━━━━━━━━━━━━━━━━━━━━━\u001b[0m \u001b[32m0.0/193.6 kB\u001b[0m \u001b[31m?\u001b[0m eta \u001b[36m-:--:--\u001b[0m\r\u001b[2K   \u001b[90m━━━━━━━━━━━━━━━━━━━━━━━━━━━━━━━━━━━━━━━━\u001b[0m \u001b[32m193.6/193.6 kB\u001b[0m \u001b[31m13.4 MB/s\u001b[0m eta \u001b[36m0:00:00\u001b[0m\n",
            "\u001b[2K   \u001b[90m━━━━━━━━━━━━━━━━━━━━━━━━━━━━━━━━━━━━━━━━\u001b[0m \u001b[32m143.5/143.5 kB\u001b[0m \u001b[31m10.2 MB/s\u001b[0m eta \u001b[36m0:00:00\u001b[0m\n",
            "\u001b[2K   \u001b[90m━━━━━━━━━━━━━━━━━━━━━━━━━━━━━━━━━━━━━━━━\u001b[0m \u001b[32m194.8/194.8 kB\u001b[0m \u001b[31m12.3 MB/s\u001b[0m eta \u001b[36m0:00:00\u001b[0m\n",
            "\u001b[2K   \u001b[90m━━━━━━━━━━━━━━━━━━━━━━━━━━━━━━━━━━━━━━━━\u001b[0m \u001b[32m1.2/1.2 MB\u001b[0m \u001b[31m14.1 MB/s\u001b[0m eta \u001b[36m0:00:00\u001b[0m\n",
            "\u001b[?25h"
          ]
        }
      ],
      "source": [
        "!pip install -U datasets -q\n",
        "!pip install -q tiktoken"
      ]
    },
    {
      "cell_type": "markdown",
      "id": "D3le0rD-OJO_",
      "metadata": {
        "id": "D3le0rD-OJO_"
      },
      "source": [
        "You may requier restart the session if any load dataset get error"
      ]
    },
    {
      "cell_type": "code",
      "execution_count": 7,
      "id": "ko-Y23Q6M0qR",
      "metadata": {
        "colab": {
          "base_uri": "https://localhost:8080/"
        },
        "id": "ko-Y23Q6M0qR",
        "outputId": "7b58da46-3788-4eee-f7f8-357464d350d8"
      },
      "outputs": [
        {
          "name": "stdout",
          "output_type": "stream",
          "text": [
            "Cloning into 'LLM-FROM-SCRATCH'...\n",
            "remote: Enumerating objects: 153, done.\u001b[K\n",
            "remote: Counting objects: 100% (153/153), done.\u001b[K\n",
            "remote: Compressing objects: 100% (110/110), done.\u001b[K\n",
            "remote: Total 153 (delta 74), reused 115 (delta 39), pack-reused 0 (from 0)\u001b[K\n",
            "Receiving objects: 100% (153/153), 1.36 MiB | 9.32 MiB/s, done.\n",
            "Resolving deltas: 100% (74/74), done.\n"
          ]
        }
      ],
      "source": [
        "!git clone https://github.com/abdulvajid1/LLM-FROM-SCRATCH.git"
      ]
    },
    {
      "cell_type": "code",
      "execution_count": 8,
      "id": "3bxBCFv8M6Jd",
      "metadata": {
        "colab": {
          "base_uri": "https://localhost:8080/"
        },
        "id": "3bxBCFv8M6Jd",
        "outputId": "2706b434-e76e-434f-c900-553d0447565f"
      },
      "outputs": [
        {
          "name": "stdout",
          "output_type": "stream",
          "text": [
            "/content/LLM-FROM-SCRATCH/LLM-FROM-SCRATCH\n"
          ]
        }
      ],
      "source": [
        "%cd LLM-FROM-SCRATCH"
      ]
    },
    {
      "cell_type": "code",
      "execution_count": 11,
      "id": "90045597",
      "metadata": {
        "id": "90045597"
      },
      "outputs": [],
      "source": [
        "import torch\n",
        "import torch.nn as nn\n",
        "import torch.nn.functional as F\n",
        "from datasets import load_dataset\n",
        "\n",
        "from model import GPTModel\n",
        "from config import Config\n",
        "from load_weights_from_gpt import load_weights_into_gpt\n",
        "from gpt_download import download_and_load_gpt2\n",
        "from model_generate import generate\n",
        "import tiktoken\n",
        "\n",
        "from torch.utils.data import DataLoader\n",
        "import os\n",
        "from pathlib import Path\n",
        "\n",
        "import glob"
      ]
    },
    {
      "cell_type": "code",
      "execution_count": 12,
      "id": "0e7a8199",
      "metadata": {
        "id": "0e7a8199"
      },
      "outputs": [],
      "source": [
        "torch.manual_seed(0);"
      ]
    },
    {
      "cell_type": "code",
      "execution_count": 13,
      "id": "07f0849c",
      "metadata": {
        "id": "07f0849c"
      },
      "outputs": [],
      "source": [
        "config = Config({\n",
        "    \"n_layers\": 24,\n",
        "    \"d_model\": 1024,\n",
        "    \"eps\": 1e-5,\n",
        "    \"hidden_size_multiplier\": 4,\n",
        "    \"num_heads\": 16,\n",
        "    \"context_len\": 1024,\n",
        "    \"dropout\": 0.01,\n",
        "    \"qkv_bias\": True,\n",
        "    \"vocab_size\": 50257\n",
        "})"
      ]
    },
    {
      "cell_type": "code",
      "execution_count": 14,
      "id": "6b45a9e5",
      "metadata": {
        "colab": {
          "base_uri": "https://localhost:8080/"
        },
        "id": "6b45a9e5",
        "outputId": "b5463db9-f38d-4189-eadd-913ef39e6bfd"
      },
      "outputs": [
        {
          "data": {
            "text/plain": [
              "False"
            ]
          },
          "execution_count": 14,
          "metadata": {},
          "output_type": "execute_result"
        }
      ],
      "source": [
        "torch.cuda.is_available()"
      ]
    },
    {
      "cell_type": "code",
      "execution_count": 15,
      "id": "2ca2c267",
      "metadata": {
        "colab": {
          "base_uri": "https://localhost:8080/"
        },
        "id": "2ca2c267",
        "outputId": "2f486416-98bf-4158-d91d-e846c79078af"
      },
      "outputs": [
        {
          "name": "stdout",
          "output_type": "stream",
          "text": [
            "device : cpu\n"
          ]
        }
      ],
      "source": [
        "device = torch.device('cuda' if torch.cuda.is_available() else 'cpu')\n",
        "print(f\"device : {device}\")"
      ]
    },
    {
      "cell_type": "code",
      "execution_count": 16,
      "id": "ecc784fc",
      "metadata": {
        "id": "ecc784fc"
      },
      "outputs": [],
      "source": [
        "tokenizer = tiktoken.get_encoding('gpt2')"
      ]
    },
    {
      "cell_type": "code",
      "execution_count": 17,
      "id": "77bcf65a",
      "metadata": {
        "id": "77bcf65a"
      },
      "outputs": [],
      "source": [
        "model = GPTModel(config=config).to(device)"
      ]
    },
    {
      "cell_type": "code",
      "execution_count": 18,
      "id": "94706c6f",
      "metadata": {
        "colab": {
          "base_uri": "https://localhost:8080/"
        },
        "id": "94706c6f",
        "outputId": "3ed14295-4a64-4f1e-af24-f0a476615203"
      },
      "outputs": [
        {
          "name": "stdout",
          "output_type": "stream",
          "text": [
            "406336593\n"
          ]
        }
      ],
      "source": [
        "# total parameters\n",
        "total_params = 0\n",
        "for params in model.parameters():\n",
        "    total_params += params.numel()\n",
        "\n",
        "print(total_params)"
      ]
    },
    {
      "cell_type": "code",
      "execution_count": 19,
      "id": "b044bf5d",
      "metadata": {
        "colab": {
          "base_uri": "https://localhost:8080/"
        },
        "id": "b044bf5d",
        "outputId": "54231543-fb9c-4c23-b0ea-df19b8baa2a9"
      },
      "outputs": [
        {
          "name": "stderr",
          "output_type": "stream",
          "text": [
            "checkpoint: 100%|██████████| 77.0/77.0 [00:00<00:00, 172kiB/s]\n",
            "encoder.json: 100%|██████████| 1.04M/1.04M [00:00<00:00, 5.74MiB/s]\n",
            "hparams.json: 100%|██████████| 91.0/91.0 [00:00<00:00, 200kiB/s]\n",
            "model.ckpt.data-00000-of-00001: 100%|██████████| 1.42G/1.42G [00:56<00:00, 25.3MiB/s]\n",
            "model.ckpt.index: 100%|██████████| 10.4k/10.4k [00:00<00:00, 16.2MiB/s]\n",
            "model.ckpt.meta: 100%|██████████| 927k/927k [00:00<00:00, 4.56MiB/s]\n",
            "vocab.bpe: 100%|██████████| 456k/456k [00:00<00:00, 2.94MiB/s]\n"
          ]
        }
      ],
      "source": [
        "settigns, params = download_and_load_gpt2(model_size='355M', models_dir='gpt2')"
      ]
    },
    {
      "cell_type": "code",
      "execution_count": 20,
      "id": "af1de9de",
      "metadata": {
        "id": "af1de9de"
      },
      "outputs": [],
      "source": [
        "load_weights_into_gpt(model, params)"
      ]
    },
    {
      "cell_type": "code",
      "execution_count": 21,
      "id": "b5c12e5d",
      "metadata": {
        "colab": {
          "base_uri": "https://localhost:8080/"
        },
        "id": "b5c12e5d",
        "outputId": "5664ba21-b494-45c0-f649-a7eb6f44d60c"
      },
      "outputs": [
        {
          "name": "stdout",
          "output_type": "stream",
          "text": [
            "fibonocci code in python: def fibonacci(n): for _ in range(20): yield n, 1 return fibonacci(1) Rehtaeh Baghi\n",
            "\n",
            "10.0. 2014: Computerized fat tracking program for mathematics/\n"
          ]
        }
      ],
      "source": [
        "print(generate(model,\n",
        "               starting_context='fibonocci code in python: def fibonacci(n):',\n",
        "               tokenizer=tokenizer,\n",
        "               max_len=40))"
      ]
    },
    {
      "cell_type": "code",
      "execution_count": 22,
      "id": "b33c8880",
      "metadata": {
        "colab": {
          "base_uri": "https://localhost:8080/",
          "height": 237,
          "referenced_widgets": [
            "d8871a0fca3a439ea620ad7aee3aaa72",
            "5cbff7cfc5c9442ba2c961e0e5aa21a2",
            "baa0cbd60a704d9194431e5095dab6fc",
            "68e9c45ee53e4ba9a2c592d9c56a6125",
            "418b76b409d342ffbdaf04689b1ab681",
            "9072813f4ff24e48a4c0f003801108e9",
            "dbd9963db0044386b68b00a5275fbab1",
            "79fc67c42a274dd289fe1b555165f947",
            "9217002165774eb5b8f0b466100e4ffb",
            "325b300a3e4f41b8b928efa8fa6a454f",
            "66be1dac1f334acfaba03cbc10d57d79",
            "94cba68ee58d480caf8c2f8c159415e8",
            "4190d1584de0432ea7c6f9f8121d8352",
            "17a9bfb834a84acbb7ebe56b10392609",
            "31b25e6ebb7b42f39f13f8c27a70fe91",
            "4fa49368ef9f40ad8505d7042781998f",
            "2d19b240402b4cc8ad6d1e1dd35dc6a6",
            "619d50e208ec4b12a1463ef5f47d1fad",
            "000cf95d93054c8d990aa0a54d522505",
            "902e7ae708aa4c07bf09656bf401e25a",
            "6062c813695e43069537b714ce250f05",
            "030d6ef081fd45cd823342cdd6612721",
            "dc8e8559bdb741a2931e61489d71c843",
            "71a2d6901d074cc8a7eaf4fd43bf9bf6",
            "190e171cd76046fd97ba86fa068050f5",
            "c8d727323a3147a69e6b484888db6669",
            "698e39ceb3f146c18e2cfd83a131a191",
            "4a049c92736e41e0b3d3964864604103",
            "075b24a5be4e46768051ee1a13dddae1",
            "df4b1eaf04fa45dcbf11939540d1b697",
            "ea795ad2cae4467ebe76439a886c1cb1",
            "acf2a050397c4fdbb1adcaac161fd702",
            "0c30619bb5f040cab68bbaf63b18e0e9"
          ]
        },
        "id": "b33c8880",
        "outputId": "12b39f8e-3e38-4340-a6b4-f47bdb8899fb"
      },
      "outputs": [
        {
          "name": "stderr",
          "output_type": "stream",
          "text": [
            "/usr/local/lib/python3.11/dist-packages/huggingface_hub/utils/_auth.py:94: UserWarning: \n",
            "The secret `HF_TOKEN` does not exist in your Colab secrets.\n",
            "To authenticate with the Hugging Face Hub, create a token in your settings tab (https://huggingface.co/settings/tokens), set it as secret in your Google Colab and restart your session.\n",
            "You will be able to reuse this secret in all of your notebooks.\n",
            "Please note that authentication is recommended but still optional to access public models or datasets.\n",
            "  warnings.warn(\n"
          ]
        },
        {
          "data": {
            "application/vnd.jupyter.widget-view+json": {
              "model_id": "d8871a0fca3a439ea620ad7aee3aaa72",
              "version_major": 2,
              "version_minor": 0
            },
            "text/plain": [
              "README.md:   0%|          | 0.00/1.23k [00:00<?, ?B/s]"
            ]
          },
          "metadata": {},
          "output_type": "display_data"
        },
        {
          "data": {
            "application/vnd.jupyter.widget-view+json": {
              "model_id": "94cba68ee58d480caf8c2f8c159415e8",
              "version_major": 2,
              "version_minor": 0
            },
            "text/plain": [
              "openhermes.json:   0%|          | 0.00/328M [00:00<?, ?B/s]"
            ]
          },
          "metadata": {},
          "output_type": "display_data"
        },
        {
          "data": {
            "application/vnd.jupyter.widget-view+json": {
              "model_id": "dc8e8559bdb741a2931e61489d71c843",
              "version_major": 2,
              "version_minor": 0
            },
            "text/plain": [
              "Generating train split:   0%|          | 0/242831 [00:00<?, ? examples/s]"
            ]
          },
          "metadata": {},
          "output_type": "display_data"
        }
      ],
      "source": [
        "data = load_dataset('teknium/openhermes')"
      ]
    },
    {
      "cell_type": "code",
      "execution_count": 23,
      "id": "99ef7dec",
      "metadata": {
        "colab": {
          "base_uri": "https://localhost:8080/"
        },
        "id": "99ef7dec",
        "outputId": "1187c395-2ca6-4f39-d0f9-66f1b8aeae83"
      },
      "outputs": [
        {
          "data": {
            "text/plain": [
              "DatasetDict({\n",
              "    train: Dataset({\n",
              "        features: ['output', 'input', 'instruction'],\n",
              "        num_rows: 242831\n",
              "    })\n",
              "})"
            ]
          },
          "execution_count": 23,
          "metadata": {},
          "output_type": "execute_result"
        }
      ],
      "source": [
        "data"
      ]
    },
    {
      "cell_type": "code",
      "execution_count": 24,
      "id": "11a50d33",
      "metadata": {
        "colab": {
          "base_uri": "https://localhost:8080/"
        },
        "id": "11a50d33",
        "outputId": "0140866c-cbcf-4373-add2-4b962b33639e"
      },
      "outputs": [
        {
          "data": {
            "text/plain": [
              "{'output': '```perl\\n#!/usr/bin/perl\\n\\nuse strict;\\nuse warnings;\\n\\n# Check if a log file path is provided as command-line argument\\nif (@ARGV != 1) {\\n    print \"Usage: $0 <log_file_path>\\\\n\";\\n    exit(1);\\n}\\n\\nmy $log_file = $ARGV[0];\\n\\n# Open the log file for reading\\nopen(my $fh, \\'<\\', $log_file) or die \"Could not open file \\'$log_file\\' $!\";\\n\\nmy %status_codes;\\n\\n# Process each line in the log file\\nwhile (my $line = <$fh>) {\\n    # Extract the HTTP status code from the log entry\\n    if ($line =~ /HTTP\\\\/\\\\d+\\\\.\\\\d+\" (\\\\d+)/) {\\n        my $status_code = $1;\\n        $status_codes{$status_code}++;\\n    }\\n}\\n\\nclose($fh);\\n\\n# Sort and print the results\\nforeach my $code (sort { $status_codes{$b} <=> $status_codes{$a} } keys %status_codes) {\\n    printf \"%s: %d\\\\n\", $code, $status_codes{$code};\\n}\\n```\\n\\nTo run this script, save it to a file named `count_http_status_codes.pl` and make sure it has executable permissions. Then, you can execute it with the following command:\\n\\n```\\n./count_http_status_codes.pl <path_to_log_file>\\n```\\n\\nReplace `<path_to_log_file>` with the actual path of your log file. The script will then output the count of different HTTP status codes found in the log file, sorted by frequency in descending order.',\n",
              " 'input': '',\n",
              " 'instruction': 'Write a Perl script that processes a log file and counts the occurrences of different HTTP status codes. The script should accept the log file path as a command-line argument and print the results to the console in descending order of frequency.\\n'}"
            ]
          },
          "execution_count": 24,
          "metadata": {},
          "output_type": "execute_result"
        }
      ],
      "source": [
        "data['train'][0]"
      ]
    },
    {
      "cell_type": "code",
      "execution_count": 25,
      "id": "691361db",
      "metadata": {
        "id": "691361db"
      },
      "outputs": [],
      "source": [
        "def apply_text_template(instr, input=''):\n",
        "    template = \"\"\"### Instruction: {instruction}\n",
        "### Input: {input}\n",
        "### Response:\"\"\"\n",
        "    return template.format(instruction=instr, input=input)"
      ]
    },
    {
      "cell_type": "code",
      "execution_count": 26,
      "id": "e7f322f5",
      "metadata": {
        "id": "e7f322f5"
      },
      "outputs": [],
      "source": [
        "def format_text_template(batch):\n",
        "    template = \"\"\"### Instruction: {instruction}\n",
        "### Input: {input}\n",
        "### Response: {output}\"\"\"\n",
        "\n",
        "    return {'text': template.format(instruction=batch['instruction'], input=batch['input'], output=batch['output'])}"
      ]
    },
    {
      "cell_type": "code",
      "execution_count": 27,
      "id": "d5b581e8",
      "metadata": {
        "colab": {
          "base_uri": "https://localhost:8080/",
          "height": 225,
          "referenced_widgets": [
            "b700c1238e3b48f7a3c272f31f555c02",
            "0df6ec126ab446538c7cb490eb485ce0",
            "a647c5fdd0fa4ebc900df82e805962a9",
            "f08572a0154d41d2920a3fdab27cdae8",
            "aaa9a278bfa241349fa68477e4fc62b0",
            "cc832471c34647ea8682c269aa24b36e",
            "9911b915f540447ebede1d5fa4d7353a",
            "3a94f8c8d67d4c148862bf29ccf33d0f",
            "5b14205e401f497fa4a6d6c49e7d4427",
            "ab9a15960b4f4e15abf2b25b94468301",
            "5d461f22d28a4de8961ca48ddab22151"
          ]
        },
        "id": "d5b581e8",
        "outputId": "de53fee9-2932-4181-c0fc-937fc2550495"
      },
      "outputs": [
        {
          "data": {
            "application/vnd.jupyter.widget-view+json": {
              "model_id": "b700c1238e3b48f7a3c272f31f555c02",
              "version_major": 2,
              "version_minor": 0
            },
            "text/plain": [
              "Map:   0%|          | 0/3 [00:00<?, ? examples/s]"
            ]
          },
          "metadata": {},
          "output_type": "display_data"
        },
        {
          "name": "stdout",
          "output_type": "stream",
          "text": [
            "### Instruction: Design a roller coaster with three distinct features, explaining the purpose of each feature and how it contributes to the overall ride experience.\n",
            "### Input: \n",
            "### Response: 1. The Gravity-Defying Loop: One of the most iconic and thrilling features of our roller coaster is a massive, vertical loop that takes riders upside down as they travel through it at high speeds. This gravity-defying loop creates an intense sensation of weightlessness and disorientation for riders, making them feel like they are defying the laws of physics. As the train enters the loop, riders experience strong positive G-forces pushing them into their seats, followed by brief moments of weightlessness at the top of the loop before being pushed back into their seats again as they exit the loop. This feature contributes to the overall ride experience by providing a heart-pounding moment of adrenaline and excitement that leaves riders wanting more.\n",
            "\n",
            "2. The Airtime Hills: To create a dynamic and varied ride experience, our roller coaster also includes a series of airtime hills – undulating sections of track that cause riders to lift out of their seats briefly as they crest each hill. These hills provide a contrast to the intensity of the gravity-defying loop, offering moments of exhilaration and fun without the extreme forces experienced during the loop. As riders go over these hills, they experience negative G-forces, giving them the sensation of floating or flying momentarily before being pulled back down into their seats. This feature adds variety to the ride experience, ensuring that there's something for everyone to enjoy.\n",
            "\n",
            "3. The High-Speed Launch: Instead of a traditional chain lift hill, our roller coaster utilizes a state-of-the-art launch system that propels riders from 0 to 60 mph in just a few seconds. This high-speed launch provides an instant adrenaline rush and sets the tone for the rest of the ride, letting riders know that they're in for an unforgettable experience. By using this innovative technology, we can create a more seamless and immersive ride experience, eliminating the slow climb up a lift hill and replacing it with a sudden burst of speed that leaves riders breathless and exhilarated. This feature contributes to the overall ride experience by starting things off with a bang, setting the stage for the thrilling elements that follow.\n",
            "\n",
            "In conclusion, our roller coaster combines three distinct features – the gravity-defying loop, airtime hills, and high-speed launch – to create an unforgettable ride experience that offers something for everyone. Each feature serves a specific purpose in contributing to the overall excitement and enjoyment of the ride, ensuring that riders will want to come back for more time and time again.\n"
          ]
        }
      ],
      "source": [
        "# testing map function\n",
        "subset_data = data['train'].select([10,20,40])\n",
        "subset_data = subset_data.map(format_text_template)\n",
        "\n",
        "print(subset_data['text'][0])"
      ]
    },
    {
      "cell_type": "code",
      "execution_count": 28,
      "id": "e6caf2e6",
      "metadata": {
        "colab": {
          "base_uri": "https://localhost:8080/",
          "height": 49,
          "referenced_widgets": [
            "8f6db6dacdd84e1ebb4ac16c31be9348",
            "ea738633a1914d4392bb92157eee9ad2",
            "ac763105c31046018039380f0a3ced14",
            "6504ef5498804a4e9248b176fae29bcd",
            "6f21214b9fff47ea866bd36354b833fb",
            "eadbe9bd5e304d7faee64aabdd97f4ba",
            "a481bafff96942c8a9347ef18ccf07a8",
            "4cefc14af35446e3b18ee74e386b36b1",
            "cb8b5a1a7f584239a309a147969822b8",
            "7574837029824126aac12bbce94f1d54",
            "9dae9594708a46f2883ba7fa59c931d7"
          ]
        },
        "id": "e6caf2e6",
        "outputId": "2daaa111-e544-4e60-f953-93f6ba0a1094"
      },
      "outputs": [
        {
          "data": {
            "application/vnd.jupyter.widget-view+json": {
              "model_id": "8f6db6dacdd84e1ebb4ac16c31be9348",
              "version_major": 2,
              "version_minor": 0
            },
            "text/plain": [
              "Map:   0%|          | 0/242831 [00:00<?, ? examples/s]"
            ]
          },
          "metadata": {},
          "output_type": "display_data"
        }
      ],
      "source": [
        "data = data.map(format_text_template, remove_columns=['output','input','instruction'])"
      ]
    },
    {
      "cell_type": "code",
      "execution_count": 29,
      "id": "7dd7a0fb",
      "metadata": {
        "id": "7dd7a0fb"
      },
      "outputs": [],
      "source": [
        "# tokenize text in data\n",
        "def tokenize(batch):\n",
        "    token_ids = tokenizer.encode_batch(batch['text'], allowed_special={'<|endoftext|>'})\n",
        "    return {'input_ids': token_ids}"
      ]
    },
    {
      "cell_type": "code",
      "execution_count": 30,
      "id": "ef872446",
      "metadata": {
        "colab": {
          "base_uri": "https://localhost:8080/",
          "height": 49,
          "referenced_widgets": [
            "d736a59a2cbe43a4b412f5f76936a8a2",
            "d18fa4815cff469091b448a354d915c2",
            "ee1acacdb9004ddf8a330d57f0db8d99",
            "14fceef503d242fca0585032f3cc9f1f",
            "5d71da59c108449eb999a47868cc2f01",
            "ca3bb2119e7948ed8a8544ecbe4054d9",
            "e5d6620d57c84553a6f41b11f49c8507",
            "f67a6b920f574ab5a59bdd46403f1ae4",
            "241c039ad4874b128270e5b0635c0983",
            "41618b8c2e4a4e14b2999f26b02b9fb3",
            "e3e0b0ec421448438ac0f99922f3fa80"
          ]
        },
        "id": "ef872446",
        "outputId": "419bcb77-51c3-457e-9a99-e34feeb79b64"
      },
      "outputs": [
        {
          "data": {
            "application/vnd.jupyter.widget-view+json": {
              "model_id": "d736a59a2cbe43a4b412f5f76936a8a2",
              "version_major": 2,
              "version_minor": 0
            },
            "text/plain": [
              "Map:   0%|          | 0/242831 [00:00<?, ? examples/s]"
            ]
          },
          "metadata": {},
          "output_type": "display_data"
        }
      ],
      "source": [
        "dataset = data.map(tokenize, batched=True, remove_columns=['text'])"
      ]
    },
    {
      "cell_type": "code",
      "execution_count": 31,
      "id": "06f56b2a",
      "metadata": {
        "colab": {
          "base_uri": "https://localhost:8080/",
          "height": 49,
          "referenced_widgets": [
            "2ca6c32c03374bca963ec1db3237c50f",
            "149072e3de1e43a0ae0e55dfe064ef07",
            "3e867a2d978d453c8da0c9a4ea0f1a16",
            "8a23ec769b434aff8e20d6c9339ecbc7",
            "176a48e93c0a4ae8bbd5ae52d098c387",
            "255fc1a173704c77b798aaddc44f1702",
            "7a6f307c0ef6462e8e775f461b76610e",
            "8c59c7d2a7724b13a77ae57825c5eba3",
            "f2a7f74163f24a7eb1c0955bdb91bc64",
            "0170df2576394f6ea409d974039a9de5",
            "e79c32b8d6e74892b9bfb9ea4c6a9e7f"
          ]
        },
        "id": "06f56b2a",
        "outputId": "00a656ee-f680-4489-be53-b991fcc5ed06"
      },
      "outputs": [
        {
          "data": {
            "application/vnd.jupyter.widget-view+json": {
              "model_id": "2ca6c32c03374bca963ec1db3237c50f",
              "version_major": 2,
              "version_minor": 0
            },
            "text/plain": [
              "Filter:   0%|          | 0/242831 [00:00<?, ? examples/s]"
            ]
          },
          "metadata": {},
          "output_type": "display_data"
        }
      ],
      "source": [
        "# filtering any datapoint which have more that 1024 tokens\n",
        "dataset = dataset.filter(lambda x: len(x['input_ids']) <= 1024)"
      ]
    },
    {
      "cell_type": "code",
      "execution_count": 32,
      "id": "8b6e3745",
      "metadata": {
        "colab": {
          "base_uri": "https://localhost:8080/",
          "height": 243
        },
        "id": "8b6e3745",
        "outputId": "c13487d9-a93f-4270-8531-4ba4c52bacd4"
      },
      "outputs": [
        {
          "data": {
            "application/vnd.google.colaboratory.intrinsic+json": {
              "type": "string"
            },
            "text/plain": [
              "'### Instruction: Write a Perl script that processes a log file and counts the occurrences of different HTTP status codes. The script should accept the log file path as a command-line argument and print the results to the console in descending order of frequency.\\n\\n### Input: \\n### Response: ```perl\\n#!/usr/bin/perl\\n\\nuse strict;\\nuse warnings;\\n\\n# Check if a log file path is provided as command-line argument\\nif (@ARGV != 1) {\\n    print \"Usage: $0 <log_file_path>\\\\n\";\\n    exit(1);\\n}\\n\\nmy $log_file = $ARGV[0];\\n\\n# Open the log file for reading\\nopen(my $fh, \\'<\\', $log_file) or die \"Could not open file \\'$log_file\\' $!\";\\n\\nmy %status_codes;\\n\\n# Process each line in the log file\\nwhile (my $line = <$fh>) {\\n    # Extract the HTTP status code from the log entry\\n    if ($line =~ /HTTP\\\\/\\\\d+\\\\.\\\\d+\" (\\\\d+)/) {\\n        my $status_code = $1;\\n        $status_codes{$status_code}++;\\n    }\\n}\\n\\nclose($fh);\\n\\n# Sort and print the results\\nforeach my $code (sort { $status_codes{$b} <=> $status_codes{$a} } keys %status_codes) {\\n    printf \"%s: %d\\\\n\", $code, $status_codes{$code};\\n}\\n```\\n\\nTo run this script, save it to a file named `count_http_status_codes.pl` and make sure it has executable permissions. Then, you can execute it with the following command:\\n\\n```\\n./count_http_status_codes.pl <path_to_log_file>\\n```\\n\\nReplace `<path_to_log_file>` with the actual path of your log file. The script will then output the count of different HTTP status codes found in the log file, sorted by frequency in descending order.'"
            ]
          },
          "execution_count": 32,
          "metadata": {},
          "output_type": "execute_result"
        }
      ],
      "source": [
        "tokenizer.decode(dataset['train'][0]['input_ids'])"
      ]
    },
    {
      "cell_type": "code",
      "execution_count": 33,
      "id": "1a575d82",
      "metadata": {
        "id": "1a575d82"
      },
      "outputs": [],
      "source": [
        "dataset = dataset['train'].train_test_split(test_size=0.05, shuffle=True, seed=0)\n",
        "train_dataset = dataset['train']"
      ]
    },
    {
      "cell_type": "code",
      "execution_count": 34,
      "id": "accafc13",
      "metadata": {
        "id": "accafc13"
      },
      "outputs": [],
      "source": [
        "test_dataset = dataset['test'].train_test_split(test_size=0.4, seed=0)\n",
        "val_dataset = test_dataset['train']\n",
        "test_dataset = test_dataset['test']"
      ]
    },
    {
      "cell_type": "code",
      "execution_count": 35,
      "id": "ad38004a",
      "metadata": {
        "colab": {
          "base_uri": "https://localhost:8080/"
        },
        "id": "ad38004a",
        "outputId": "1fab9cb4-72a6-48a3-a8a3-f962de5b7b30"
      },
      "outputs": [
        {
          "data": {
            "text/plain": [
              "50256"
            ]
          },
          "execution_count": 35,
          "metadata": {},
          "output_type": "execute_result"
        }
      ],
      "source": [
        "tokenizer.eot_token"
      ]
    },
    {
      "cell_type": "code",
      "execution_count": 36,
      "id": "2047dc1f",
      "metadata": {
        "id": "2047dc1f"
      },
      "outputs": [],
      "source": [
        "def language_model_collate_fn(batch, max_len=None, tokenizer=tokenizer):\n",
        "    # find max len seq in the batch\n",
        "    pad_tok = tokenizer.eot_token\n",
        "\n",
        "    batch = [seq['input_ids'] + [pad_tok] for seq in batch]\n",
        "\n",
        "    batch_max_len = 0\n",
        "    for seq in batch:\n",
        "        if len(seq) > batch_max_len: # we give +1 since we have target token which need 1 token etc at end of token\n",
        "            batch_max_len = len(seq)\n",
        "\n",
        "\n",
        "    if max_len:\n",
        "        max_len = max(batch_max_len, max_len)\n",
        "    else:\n",
        "        max_len = batch_max_len\n",
        "\n",
        "    # truncate to max len\n",
        "    batch = [seq[ :max_len] for seq in batch]\n",
        "\n",
        "    # padding\n",
        "    batch = [seq + [pad_tok] * (max_len - len(seq)) for seq in batch]\n",
        "\n",
        "    # langauge modeling input_ids and output_ids\n",
        "    input_ids = [seq[:-1] for seq in batch]\n",
        "    target_ids = [seq[1:] for seq in batch]\n",
        "\n",
        "    return torch.tensor(input_ids), torch.tensor(target_ids)"
      ]
    },
    {
      "cell_type": "code",
      "execution_count": 37,
      "id": "accb071b",
      "metadata": {
        "id": "accb071b"
      },
      "outputs": [],
      "source": [
        "# # testing collate function\n",
        "# language_model_collate_fn(batch=[[1,2,4,5,6],[2,3,3],[1]],\n",
        "#                           tokenizer=tokenizer)"
      ]
    },
    {
      "cell_type": "code",
      "execution_count": 38,
      "id": "4766b647",
      "metadata": {
        "id": "4766b647"
      },
      "outputs": [],
      "source": [
        "# initilaize dataloader\n",
        "def create_dataloader(batch_size=4):\n",
        "    train_loader = DataLoader(dataset=train_dataset, batch_size=batch_size,\n",
        "                            collate_fn=language_model_collate_fn,\n",
        "                            pin_memory=False, shuffle=True,\n",
        "                            drop_last=True)\n",
        "\n",
        "    val_loader = DataLoader(dataset=val_dataset, batch_size=batch_size,\n",
        "                            collate_fn=language_model_collate_fn)\n",
        "\n",
        "    test_loader = DataLoader(dataset=test_dataset, batch_size=batch_size,\n",
        "                            collate_fn=language_model_collate_fn)\n",
        "    return train_loader, val_loader, test_loader"
      ]
    },
    {
      "cell_type": "code",
      "execution_count": 39,
      "id": "2338c69a",
      "metadata": {
        "colab": {
          "base_uri": "https://localhost:8080/"
        },
        "id": "2338c69a",
        "outputId": "981b193e-b2f6-4923-ef22-0001ddafc7bf"
      },
      "outputs": [
        {
          "data": {
            "text/plain": [
              "Dataset({\n",
              "    features: ['input_ids'],\n",
              "    num_rows: 224148\n",
              "})"
            ]
          },
          "execution_count": 39,
          "metadata": {},
          "output_type": "execute_result"
        }
      ],
      "source": [
        "train_dataset"
      ]
    },
    {
      "cell_type": "code",
      "execution_count": 40,
      "id": "ab6c8677",
      "metadata": {
        "colab": {
          "base_uri": "https://localhost:8080/"
        },
        "id": "ab6c8677",
        "outputId": "f674678b-5689-447e-ab49-def069b2095f"
      },
      "outputs": [
        {
          "data": {
            "text/plain": [
              "Dataset({\n",
              "    features: ['input_ids'],\n",
              "    num_rows: 4720\n",
              "})"
            ]
          },
          "execution_count": 40,
          "metadata": {},
          "output_type": "execute_result"
        }
      ],
      "source": [
        "test_dataset"
      ]
    },
    {
      "cell_type": "code",
      "execution_count": 41,
      "id": "1354ff6c",
      "metadata": {
        "colab": {
          "base_uri": "https://localhost:8080/"
        },
        "id": "1354ff6c",
        "outputId": "d205fc67-a254-4124-b440-c5a77239fec6"
      },
      "outputs": [
        {
          "data": {
            "text/plain": [
              "Dataset({\n",
              "    features: ['input_ids'],\n",
              "    num_rows: 7078\n",
              "})"
            ]
          },
          "execution_count": 41,
          "metadata": {},
          "output_type": "execute_result"
        }
      ],
      "source": [
        "val_dataset"
      ]
    },
    {
      "cell_type": "code",
      "execution_count": 42,
      "id": "e9f738ad",
      "metadata": {
        "id": "e9f738ad"
      },
      "outputs": [],
      "source": [
        "train_loader, val_loader, test_loader = create_dataloader(batch_size=1)"
      ]
    },
    {
      "cell_type": "code",
      "execution_count": 43,
      "id": "3bca3074",
      "metadata": {
        "id": "3bca3074"
      },
      "outputs": [],
      "source": [
        "# for input_ids, target_ids in train_loader:\n",
        "#     break"
      ]
    },
    {
      "cell_type": "code",
      "execution_count": 44,
      "id": "51261d49",
      "metadata": {
        "id": "51261d49"
      },
      "outputs": [],
      "source": [
        "# print(tokenizer.decode(input_ids[0].tolist()))"
      ]
    },
    {
      "cell_type": "code",
      "execution_count": 45,
      "id": "27a87fa3",
      "metadata": {
        "id": "27a87fa3"
      },
      "outputs": [],
      "source": [
        "# model.eval();\n",
        "# model.to(device);"
      ]
    },
    {
      "cell_type": "code",
      "execution_count": 46,
      "id": "d1051e72",
      "metadata": {
        "id": "d1051e72"
      },
      "outputs": [],
      "source": [
        "# # check input to model\n",
        "# with torch.no_grad():\n",
        "#     output = model(input_ids[0].unsqueeze(0).to('cuda'))"
      ]
    },
    {
      "cell_type": "code",
      "execution_count": 47,
      "id": "60224ba5",
      "metadata": {
        "id": "60224ba5"
      },
      "outputs": [],
      "source": [
        "# loss on batch\n",
        "def calc_loss_on_batch(model, input_ids, target_ids):\n",
        "    logits = model(input_ids).flatten(0, 1)\n",
        "    target = target_ids.view(1, -1).squeeze()\n",
        "    loss = torch.nn.functional.cross_entropy(logits, target)\n",
        "    return loss"
      ]
    },
    {
      "cell_type": "code",
      "execution_count": 48,
      "id": "c3296664",
      "metadata": {
        "id": "c3296664"
      },
      "outputs": [],
      "source": [
        "# cal loss on entire loader for eval\n",
        "def cal_loss_on_data_loader(model, data_loader, max_batch=None):\n",
        "    total_loss = 0\n",
        "    total_batch = len(data_loader)\n",
        "\n",
        "    if max_batch:\n",
        "        max_batch = min(total_batch, max_batch)\n",
        "    else:\n",
        "        max_batch = total_batch\n",
        "\n",
        "    for i, (input_ids, target_ids) in enumerate(data_loader):\n",
        "        if i == max_batch:\n",
        "            break\n",
        "        input_ids, target_ids = input_ids.to(device), target_ids.to(device)\n",
        "        loss = calc_loss_on_batch(model, input_ids, target_ids)\n",
        "        total_loss += loss.item()\n",
        "\n",
        "    return total_loss / max_batch\n"
      ]
    },
    {
      "cell_type": "code",
      "execution_count": 49,
      "id": "426f58b2",
      "metadata": {
        "id": "426f58b2"
      },
      "outputs": [],
      "source": [
        "def evaluate(model, train_loader, val_loader, max_batch):\n",
        "    model.eval()\n",
        "    with torch.no_grad():\n",
        "        train_loss = cal_loss_on_data_loader(model, train_loader, max_batch=max_batch)\n",
        "        val_loss = cal_loss_on_data_loader(model, val_loader, max_batch=max_batch)\n",
        "    model.train()\n",
        "    return train_loss, val_loss"
      ]
    },
    {
      "cell_type": "code",
      "execution_count": 50,
      "id": "66bb5fff",
      "metadata": {
        "id": "66bb5fff"
      },
      "outputs": [],
      "source": [
        "def generate(model,\n",
        "            starting_context:str='what is the opposit of saying \"i love you\"',\n",
        "            tokenizer=tokenizer,\n",
        "            max_len=10,\n",
        "            sampling=True,\n",
        "            temperature=0.0,\n",
        "            top_k=None,\n",
        "            eos_id=None):\n",
        "\n",
        "\n",
        "    starting_context = apply_text_template(instr=starting_context, input='')\n",
        "    model.eval()\n",
        "    input_ids = tokenizer.encode(starting_context)\n",
        "    input_ids = torch.tensor(input_ids).unsqueeze(0).to(device)\n",
        "\n",
        "    for i in range(max_len):\n",
        "        with torch.no_grad():\n",
        "            logits = model(input_ids)\n",
        "            logits = logits[:,-1,:]\n",
        "\n",
        "            if sampling:\n",
        "\n",
        "                if top_k:\n",
        "                    topk_logits, topk_pos = torch.topk(logits, k=top_k, dim=-1)\n",
        "                    logits = torch.where(input=torch.tensor(float('-inf')),\n",
        "                                         condition=logits < topk_logits[:,-1].reshape(-1, 1),\n",
        "                                         other=logits)\n",
        "                if temperature>0.0:\n",
        "                    logits = logits / temperature\n",
        "\n",
        "                probas = F.softmax(logits, dim=-1)\n",
        "                idx_next = torch.multinomial(probas, num_samples=1)\n",
        "                input_ids = torch.concat([input_ids, idx_next], dim=-1)\n",
        "            else:\n",
        "                assert temperature==0.0 and top_k is None, \"You can't set temperature or topk if sampling=False\"\n",
        "                last_token = torch.argmax(logits, dim=-1).unsqueeze(0)\n",
        "                input_ids = torch.cat([input_ids, last_token], dim=-1)\n",
        "    return tokenizer.decode(input_ids.squeeze().tolist())"
      ]
    },
    {
      "cell_type": "code",
      "execution_count": 51,
      "id": "72456865",
      "metadata": {
        "id": "72456865"
      },
      "outputs": [],
      "source": [
        "optimizer = torch.optim.AdamW(model.parameters(), lr=1e-5, weight_decay=0.01)"
      ]
    },
    {
      "cell_type": "code",
      "execution_count": 52,
      "id": "99610422",
      "metadata": {
        "id": "99610422"
      },
      "outputs": [],
      "source": [
        "# def train(model, train_loader, val_loader, optimizer, eval_freq, save_model_epoch_freq=30, save_file='./'):\n",
        "#     global_step = 0\n",
        "#     train_loss_history = []\n",
        "#     val_loss_history = []\n",
        "#     model.to(device)\n",
        "\n",
        "#     for epoch, (input_ids, target_ids) in enumerate(train_loader):\n",
        "#         model.train()\n",
        "#         optimizer.zero_grad()\n",
        "#         input_ids, target_ids = input_ids.to(device), target_ids.to(device)\n",
        "#         loss = calc_loss_on_batch(model, input_ids, target_ids)\n",
        "#         loss.backward()\n",
        "#         optimizer.step()\n",
        "\n",
        "#         global_step += 1\n",
        "\n",
        "#         if global_step % eval_freq == 0 or epoch == 0:\n",
        "#             train_loss, val_loss = evaluate(model, train_loader, val_loader, max_batch=10)\n",
        "#             print(f\"epoch: {epoch} | training_loss: {train_loss} | val_loss: {val_loss}\")\n",
        "#             train_loss_history.append(train_loss)\n",
        "#             val_loss_history.append(val_loss)\n",
        "#             print(f\"Sample Generation\\n{'-'*20}\")\n",
        "#             print(generate(model))\n",
        "\n",
        "\n",
        "#     return train_loss_history,  val_loss_history\n",
        "\n"
      ]
    },
    {
      "cell_type": "code",
      "execution_count": 53,
      "id": "23c195bd",
      "metadata": {
        "id": "23c195bd"
      },
      "outputs": [],
      "source": [
        "# train_losses, val_losses = train(model, train_loader, val_loader, optimizer, eval_freq=5, save_model_epoch_freq=10, save_file='checkpoints')"
      ]
    },
    {
      "cell_type": "code",
      "execution_count": 54,
      "id": "2eb7021e",
      "metadata": {
        "colab": {
          "base_uri": "https://localhost:8080/"
        },
        "id": "2eb7021e",
        "outputId": "881cfee0-fe3c-4818-dc70-e57b9474e6db"
      },
      "outputs": [
        {
          "name": "stdout",
          "output_type": "stream",
          "text": [
            "### Instruction: what is it\n",
            "### Input: \n",
            "### Response: <MIME type=\"text/plain\" content\n"
          ]
        }
      ],
      "source": [
        "out = generate(model, starting_context='what is it')\n",
        "print(out)"
      ]
    },
    {
      "cell_type": "code",
      "execution_count": 55,
      "id": "5c8b3136",
      "metadata": {
        "id": "5c8b3136"
      },
      "outputs": [],
      "source": [
        "# def train(model, train_loader, val_loader, optimizer, eval_freq, device, save_model_step_freq=10, save_file='runs', total_epoch=2):\n",
        "\n",
        "#     model.to(device)\n",
        "\n",
        "#     checkpoints_path = Path('runs')\n",
        "#     checkpoints_path.mkdir(exist_ok=True)\n",
        "#     model_checkpoints = list(checkpoints_path.glob(\"*.ckpt\"))\n",
        "\n",
        "#     if model_checkpoints:\n",
        "#         last_save_path = model_checkpoints[-1].as_posix()\n",
        "#         print(f'Loading last saved checkpoint : {last_save_path}')\n",
        "#         training_state = torch.load(last_save_path)\n",
        "#         global_step = training_state['global_step']\n",
        "#         print(model.load_state_dict(training_state['model_state']))\n",
        "#         optimizer.load_state_dict(training_state['optimizer_state'])\n",
        "#         train_loss_history = training_state['train_loss_history']\n",
        "#         val_loss_history = training_state['val_loss_history']\n",
        "#         epoch = training_state['epoch']\n",
        "#     else:\n",
        "#         global_step = 0\n",
        "#         train_loss_history = []\n",
        "#         val_loss_history = []\n",
        "#         epoch = 0\n",
        "\n",
        "#     print(f'current global_step: {global_step}')\n",
        "#     print(f'current epoch: {epoch}')\n",
        "#     if train_loss_history:\n",
        "#         print(f'last loss: {train_loss_history[-1]} | val_loss: {val_loss_history[-1]}')\n",
        "\n",
        "\n",
        "#     for epoch in range(epoch, total_epoch):\n",
        "\n",
        "#         for input_ids, target_ids in train_loader:\n",
        "#             optimizer.zero_grad()\n",
        "#             input_ids, target_ids = input_ids.to(device), target_ids.to(device)\n",
        "#             loss = calc_loss_on_batch(model, input_ids, target_ids)\n",
        "#             loss.backward()\n",
        "#             optimizer.step()\n",
        "\n",
        "#             global_step += 1\n",
        "\n",
        "#             if global_step % (save_model_step_freq) == 0 :\n",
        "#                 print('saving model...')\n",
        "#                 torch.save({'model_state' : model.state_dict(),\n",
        "#                             'optimizer_state': optimizer.state_dict(),\n",
        "#                             'epoch': epoch,\n",
        "#                             'global_step':global_step,\n",
        "#                             'train_loss_history': train_loss_history,\n",
        "#                             'val_loss_history': val_loss_history},\n",
        "#                            (checkpoints_path / f\"checkpoint.ckpt\" ).as_posix())\n",
        "#                 print('save completed..')\n",
        "\n",
        "#             if global_step % eval_freq == 0 or epoch == 0:\n",
        "#                 train_loss, val_loss = evaluate(model, train_loader, val_loader, max_batch=10)\n",
        "#                 print(f\"global_step: {global_step} | training_loss: {train_loss} | val_loss: {val_loss}\")\n",
        "#                 train_loss_history.append(train_loss)\n",
        "#                 val_loss_history.append(val_loss)\n",
        "#                 print(f\"Sample Generation\\n{'-'*20}\")\n",
        "#                 print(generate(model, starting_context=\"what is the opposit of word 'love'\"))\n",
        "\n",
        "\n",
        "\n",
        "#     return train_loss_history,  val_loss_history"
      ]
    },
    {
      "cell_type": "code",
      "execution_count": 56,
      "id": "ph_8zY-4NEmF",
      "metadata": {
        "id": "ph_8zY-4NEmF"
      },
      "outputs": [],
      "source": [
        "from tqdm import tqdm\n",
        "from pathlib import Path\n",
        "import torch\n",
        "\n",
        "def train(model, train_loader, val_loader, optimizer, eval_freq, device, save_model_step_freq=10, save_file='runs', total_epoch=2):\n",
        "\n",
        "    model.to(device)\n",
        "\n",
        "    checkpoints_path = Path('runs')\n",
        "    checkpoints_path.mkdir(exist_ok=True)\n",
        "    model_checkpoints = list(checkpoints_path.glob(\"*.ckpt\"))\n",
        "\n",
        "    if model_checkpoints:\n",
        "        last_save_path = model_checkpoints[-1].as_posix()\n",
        "        print(f'Loading last saved checkpoint : {last_save_path}')\n",
        "        training_state = torch.load(last_save_path)\n",
        "        global_step = training_state['global_step']\n",
        "        print(model.load_state_dict(training_state['model_state']))\n",
        "        optimizer.load_state_dict(training_state['optimizer_state'])\n",
        "        train_loss_history = training_state['train_loss_history']\n",
        "        val_loss_history = training_state['val_loss_history']\n",
        "        epoch = training_state['epoch']\n",
        "    else:\n",
        "        global_step = 0\n",
        "        train_loss_history = []\n",
        "        val_loss_history = []\n",
        "        epoch = 0\n",
        "\n",
        "    print(f'Current global_step: {global_step}')\n",
        "    print(f'Current epoch: {epoch}')\n",
        "    if train_loss_history:\n",
        "        print(f'Last loss: {train_loss_history[-1]} | Val loss: {val_loss_history[-1]}')\n",
        "\n",
        "    for epoch in range(epoch, total_epoch):\n",
        "        print(f\"\\n--- Epoch {epoch + 1}/{total_epoch} ---\")\n",
        "        progress_bar = tqdm(train_loader, desc=f\"Epoch {epoch+1}\", leave=True)\n",
        "\n",
        "        for input_ids, target_ids in progress_bar:\n",
        "            optimizer.zero_grad()\n",
        "            input_ids, target_ids = input_ids.to(device), target_ids.to(device)\n",
        "            loss = calc_loss_on_batch(model, input_ids, target_ids)\n",
        "            loss.backward()\n",
        "            optimizer.step()\n",
        "\n",
        "            global_step += 1\n",
        "            progress_bar.set_description(f\"Epoch {epoch+1} | Step {global_step}\")\n",
        "            progress_bar.set_postfix(loss=loss.item())\n",
        "\n",
        "            if global_step % save_model_step_freq == 0:\n",
        "                print('\\nSaving model...')\n",
        "                torch.save({\n",
        "                    'model_state': model.state_dict(),\n",
        "                    'optimizer_state': optimizer.state_dict(),\n",
        "                    'epoch': epoch,\n",
        "                    'global_step': global_step,\n",
        "                    'train_loss_history': train_loss_history,\n",
        "                    'val_loss_history': val_loss_history\n",
        "                }, (checkpoints_path / f\"checkpoint.ckpt\").as_posix())\n",
        "                print('Save completed.')\n",
        "\n",
        "            if global_step % eval_freq == 0:\n",
        "                train_loss, val_loss = evaluate(model, train_loader, val_loader, max_batch=10)\n",
        "                print(f\"\\n[Eval] Global Step: {global_step} | Training Loss: {train_loss:.4f} | Val Loss: {val_loss:.4f}\")\n",
        "                train_loss_history.append(train_loss)\n",
        "                val_loss_history.append(val_loss)\n",
        "                print(f\"Sample Generation\\n{'-'*20}\")\n",
        "                print(generate(model, starting_context=\"what is the opposite of word 'love'\", sampling=False))\n",
        "\n",
        "    return train_loss_history, val_loss_history\n"
      ]
    },
    {
      "cell_type": "code",
      "execution_count": null,
      "id": "0304f5b1",
      "metadata": {
        "colab": {
          "base_uri": "https://localhost:8080/"
        },
        "id": "0304f5b1",
        "outputId": "5a8ce877-7833-4aca-f114-b20eb4b492b6"
      },
      "outputs": [
        {
          "name": "stdout",
          "output_type": "stream",
          "text": [
            "Current global_step: 0\n",
            "Current epoch: 0\n",
            "\n",
            "--- Epoch 1/100 ---\n"
          ]
        },
        {
          "name": "stderr",
          "output_type": "stream",
          "text": [
            "Epoch 1 | Step 1:   0%|          | 1/224148 [00:27<1699:19:04, 27.29s/it, loss=2.13]"
          ]
        }
      ],
      "source": [
        "train_losses, val_losses = train(model,\n",
        "                                 train_loader,\n",
        "                                 val_loader,\n",
        "                                 optimizer,\n",
        "                                 total_epoch=100,\n",
        "                                 eval_freq=100,\n",
        "                                 save_model_step_freq=100,\n",
        "                                 save_file='runs',\n",
        "                                 device=device)"
      ]
    },
    {
      "cell_type": "code",
      "execution_count": null,
      "id": "89949d64",
      "metadata": {
        "id": "89949d64"
      },
      "outputs": [],
      "source": [
        "question = \"who is james bond?\""
      ]
    },
    {
      "cell_type": "code",
      "execution_count": null,
      "id": "51954c09",
      "metadata": {
        "id": "51954c09"
      },
      "outputs": [],
      "source": [
        "\n",
        "print(generate(model, starting_context=question, max_len=50, temperature=0.7))"
      ]
    },
    {
      "cell_type": "code",
      "execution_count": null,
      "id": "906212a4",
      "metadata": {
        "id": "906212a4"
      },
      "outputs": [],
      "source": [
        "print(generate(model, starting_context=question, max_len=50, sampling=False))"
      ]
    },
    {
      "cell_type": "code",
      "execution_count": null,
      "id": "8609320f",
      "metadata": {
        "id": "8609320f"
      },
      "outputs": [],
      "source": []
    }
  ],
  "metadata": {
    "accelerator": "TPU",
    "colab": {
      "gpuType": "V28",
      "provenance": []
    },
    "kernelspec": {
      "display_name": "Python 3",
      "name": "python3"
    },
    "language_info": {
      "codemirror_mode": {
        "name": "ipython",
        "version": 3
      },
      "file_extension": ".py",
      "mimetype": "text/x-python",
      "name": "python",
      "nbconvert_exporter": "python",
      "pygments_lexer": "ipython3",
      "version": "3.9.6"
    },
    "widgets": {
      "application/vnd.jupyter.widget-state+json": {
        "000cf95d93054c8d990aa0a54d522505": {
          "model_module": "@jupyter-widgets/base",
          "model_module_version": "1.2.0",
          "model_name": "LayoutModel",
          "state": {
            "_model_module": "@jupyter-widgets/base",
            "_model_module_version": "1.2.0",
            "_model_name": "LayoutModel",
            "_view_count": null,
            "_view_module": "@jupyter-widgets/base",
            "_view_module_version": "1.2.0",
            "_view_name": "LayoutView",
            "align_content": null,
            "align_items": null,
            "align_self": null,
            "border": null,
            "bottom": null,
            "display": null,
            "flex": null,
            "flex_flow": null,
            "grid_area": null,
            "grid_auto_columns": null,
            "grid_auto_flow": null,
            "grid_auto_rows": null,
            "grid_column": null,
            "grid_gap": null,
            "grid_row": null,
            "grid_template_areas": null,
            "grid_template_columns": null,
            "grid_template_rows": null,
            "height": null,
            "justify_content": null,
            "justify_items": null,
            "left": null,
            "margin": null,
            "max_height": null,
            "max_width": null,
            "min_height": null,
            "min_width": null,
            "object_fit": null,
            "object_position": null,
            "order": null,
            "overflow": null,
            "overflow_x": null,
            "overflow_y": null,
            "padding": null,
            "right": null,
            "top": null,
            "visibility": null,
            "width": null
          }
        },
        "0170df2576394f6ea409d974039a9de5": {
          "model_module": "@jupyter-widgets/base",
          "model_module_version": "1.2.0",
          "model_name": "LayoutModel",
          "state": {
            "_model_module": "@jupyter-widgets/base",
            "_model_module_version": "1.2.0",
            "_model_name": "LayoutModel",
            "_view_count": null,
            "_view_module": "@jupyter-widgets/base",
            "_view_module_version": "1.2.0",
            "_view_name": "LayoutView",
            "align_content": null,
            "align_items": null,
            "align_self": null,
            "border": null,
            "bottom": null,
            "display": null,
            "flex": null,
            "flex_flow": null,
            "grid_area": null,
            "grid_auto_columns": null,
            "grid_auto_flow": null,
            "grid_auto_rows": null,
            "grid_column": null,
            "grid_gap": null,
            "grid_row": null,
            "grid_template_areas": null,
            "grid_template_columns": null,
            "grid_template_rows": null,
            "height": null,
            "justify_content": null,
            "justify_items": null,
            "left": null,
            "margin": null,
            "max_height": null,
            "max_width": null,
            "min_height": null,
            "min_width": null,
            "object_fit": null,
            "object_position": null,
            "order": null,
            "overflow": null,
            "overflow_x": null,
            "overflow_y": null,
            "padding": null,
            "right": null,
            "top": null,
            "visibility": null,
            "width": null
          }
        },
        "030d6ef081fd45cd823342cdd6612721": {
          "model_module": "@jupyter-widgets/controls",
          "model_module_version": "1.5.0",
          "model_name": "DescriptionStyleModel",
          "state": {
            "_model_module": "@jupyter-widgets/controls",
            "_model_module_version": "1.5.0",
            "_model_name": "DescriptionStyleModel",
            "_view_count": null,
            "_view_module": "@jupyter-widgets/base",
            "_view_module_version": "1.2.0",
            "_view_name": "StyleView",
            "description_width": ""
          }
        },
        "075b24a5be4e46768051ee1a13dddae1": {
          "model_module": "@jupyter-widgets/controls",
          "model_module_version": "1.5.0",
          "model_name": "DescriptionStyleModel",
          "state": {
            "_model_module": "@jupyter-widgets/controls",
            "_model_module_version": "1.5.0",
            "_model_name": "DescriptionStyleModel",
            "_view_count": null,
            "_view_module": "@jupyter-widgets/base",
            "_view_module_version": "1.2.0",
            "_view_name": "StyleView",
            "description_width": ""
          }
        },
        "0c30619bb5f040cab68bbaf63b18e0e9": {
          "model_module": "@jupyter-widgets/controls",
          "model_module_version": "1.5.0",
          "model_name": "DescriptionStyleModel",
          "state": {
            "_model_module": "@jupyter-widgets/controls",
            "_model_module_version": "1.5.0",
            "_model_name": "DescriptionStyleModel",
            "_view_count": null,
            "_view_module": "@jupyter-widgets/base",
            "_view_module_version": "1.2.0",
            "_view_name": "StyleView",
            "description_width": ""
          }
        },
        "0df6ec126ab446538c7cb490eb485ce0": {
          "model_module": "@jupyter-widgets/controls",
          "model_module_version": "1.5.0",
          "model_name": "HTMLModel",
          "state": {
            "_dom_classes": [],
            "_model_module": "@jupyter-widgets/controls",
            "_model_module_version": "1.5.0",
            "_model_name": "HTMLModel",
            "_view_count": null,
            "_view_module": "@jupyter-widgets/controls",
            "_view_module_version": "1.5.0",
            "_view_name": "HTMLView",
            "description": "",
            "description_tooltip": null,
            "layout": "IPY_MODEL_cc832471c34647ea8682c269aa24b36e",
            "placeholder": "​",
            "style": "IPY_MODEL_9911b915f540447ebede1d5fa4d7353a",
            "value": "Map: 100%"
          }
        },
        "149072e3de1e43a0ae0e55dfe064ef07": {
          "model_module": "@jupyter-widgets/controls",
          "model_module_version": "1.5.0",
          "model_name": "HTMLModel",
          "state": {
            "_dom_classes": [],
            "_model_module": "@jupyter-widgets/controls",
            "_model_module_version": "1.5.0",
            "_model_name": "HTMLModel",
            "_view_count": null,
            "_view_module": "@jupyter-widgets/controls",
            "_view_module_version": "1.5.0",
            "_view_name": "HTMLView",
            "description": "",
            "description_tooltip": null,
            "layout": "IPY_MODEL_255fc1a173704c77b798aaddc44f1702",
            "placeholder": "​",
            "style": "IPY_MODEL_7a6f307c0ef6462e8e775f461b76610e",
            "value": "Filter: 100%"
          }
        },
        "14fceef503d242fca0585032f3cc9f1f": {
          "model_module": "@jupyter-widgets/controls",
          "model_module_version": "1.5.0",
          "model_name": "HTMLModel",
          "state": {
            "_dom_classes": [],
            "_model_module": "@jupyter-widgets/controls",
            "_model_module_version": "1.5.0",
            "_model_name": "HTMLModel",
            "_view_count": null,
            "_view_module": "@jupyter-widgets/controls",
            "_view_module_version": "1.5.0",
            "_view_name": "HTMLView",
            "description": "",
            "description_tooltip": null,
            "layout": "IPY_MODEL_41618b8c2e4a4e14b2999f26b02b9fb3",
            "placeholder": "​",
            "style": "IPY_MODEL_e3e0b0ec421448438ac0f99922f3fa80",
            "value": " 242831/242831 [00:42&lt;00:00, 7661.95 examples/s]"
          }
        },
        "176a48e93c0a4ae8bbd5ae52d098c387": {
          "model_module": "@jupyter-widgets/base",
          "model_module_version": "1.2.0",
          "model_name": "LayoutModel",
          "state": {
            "_model_module": "@jupyter-widgets/base",
            "_model_module_version": "1.2.0",
            "_model_name": "LayoutModel",
            "_view_count": null,
            "_view_module": "@jupyter-widgets/base",
            "_view_module_version": "1.2.0",
            "_view_name": "LayoutView",
            "align_content": null,
            "align_items": null,
            "align_self": null,
            "border": null,
            "bottom": null,
            "display": null,
            "flex": null,
            "flex_flow": null,
            "grid_area": null,
            "grid_auto_columns": null,
            "grid_auto_flow": null,
            "grid_auto_rows": null,
            "grid_column": null,
            "grid_gap": null,
            "grid_row": null,
            "grid_template_areas": null,
            "grid_template_columns": null,
            "grid_template_rows": null,
            "height": null,
            "justify_content": null,
            "justify_items": null,
            "left": null,
            "margin": null,
            "max_height": null,
            "max_width": null,
            "min_height": null,
            "min_width": null,
            "object_fit": null,
            "object_position": null,
            "order": null,
            "overflow": null,
            "overflow_x": null,
            "overflow_y": null,
            "padding": null,
            "right": null,
            "top": null,
            "visibility": null,
            "width": null
          }
        },
        "17a9bfb834a84acbb7ebe56b10392609": {
          "model_module": "@jupyter-widgets/controls",
          "model_module_version": "1.5.0",
          "model_name": "FloatProgressModel",
          "state": {
            "_dom_classes": [],
            "_model_module": "@jupyter-widgets/controls",
            "_model_module_version": "1.5.0",
            "_model_name": "FloatProgressModel",
            "_view_count": null,
            "_view_module": "@jupyter-widgets/controls",
            "_view_module_version": "1.5.0",
            "_view_name": "ProgressView",
            "bar_style": "success",
            "description": "",
            "description_tooltip": null,
            "layout": "IPY_MODEL_000cf95d93054c8d990aa0a54d522505",
            "max": 328000487,
            "min": 0,
            "orientation": "horizontal",
            "style": "IPY_MODEL_902e7ae708aa4c07bf09656bf401e25a",
            "value": 328000487
          }
        },
        "190e171cd76046fd97ba86fa068050f5": {
          "model_module": "@jupyter-widgets/controls",
          "model_module_version": "1.5.0",
          "model_name": "FloatProgressModel",
          "state": {
            "_dom_classes": [],
            "_model_module": "@jupyter-widgets/controls",
            "_model_module_version": "1.5.0",
            "_model_name": "FloatProgressModel",
            "_view_count": null,
            "_view_module": "@jupyter-widgets/controls",
            "_view_module_version": "1.5.0",
            "_view_name": "ProgressView",
            "bar_style": "success",
            "description": "",
            "description_tooltip": null,
            "layout": "IPY_MODEL_df4b1eaf04fa45dcbf11939540d1b697",
            "max": 242831,
            "min": 0,
            "orientation": "horizontal",
            "style": "IPY_MODEL_ea795ad2cae4467ebe76439a886c1cb1",
            "value": 242831
          }
        },
        "241c039ad4874b128270e5b0635c0983": {
          "model_module": "@jupyter-widgets/controls",
          "model_module_version": "1.5.0",
          "model_name": "ProgressStyleModel",
          "state": {
            "_model_module": "@jupyter-widgets/controls",
            "_model_module_version": "1.5.0",
            "_model_name": "ProgressStyleModel",
            "_view_count": null,
            "_view_module": "@jupyter-widgets/base",
            "_view_module_version": "1.2.0",
            "_view_name": "StyleView",
            "bar_color": null,
            "description_width": ""
          }
        },
        "255fc1a173704c77b798aaddc44f1702": {
          "model_module": "@jupyter-widgets/base",
          "model_module_version": "1.2.0",
          "model_name": "LayoutModel",
          "state": {
            "_model_module": "@jupyter-widgets/base",
            "_model_module_version": "1.2.0",
            "_model_name": "LayoutModel",
            "_view_count": null,
            "_view_module": "@jupyter-widgets/base",
            "_view_module_version": "1.2.0",
            "_view_name": "LayoutView",
            "align_content": null,
            "align_items": null,
            "align_self": null,
            "border": null,
            "bottom": null,
            "display": null,
            "flex": null,
            "flex_flow": null,
            "grid_area": null,
            "grid_auto_columns": null,
            "grid_auto_flow": null,
            "grid_auto_rows": null,
            "grid_column": null,
            "grid_gap": null,
            "grid_row": null,
            "grid_template_areas": null,
            "grid_template_columns": null,
            "grid_template_rows": null,
            "height": null,
            "justify_content": null,
            "justify_items": null,
            "left": null,
            "margin": null,
            "max_height": null,
            "max_width": null,
            "min_height": null,
            "min_width": null,
            "object_fit": null,
            "object_position": null,
            "order": null,
            "overflow": null,
            "overflow_x": null,
            "overflow_y": null,
            "padding": null,
            "right": null,
            "top": null,
            "visibility": null,
            "width": null
          }
        },
        "2ca6c32c03374bca963ec1db3237c50f": {
          "model_module": "@jupyter-widgets/controls",
          "model_module_version": "1.5.0",
          "model_name": "HBoxModel",
          "state": {
            "_dom_classes": [],
            "_model_module": "@jupyter-widgets/controls",
            "_model_module_version": "1.5.0",
            "_model_name": "HBoxModel",
            "_view_count": null,
            "_view_module": "@jupyter-widgets/controls",
            "_view_module_version": "1.5.0",
            "_view_name": "HBoxView",
            "box_style": "",
            "children": [
              "IPY_MODEL_149072e3de1e43a0ae0e55dfe064ef07",
              "IPY_MODEL_3e867a2d978d453c8da0c9a4ea0f1a16",
              "IPY_MODEL_8a23ec769b434aff8e20d6c9339ecbc7"
            ],
            "layout": "IPY_MODEL_176a48e93c0a4ae8bbd5ae52d098c387"
          }
        },
        "2d19b240402b4cc8ad6d1e1dd35dc6a6": {
          "model_module": "@jupyter-widgets/base",
          "model_module_version": "1.2.0",
          "model_name": "LayoutModel",
          "state": {
            "_model_module": "@jupyter-widgets/base",
            "_model_module_version": "1.2.0",
            "_model_name": "LayoutModel",
            "_view_count": null,
            "_view_module": "@jupyter-widgets/base",
            "_view_module_version": "1.2.0",
            "_view_name": "LayoutView",
            "align_content": null,
            "align_items": null,
            "align_self": null,
            "border": null,
            "bottom": null,
            "display": null,
            "flex": null,
            "flex_flow": null,
            "grid_area": null,
            "grid_auto_columns": null,
            "grid_auto_flow": null,
            "grid_auto_rows": null,
            "grid_column": null,
            "grid_gap": null,
            "grid_row": null,
            "grid_template_areas": null,
            "grid_template_columns": null,
            "grid_template_rows": null,
            "height": null,
            "justify_content": null,
            "justify_items": null,
            "left": null,
            "margin": null,
            "max_height": null,
            "max_width": null,
            "min_height": null,
            "min_width": null,
            "object_fit": null,
            "object_position": null,
            "order": null,
            "overflow": null,
            "overflow_x": null,
            "overflow_y": null,
            "padding": null,
            "right": null,
            "top": null,
            "visibility": null,
            "width": null
          }
        },
        "31b25e6ebb7b42f39f13f8c27a70fe91": {
          "model_module": "@jupyter-widgets/controls",
          "model_module_version": "1.5.0",
          "model_name": "HTMLModel",
          "state": {
            "_dom_classes": [],
            "_model_module": "@jupyter-widgets/controls",
            "_model_module_version": "1.5.0",
            "_model_name": "HTMLModel",
            "_view_count": null,
            "_view_module": "@jupyter-widgets/controls",
            "_view_module_version": "1.5.0",
            "_view_name": "HTMLView",
            "description": "",
            "description_tooltip": null,
            "layout": "IPY_MODEL_6062c813695e43069537b714ce250f05",
            "placeholder": "​",
            "style": "IPY_MODEL_030d6ef081fd45cd823342cdd6612721",
            "value": " 328M/328M [00:01&lt;00:00, 289MB/s]"
          }
        },
        "325b300a3e4f41b8b928efa8fa6a454f": {
          "model_module": "@jupyter-widgets/base",
          "model_module_version": "1.2.0",
          "model_name": "LayoutModel",
          "state": {
            "_model_module": "@jupyter-widgets/base",
            "_model_module_version": "1.2.0",
            "_model_name": "LayoutModel",
            "_view_count": null,
            "_view_module": "@jupyter-widgets/base",
            "_view_module_version": "1.2.0",
            "_view_name": "LayoutView",
            "align_content": null,
            "align_items": null,
            "align_self": null,
            "border": null,
            "bottom": null,
            "display": null,
            "flex": null,
            "flex_flow": null,
            "grid_area": null,
            "grid_auto_columns": null,
            "grid_auto_flow": null,
            "grid_auto_rows": null,
            "grid_column": null,
            "grid_gap": null,
            "grid_row": null,
            "grid_template_areas": null,
            "grid_template_columns": null,
            "grid_template_rows": null,
            "height": null,
            "justify_content": null,
            "justify_items": null,
            "left": null,
            "margin": null,
            "max_height": null,
            "max_width": null,
            "min_height": null,
            "min_width": null,
            "object_fit": null,
            "object_position": null,
            "order": null,
            "overflow": null,
            "overflow_x": null,
            "overflow_y": null,
            "padding": null,
            "right": null,
            "top": null,
            "visibility": null,
            "width": null
          }
        },
        "3a94f8c8d67d4c148862bf29ccf33d0f": {
          "model_module": "@jupyter-widgets/base",
          "model_module_version": "1.2.0",
          "model_name": "LayoutModel",
          "state": {
            "_model_module": "@jupyter-widgets/base",
            "_model_module_version": "1.2.0",
            "_model_name": "LayoutModel",
            "_view_count": null,
            "_view_module": "@jupyter-widgets/base",
            "_view_module_version": "1.2.0",
            "_view_name": "LayoutView",
            "align_content": null,
            "align_items": null,
            "align_self": null,
            "border": null,
            "bottom": null,
            "display": null,
            "flex": null,
            "flex_flow": null,
            "grid_area": null,
            "grid_auto_columns": null,
            "grid_auto_flow": null,
            "grid_auto_rows": null,
            "grid_column": null,
            "grid_gap": null,
            "grid_row": null,
            "grid_template_areas": null,
            "grid_template_columns": null,
            "grid_template_rows": null,
            "height": null,
            "justify_content": null,
            "justify_items": null,
            "left": null,
            "margin": null,
            "max_height": null,
            "max_width": null,
            "min_height": null,
            "min_width": null,
            "object_fit": null,
            "object_position": null,
            "order": null,
            "overflow": null,
            "overflow_x": null,
            "overflow_y": null,
            "padding": null,
            "right": null,
            "top": null,
            "visibility": null,
            "width": null
          }
        },
        "3e867a2d978d453c8da0c9a4ea0f1a16": {
          "model_module": "@jupyter-widgets/controls",
          "model_module_version": "1.5.0",
          "model_name": "FloatProgressModel",
          "state": {
            "_dom_classes": [],
            "_model_module": "@jupyter-widgets/controls",
            "_model_module_version": "1.5.0",
            "_model_name": "FloatProgressModel",
            "_view_count": null,
            "_view_module": "@jupyter-widgets/controls",
            "_view_module_version": "1.5.0",
            "_view_name": "ProgressView",
            "bar_style": "success",
            "description": "",
            "description_tooltip": null,
            "layout": "IPY_MODEL_8c59c7d2a7724b13a77ae57825c5eba3",
            "max": 242831,
            "min": 0,
            "orientation": "horizontal",
            "style": "IPY_MODEL_f2a7f74163f24a7eb1c0955bdb91bc64",
            "value": 242831
          }
        },
        "41618b8c2e4a4e14b2999f26b02b9fb3": {
          "model_module": "@jupyter-widgets/base",
          "model_module_version": "1.2.0",
          "model_name": "LayoutModel",
          "state": {
            "_model_module": "@jupyter-widgets/base",
            "_model_module_version": "1.2.0",
            "_model_name": "LayoutModel",
            "_view_count": null,
            "_view_module": "@jupyter-widgets/base",
            "_view_module_version": "1.2.0",
            "_view_name": "LayoutView",
            "align_content": null,
            "align_items": null,
            "align_self": null,
            "border": null,
            "bottom": null,
            "display": null,
            "flex": null,
            "flex_flow": null,
            "grid_area": null,
            "grid_auto_columns": null,
            "grid_auto_flow": null,
            "grid_auto_rows": null,
            "grid_column": null,
            "grid_gap": null,
            "grid_row": null,
            "grid_template_areas": null,
            "grid_template_columns": null,
            "grid_template_rows": null,
            "height": null,
            "justify_content": null,
            "justify_items": null,
            "left": null,
            "margin": null,
            "max_height": null,
            "max_width": null,
            "min_height": null,
            "min_width": null,
            "object_fit": null,
            "object_position": null,
            "order": null,
            "overflow": null,
            "overflow_x": null,
            "overflow_y": null,
            "padding": null,
            "right": null,
            "top": null,
            "visibility": null,
            "width": null
          }
        },
        "418b76b409d342ffbdaf04689b1ab681": {
          "model_module": "@jupyter-widgets/base",
          "model_module_version": "1.2.0",
          "model_name": "LayoutModel",
          "state": {
            "_model_module": "@jupyter-widgets/base",
            "_model_module_version": "1.2.0",
            "_model_name": "LayoutModel",
            "_view_count": null,
            "_view_module": "@jupyter-widgets/base",
            "_view_module_version": "1.2.0",
            "_view_name": "LayoutView",
            "align_content": null,
            "align_items": null,
            "align_self": null,
            "border": null,
            "bottom": null,
            "display": null,
            "flex": null,
            "flex_flow": null,
            "grid_area": null,
            "grid_auto_columns": null,
            "grid_auto_flow": null,
            "grid_auto_rows": null,
            "grid_column": null,
            "grid_gap": null,
            "grid_row": null,
            "grid_template_areas": null,
            "grid_template_columns": null,
            "grid_template_rows": null,
            "height": null,
            "justify_content": null,
            "justify_items": null,
            "left": null,
            "margin": null,
            "max_height": null,
            "max_width": null,
            "min_height": null,
            "min_width": null,
            "object_fit": null,
            "object_position": null,
            "order": null,
            "overflow": null,
            "overflow_x": null,
            "overflow_y": null,
            "padding": null,
            "right": null,
            "top": null,
            "visibility": null,
            "width": null
          }
        },
        "4190d1584de0432ea7c6f9f8121d8352": {
          "model_module": "@jupyter-widgets/controls",
          "model_module_version": "1.5.0",
          "model_name": "HTMLModel",
          "state": {
            "_dom_classes": [],
            "_model_module": "@jupyter-widgets/controls",
            "_model_module_version": "1.5.0",
            "_model_name": "HTMLModel",
            "_view_count": null,
            "_view_module": "@jupyter-widgets/controls",
            "_view_module_version": "1.5.0",
            "_view_name": "HTMLView",
            "description": "",
            "description_tooltip": null,
            "layout": "IPY_MODEL_2d19b240402b4cc8ad6d1e1dd35dc6a6",
            "placeholder": "​",
            "style": "IPY_MODEL_619d50e208ec4b12a1463ef5f47d1fad",
            "value": "openhermes.json: 100%"
          }
        },
        "4a049c92736e41e0b3d3964864604103": {
          "model_module": "@jupyter-widgets/base",
          "model_module_version": "1.2.0",
          "model_name": "LayoutModel",
          "state": {
            "_model_module": "@jupyter-widgets/base",
            "_model_module_version": "1.2.0",
            "_model_name": "LayoutModel",
            "_view_count": null,
            "_view_module": "@jupyter-widgets/base",
            "_view_module_version": "1.2.0",
            "_view_name": "LayoutView",
            "align_content": null,
            "align_items": null,
            "align_self": null,
            "border": null,
            "bottom": null,
            "display": null,
            "flex": null,
            "flex_flow": null,
            "grid_area": null,
            "grid_auto_columns": null,
            "grid_auto_flow": null,
            "grid_auto_rows": null,
            "grid_column": null,
            "grid_gap": null,
            "grid_row": null,
            "grid_template_areas": null,
            "grid_template_columns": null,
            "grid_template_rows": null,
            "height": null,
            "justify_content": null,
            "justify_items": null,
            "left": null,
            "margin": null,
            "max_height": null,
            "max_width": null,
            "min_height": null,
            "min_width": null,
            "object_fit": null,
            "object_position": null,
            "order": null,
            "overflow": null,
            "overflow_x": null,
            "overflow_y": null,
            "padding": null,
            "right": null,
            "top": null,
            "visibility": null,
            "width": null
          }
        },
        "4cefc14af35446e3b18ee74e386b36b1": {
          "model_module": "@jupyter-widgets/base",
          "model_module_version": "1.2.0",
          "model_name": "LayoutModel",
          "state": {
            "_model_module": "@jupyter-widgets/base",
            "_model_module_version": "1.2.0",
            "_model_name": "LayoutModel",
            "_view_count": null,
            "_view_module": "@jupyter-widgets/base",
            "_view_module_version": "1.2.0",
            "_view_name": "LayoutView",
            "align_content": null,
            "align_items": null,
            "align_self": null,
            "border": null,
            "bottom": null,
            "display": null,
            "flex": null,
            "flex_flow": null,
            "grid_area": null,
            "grid_auto_columns": null,
            "grid_auto_flow": null,
            "grid_auto_rows": null,
            "grid_column": null,
            "grid_gap": null,
            "grid_row": null,
            "grid_template_areas": null,
            "grid_template_columns": null,
            "grid_template_rows": null,
            "height": null,
            "justify_content": null,
            "justify_items": null,
            "left": null,
            "margin": null,
            "max_height": null,
            "max_width": null,
            "min_height": null,
            "min_width": null,
            "object_fit": null,
            "object_position": null,
            "order": null,
            "overflow": null,
            "overflow_x": null,
            "overflow_y": null,
            "padding": null,
            "right": null,
            "top": null,
            "visibility": null,
            "width": null
          }
        },
        "4fa49368ef9f40ad8505d7042781998f": {
          "model_module": "@jupyter-widgets/base",
          "model_module_version": "1.2.0",
          "model_name": "LayoutModel",
          "state": {
            "_model_module": "@jupyter-widgets/base",
            "_model_module_version": "1.2.0",
            "_model_name": "LayoutModel",
            "_view_count": null,
            "_view_module": "@jupyter-widgets/base",
            "_view_module_version": "1.2.0",
            "_view_name": "LayoutView",
            "align_content": null,
            "align_items": null,
            "align_self": null,
            "border": null,
            "bottom": null,
            "display": null,
            "flex": null,
            "flex_flow": null,
            "grid_area": null,
            "grid_auto_columns": null,
            "grid_auto_flow": null,
            "grid_auto_rows": null,
            "grid_column": null,
            "grid_gap": null,
            "grid_row": null,
            "grid_template_areas": null,
            "grid_template_columns": null,
            "grid_template_rows": null,
            "height": null,
            "justify_content": null,
            "justify_items": null,
            "left": null,
            "margin": null,
            "max_height": null,
            "max_width": null,
            "min_height": null,
            "min_width": null,
            "object_fit": null,
            "object_position": null,
            "order": null,
            "overflow": null,
            "overflow_x": null,
            "overflow_y": null,
            "padding": null,
            "right": null,
            "top": null,
            "visibility": null,
            "width": null
          }
        },
        "5b14205e401f497fa4a6d6c49e7d4427": {
          "model_module": "@jupyter-widgets/controls",
          "model_module_version": "1.5.0",
          "model_name": "ProgressStyleModel",
          "state": {
            "_model_module": "@jupyter-widgets/controls",
            "_model_module_version": "1.5.0",
            "_model_name": "ProgressStyleModel",
            "_view_count": null,
            "_view_module": "@jupyter-widgets/base",
            "_view_module_version": "1.2.0",
            "_view_name": "StyleView",
            "bar_color": null,
            "description_width": ""
          }
        },
        "5cbff7cfc5c9442ba2c961e0e5aa21a2": {
          "model_module": "@jupyter-widgets/controls",
          "model_module_version": "1.5.0",
          "model_name": "HTMLModel",
          "state": {
            "_dom_classes": [],
            "_model_module": "@jupyter-widgets/controls",
            "_model_module_version": "1.5.0",
            "_model_name": "HTMLModel",
            "_view_count": null,
            "_view_module": "@jupyter-widgets/controls",
            "_view_module_version": "1.5.0",
            "_view_name": "HTMLView",
            "description": "",
            "description_tooltip": null,
            "layout": "IPY_MODEL_9072813f4ff24e48a4c0f003801108e9",
            "placeholder": "​",
            "style": "IPY_MODEL_dbd9963db0044386b68b00a5275fbab1",
            "value": "README.md: 100%"
          }
        },
        "5d461f22d28a4de8961ca48ddab22151": {
          "model_module": "@jupyter-widgets/controls",
          "model_module_version": "1.5.0",
          "model_name": "DescriptionStyleModel",
          "state": {
            "_model_module": "@jupyter-widgets/controls",
            "_model_module_version": "1.5.0",
            "_model_name": "DescriptionStyleModel",
            "_view_count": null,
            "_view_module": "@jupyter-widgets/base",
            "_view_module_version": "1.2.0",
            "_view_name": "StyleView",
            "description_width": ""
          }
        },
        "5d71da59c108449eb999a47868cc2f01": {
          "model_module": "@jupyter-widgets/base",
          "model_module_version": "1.2.0",
          "model_name": "LayoutModel",
          "state": {
            "_model_module": "@jupyter-widgets/base",
            "_model_module_version": "1.2.0",
            "_model_name": "LayoutModel",
            "_view_count": null,
            "_view_module": "@jupyter-widgets/base",
            "_view_module_version": "1.2.0",
            "_view_name": "LayoutView",
            "align_content": null,
            "align_items": null,
            "align_self": null,
            "border": null,
            "bottom": null,
            "display": null,
            "flex": null,
            "flex_flow": null,
            "grid_area": null,
            "grid_auto_columns": null,
            "grid_auto_flow": null,
            "grid_auto_rows": null,
            "grid_column": null,
            "grid_gap": null,
            "grid_row": null,
            "grid_template_areas": null,
            "grid_template_columns": null,
            "grid_template_rows": null,
            "height": null,
            "justify_content": null,
            "justify_items": null,
            "left": null,
            "margin": null,
            "max_height": null,
            "max_width": null,
            "min_height": null,
            "min_width": null,
            "object_fit": null,
            "object_position": null,
            "order": null,
            "overflow": null,
            "overflow_x": null,
            "overflow_y": null,
            "padding": null,
            "right": null,
            "top": null,
            "visibility": null,
            "width": null
          }
        },
        "6062c813695e43069537b714ce250f05": {
          "model_module": "@jupyter-widgets/base",
          "model_module_version": "1.2.0",
          "model_name": "LayoutModel",
          "state": {
            "_model_module": "@jupyter-widgets/base",
            "_model_module_version": "1.2.0",
            "_model_name": "LayoutModel",
            "_view_count": null,
            "_view_module": "@jupyter-widgets/base",
            "_view_module_version": "1.2.0",
            "_view_name": "LayoutView",
            "align_content": null,
            "align_items": null,
            "align_self": null,
            "border": null,
            "bottom": null,
            "display": null,
            "flex": null,
            "flex_flow": null,
            "grid_area": null,
            "grid_auto_columns": null,
            "grid_auto_flow": null,
            "grid_auto_rows": null,
            "grid_column": null,
            "grid_gap": null,
            "grid_row": null,
            "grid_template_areas": null,
            "grid_template_columns": null,
            "grid_template_rows": null,
            "height": null,
            "justify_content": null,
            "justify_items": null,
            "left": null,
            "margin": null,
            "max_height": null,
            "max_width": null,
            "min_height": null,
            "min_width": null,
            "object_fit": null,
            "object_position": null,
            "order": null,
            "overflow": null,
            "overflow_x": null,
            "overflow_y": null,
            "padding": null,
            "right": null,
            "top": null,
            "visibility": null,
            "width": null
          }
        },
        "619d50e208ec4b12a1463ef5f47d1fad": {
          "model_module": "@jupyter-widgets/controls",
          "model_module_version": "1.5.0",
          "model_name": "DescriptionStyleModel",
          "state": {
            "_model_module": "@jupyter-widgets/controls",
            "_model_module_version": "1.5.0",
            "_model_name": "DescriptionStyleModel",
            "_view_count": null,
            "_view_module": "@jupyter-widgets/base",
            "_view_module_version": "1.2.0",
            "_view_name": "StyleView",
            "description_width": ""
          }
        },
        "6504ef5498804a4e9248b176fae29bcd": {
          "model_module": "@jupyter-widgets/controls",
          "model_module_version": "1.5.0",
          "model_name": "HTMLModel",
          "state": {
            "_dom_classes": [],
            "_model_module": "@jupyter-widgets/controls",
            "_model_module_version": "1.5.0",
            "_model_name": "HTMLModel",
            "_view_count": null,
            "_view_module": "@jupyter-widgets/controls",
            "_view_module_version": "1.5.0",
            "_view_name": "HTMLView",
            "description": "",
            "description_tooltip": null,
            "layout": "IPY_MODEL_7574837029824126aac12bbce94f1d54",
            "placeholder": "​",
            "style": "IPY_MODEL_9dae9594708a46f2883ba7fa59c931d7",
            "value": " 242831/242831 [00:15&lt;00:00, 16495.72 examples/s]"
          }
        },
        "66be1dac1f334acfaba03cbc10d57d79": {
          "model_module": "@jupyter-widgets/controls",
          "model_module_version": "1.5.0",
          "model_name": "DescriptionStyleModel",
          "state": {
            "_model_module": "@jupyter-widgets/controls",
            "_model_module_version": "1.5.0",
            "_model_name": "DescriptionStyleModel",
            "_view_count": null,
            "_view_module": "@jupyter-widgets/base",
            "_view_module_version": "1.2.0",
            "_view_name": "StyleView",
            "description_width": ""
          }
        },
        "68e9c45ee53e4ba9a2c592d9c56a6125": {
          "model_module": "@jupyter-widgets/controls",
          "model_module_version": "1.5.0",
          "model_name": "HTMLModel",
          "state": {
            "_dom_classes": [],
            "_model_module": "@jupyter-widgets/controls",
            "_model_module_version": "1.5.0",
            "_model_name": "HTMLModel",
            "_view_count": null,
            "_view_module": "@jupyter-widgets/controls",
            "_view_module_version": "1.5.0",
            "_view_name": "HTMLView",
            "description": "",
            "description_tooltip": null,
            "layout": "IPY_MODEL_325b300a3e4f41b8b928efa8fa6a454f",
            "placeholder": "​",
            "style": "IPY_MODEL_66be1dac1f334acfaba03cbc10d57d79",
            "value": " 1.23k/1.23k [00:00&lt;00:00, 139kB/s]"
          }
        },
        "698e39ceb3f146c18e2cfd83a131a191": {
          "model_module": "@jupyter-widgets/base",
          "model_module_version": "1.2.0",
          "model_name": "LayoutModel",
          "state": {
            "_model_module": "@jupyter-widgets/base",
            "_model_module_version": "1.2.0",
            "_model_name": "LayoutModel",
            "_view_count": null,
            "_view_module": "@jupyter-widgets/base",
            "_view_module_version": "1.2.0",
            "_view_name": "LayoutView",
            "align_content": null,
            "align_items": null,
            "align_self": null,
            "border": null,
            "bottom": null,
            "display": null,
            "flex": null,
            "flex_flow": null,
            "grid_area": null,
            "grid_auto_columns": null,
            "grid_auto_flow": null,
            "grid_auto_rows": null,
            "grid_column": null,
            "grid_gap": null,
            "grid_row": null,
            "grid_template_areas": null,
            "grid_template_columns": null,
            "grid_template_rows": null,
            "height": null,
            "justify_content": null,
            "justify_items": null,
            "left": null,
            "margin": null,
            "max_height": null,
            "max_width": null,
            "min_height": null,
            "min_width": null,
            "object_fit": null,
            "object_position": null,
            "order": null,
            "overflow": null,
            "overflow_x": null,
            "overflow_y": null,
            "padding": null,
            "right": null,
            "top": null,
            "visibility": null,
            "width": null
          }
        },
        "6f21214b9fff47ea866bd36354b833fb": {
          "model_module": "@jupyter-widgets/base",
          "model_module_version": "1.2.0",
          "model_name": "LayoutModel",
          "state": {
            "_model_module": "@jupyter-widgets/base",
            "_model_module_version": "1.2.0",
            "_model_name": "LayoutModel",
            "_view_count": null,
            "_view_module": "@jupyter-widgets/base",
            "_view_module_version": "1.2.0",
            "_view_name": "LayoutView",
            "align_content": null,
            "align_items": null,
            "align_self": null,
            "border": null,
            "bottom": null,
            "display": null,
            "flex": null,
            "flex_flow": null,
            "grid_area": null,
            "grid_auto_columns": null,
            "grid_auto_flow": null,
            "grid_auto_rows": null,
            "grid_column": null,
            "grid_gap": null,
            "grid_row": null,
            "grid_template_areas": null,
            "grid_template_columns": null,
            "grid_template_rows": null,
            "height": null,
            "justify_content": null,
            "justify_items": null,
            "left": null,
            "margin": null,
            "max_height": null,
            "max_width": null,
            "min_height": null,
            "min_width": null,
            "object_fit": null,
            "object_position": null,
            "order": null,
            "overflow": null,
            "overflow_x": null,
            "overflow_y": null,
            "padding": null,
            "right": null,
            "top": null,
            "visibility": null,
            "width": null
          }
        },
        "71a2d6901d074cc8a7eaf4fd43bf9bf6": {
          "model_module": "@jupyter-widgets/controls",
          "model_module_version": "1.5.0",
          "model_name": "HTMLModel",
          "state": {
            "_dom_classes": [],
            "_model_module": "@jupyter-widgets/controls",
            "_model_module_version": "1.5.0",
            "_model_name": "HTMLModel",
            "_view_count": null,
            "_view_module": "@jupyter-widgets/controls",
            "_view_module_version": "1.5.0",
            "_view_name": "HTMLView",
            "description": "",
            "description_tooltip": null,
            "layout": "IPY_MODEL_4a049c92736e41e0b3d3964864604103",
            "placeholder": "​",
            "style": "IPY_MODEL_075b24a5be4e46768051ee1a13dddae1",
            "value": "Generating train split: 100%"
          }
        },
        "7574837029824126aac12bbce94f1d54": {
          "model_module": "@jupyter-widgets/base",
          "model_module_version": "1.2.0",
          "model_name": "LayoutModel",
          "state": {
            "_model_module": "@jupyter-widgets/base",
            "_model_module_version": "1.2.0",
            "_model_name": "LayoutModel",
            "_view_count": null,
            "_view_module": "@jupyter-widgets/base",
            "_view_module_version": "1.2.0",
            "_view_name": "LayoutView",
            "align_content": null,
            "align_items": null,
            "align_self": null,
            "border": null,
            "bottom": null,
            "display": null,
            "flex": null,
            "flex_flow": null,
            "grid_area": null,
            "grid_auto_columns": null,
            "grid_auto_flow": null,
            "grid_auto_rows": null,
            "grid_column": null,
            "grid_gap": null,
            "grid_row": null,
            "grid_template_areas": null,
            "grid_template_columns": null,
            "grid_template_rows": null,
            "height": null,
            "justify_content": null,
            "justify_items": null,
            "left": null,
            "margin": null,
            "max_height": null,
            "max_width": null,
            "min_height": null,
            "min_width": null,
            "object_fit": null,
            "object_position": null,
            "order": null,
            "overflow": null,
            "overflow_x": null,
            "overflow_y": null,
            "padding": null,
            "right": null,
            "top": null,
            "visibility": null,
            "width": null
          }
        },
        "79fc67c42a274dd289fe1b555165f947": {
          "model_module": "@jupyter-widgets/base",
          "model_module_version": "1.2.0",
          "model_name": "LayoutModel",
          "state": {
            "_model_module": "@jupyter-widgets/base",
            "_model_module_version": "1.2.0",
            "_model_name": "LayoutModel",
            "_view_count": null,
            "_view_module": "@jupyter-widgets/base",
            "_view_module_version": "1.2.0",
            "_view_name": "LayoutView",
            "align_content": null,
            "align_items": null,
            "align_self": null,
            "border": null,
            "bottom": null,
            "display": null,
            "flex": null,
            "flex_flow": null,
            "grid_area": null,
            "grid_auto_columns": null,
            "grid_auto_flow": null,
            "grid_auto_rows": null,
            "grid_column": null,
            "grid_gap": null,
            "grid_row": null,
            "grid_template_areas": null,
            "grid_template_columns": null,
            "grid_template_rows": null,
            "height": null,
            "justify_content": null,
            "justify_items": null,
            "left": null,
            "margin": null,
            "max_height": null,
            "max_width": null,
            "min_height": null,
            "min_width": null,
            "object_fit": null,
            "object_position": null,
            "order": null,
            "overflow": null,
            "overflow_x": null,
            "overflow_y": null,
            "padding": null,
            "right": null,
            "top": null,
            "visibility": null,
            "width": null
          }
        },
        "7a6f307c0ef6462e8e775f461b76610e": {
          "model_module": "@jupyter-widgets/controls",
          "model_module_version": "1.5.0",
          "model_name": "DescriptionStyleModel",
          "state": {
            "_model_module": "@jupyter-widgets/controls",
            "_model_module_version": "1.5.0",
            "_model_name": "DescriptionStyleModel",
            "_view_count": null,
            "_view_module": "@jupyter-widgets/base",
            "_view_module_version": "1.2.0",
            "_view_name": "StyleView",
            "description_width": ""
          }
        },
        "8a23ec769b434aff8e20d6c9339ecbc7": {
          "model_module": "@jupyter-widgets/controls",
          "model_module_version": "1.5.0",
          "model_name": "HTMLModel",
          "state": {
            "_dom_classes": [],
            "_model_module": "@jupyter-widgets/controls",
            "_model_module_version": "1.5.0",
            "_model_name": "HTMLModel",
            "_view_count": null,
            "_view_module": "@jupyter-widgets/controls",
            "_view_module_version": "1.5.0",
            "_view_name": "HTMLView",
            "description": "",
            "description_tooltip": null,
            "layout": "IPY_MODEL_0170df2576394f6ea409d974039a9de5",
            "placeholder": "​",
            "style": "IPY_MODEL_e79c32b8d6e74892b9bfb9ea4c6a9e7f",
            "value": " 242831/242831 [00:42&lt;00:00, 14525.85 examples/s]"
          }
        },
        "8c59c7d2a7724b13a77ae57825c5eba3": {
          "model_module": "@jupyter-widgets/base",
          "model_module_version": "1.2.0",
          "model_name": "LayoutModel",
          "state": {
            "_model_module": "@jupyter-widgets/base",
            "_model_module_version": "1.2.0",
            "_model_name": "LayoutModel",
            "_view_count": null,
            "_view_module": "@jupyter-widgets/base",
            "_view_module_version": "1.2.0",
            "_view_name": "LayoutView",
            "align_content": null,
            "align_items": null,
            "align_self": null,
            "border": null,
            "bottom": null,
            "display": null,
            "flex": null,
            "flex_flow": null,
            "grid_area": null,
            "grid_auto_columns": null,
            "grid_auto_flow": null,
            "grid_auto_rows": null,
            "grid_column": null,
            "grid_gap": null,
            "grid_row": null,
            "grid_template_areas": null,
            "grid_template_columns": null,
            "grid_template_rows": null,
            "height": null,
            "justify_content": null,
            "justify_items": null,
            "left": null,
            "margin": null,
            "max_height": null,
            "max_width": null,
            "min_height": null,
            "min_width": null,
            "object_fit": null,
            "object_position": null,
            "order": null,
            "overflow": null,
            "overflow_x": null,
            "overflow_y": null,
            "padding": null,
            "right": null,
            "top": null,
            "visibility": null,
            "width": null
          }
        },
        "8f6db6dacdd84e1ebb4ac16c31be9348": {
          "model_module": "@jupyter-widgets/controls",
          "model_module_version": "1.5.0",
          "model_name": "HBoxModel",
          "state": {
            "_dom_classes": [],
            "_model_module": "@jupyter-widgets/controls",
            "_model_module_version": "1.5.0",
            "_model_name": "HBoxModel",
            "_view_count": null,
            "_view_module": "@jupyter-widgets/controls",
            "_view_module_version": "1.5.0",
            "_view_name": "HBoxView",
            "box_style": "",
            "children": [
              "IPY_MODEL_ea738633a1914d4392bb92157eee9ad2",
              "IPY_MODEL_ac763105c31046018039380f0a3ced14",
              "IPY_MODEL_6504ef5498804a4e9248b176fae29bcd"
            ],
            "layout": "IPY_MODEL_6f21214b9fff47ea866bd36354b833fb"
          }
        },
        "902e7ae708aa4c07bf09656bf401e25a": {
          "model_module": "@jupyter-widgets/controls",
          "model_module_version": "1.5.0",
          "model_name": "ProgressStyleModel",
          "state": {
            "_model_module": "@jupyter-widgets/controls",
            "_model_module_version": "1.5.0",
            "_model_name": "ProgressStyleModel",
            "_view_count": null,
            "_view_module": "@jupyter-widgets/base",
            "_view_module_version": "1.2.0",
            "_view_name": "StyleView",
            "bar_color": null,
            "description_width": ""
          }
        },
        "9072813f4ff24e48a4c0f003801108e9": {
          "model_module": "@jupyter-widgets/base",
          "model_module_version": "1.2.0",
          "model_name": "LayoutModel",
          "state": {
            "_model_module": "@jupyter-widgets/base",
            "_model_module_version": "1.2.0",
            "_model_name": "LayoutModel",
            "_view_count": null,
            "_view_module": "@jupyter-widgets/base",
            "_view_module_version": "1.2.0",
            "_view_name": "LayoutView",
            "align_content": null,
            "align_items": null,
            "align_self": null,
            "border": null,
            "bottom": null,
            "display": null,
            "flex": null,
            "flex_flow": null,
            "grid_area": null,
            "grid_auto_columns": null,
            "grid_auto_flow": null,
            "grid_auto_rows": null,
            "grid_column": null,
            "grid_gap": null,
            "grid_row": null,
            "grid_template_areas": null,
            "grid_template_columns": null,
            "grid_template_rows": null,
            "height": null,
            "justify_content": null,
            "justify_items": null,
            "left": null,
            "margin": null,
            "max_height": null,
            "max_width": null,
            "min_height": null,
            "min_width": null,
            "object_fit": null,
            "object_position": null,
            "order": null,
            "overflow": null,
            "overflow_x": null,
            "overflow_y": null,
            "padding": null,
            "right": null,
            "top": null,
            "visibility": null,
            "width": null
          }
        },
        "9217002165774eb5b8f0b466100e4ffb": {
          "model_module": "@jupyter-widgets/controls",
          "model_module_version": "1.5.0",
          "model_name": "ProgressStyleModel",
          "state": {
            "_model_module": "@jupyter-widgets/controls",
            "_model_module_version": "1.5.0",
            "_model_name": "ProgressStyleModel",
            "_view_count": null,
            "_view_module": "@jupyter-widgets/base",
            "_view_module_version": "1.2.0",
            "_view_name": "StyleView",
            "bar_color": null,
            "description_width": ""
          }
        },
        "94cba68ee58d480caf8c2f8c159415e8": {
          "model_module": "@jupyter-widgets/controls",
          "model_module_version": "1.5.0",
          "model_name": "HBoxModel",
          "state": {
            "_dom_classes": [],
            "_model_module": "@jupyter-widgets/controls",
            "_model_module_version": "1.5.0",
            "_model_name": "HBoxModel",
            "_view_count": null,
            "_view_module": "@jupyter-widgets/controls",
            "_view_module_version": "1.5.0",
            "_view_name": "HBoxView",
            "box_style": "",
            "children": [
              "IPY_MODEL_4190d1584de0432ea7c6f9f8121d8352",
              "IPY_MODEL_17a9bfb834a84acbb7ebe56b10392609",
              "IPY_MODEL_31b25e6ebb7b42f39f13f8c27a70fe91"
            ],
            "layout": "IPY_MODEL_4fa49368ef9f40ad8505d7042781998f"
          }
        },
        "9911b915f540447ebede1d5fa4d7353a": {
          "model_module": "@jupyter-widgets/controls",
          "model_module_version": "1.5.0",
          "model_name": "DescriptionStyleModel",
          "state": {
            "_model_module": "@jupyter-widgets/controls",
            "_model_module_version": "1.5.0",
            "_model_name": "DescriptionStyleModel",
            "_view_count": null,
            "_view_module": "@jupyter-widgets/base",
            "_view_module_version": "1.2.0",
            "_view_name": "StyleView",
            "description_width": ""
          }
        },
        "9dae9594708a46f2883ba7fa59c931d7": {
          "model_module": "@jupyter-widgets/controls",
          "model_module_version": "1.5.0",
          "model_name": "DescriptionStyleModel",
          "state": {
            "_model_module": "@jupyter-widgets/controls",
            "_model_module_version": "1.5.0",
            "_model_name": "DescriptionStyleModel",
            "_view_count": null,
            "_view_module": "@jupyter-widgets/base",
            "_view_module_version": "1.2.0",
            "_view_name": "StyleView",
            "description_width": ""
          }
        },
        "a481bafff96942c8a9347ef18ccf07a8": {
          "model_module": "@jupyter-widgets/controls",
          "model_module_version": "1.5.0",
          "model_name": "DescriptionStyleModel",
          "state": {
            "_model_module": "@jupyter-widgets/controls",
            "_model_module_version": "1.5.0",
            "_model_name": "DescriptionStyleModel",
            "_view_count": null,
            "_view_module": "@jupyter-widgets/base",
            "_view_module_version": "1.2.0",
            "_view_name": "StyleView",
            "description_width": ""
          }
        },
        "a647c5fdd0fa4ebc900df82e805962a9": {
          "model_module": "@jupyter-widgets/controls",
          "model_module_version": "1.5.0",
          "model_name": "FloatProgressModel",
          "state": {
            "_dom_classes": [],
            "_model_module": "@jupyter-widgets/controls",
            "_model_module_version": "1.5.0",
            "_model_name": "FloatProgressModel",
            "_view_count": null,
            "_view_module": "@jupyter-widgets/controls",
            "_view_module_version": "1.5.0",
            "_view_name": "ProgressView",
            "bar_style": "success",
            "description": "",
            "description_tooltip": null,
            "layout": "IPY_MODEL_3a94f8c8d67d4c148862bf29ccf33d0f",
            "max": 3,
            "min": 0,
            "orientation": "horizontal",
            "style": "IPY_MODEL_5b14205e401f497fa4a6d6c49e7d4427",
            "value": 3
          }
        },
        "aaa9a278bfa241349fa68477e4fc62b0": {
          "model_module": "@jupyter-widgets/base",
          "model_module_version": "1.2.0",
          "model_name": "LayoutModel",
          "state": {
            "_model_module": "@jupyter-widgets/base",
            "_model_module_version": "1.2.0",
            "_model_name": "LayoutModel",
            "_view_count": null,
            "_view_module": "@jupyter-widgets/base",
            "_view_module_version": "1.2.0",
            "_view_name": "LayoutView",
            "align_content": null,
            "align_items": null,
            "align_self": null,
            "border": null,
            "bottom": null,
            "display": null,
            "flex": null,
            "flex_flow": null,
            "grid_area": null,
            "grid_auto_columns": null,
            "grid_auto_flow": null,
            "grid_auto_rows": null,
            "grid_column": null,
            "grid_gap": null,
            "grid_row": null,
            "grid_template_areas": null,
            "grid_template_columns": null,
            "grid_template_rows": null,
            "height": null,
            "justify_content": null,
            "justify_items": null,
            "left": null,
            "margin": null,
            "max_height": null,
            "max_width": null,
            "min_height": null,
            "min_width": null,
            "object_fit": null,
            "object_position": null,
            "order": null,
            "overflow": null,
            "overflow_x": null,
            "overflow_y": null,
            "padding": null,
            "right": null,
            "top": null,
            "visibility": null,
            "width": null
          }
        },
        "ab9a15960b4f4e15abf2b25b94468301": {
          "model_module": "@jupyter-widgets/base",
          "model_module_version": "1.2.0",
          "model_name": "LayoutModel",
          "state": {
            "_model_module": "@jupyter-widgets/base",
            "_model_module_version": "1.2.0",
            "_model_name": "LayoutModel",
            "_view_count": null,
            "_view_module": "@jupyter-widgets/base",
            "_view_module_version": "1.2.0",
            "_view_name": "LayoutView",
            "align_content": null,
            "align_items": null,
            "align_self": null,
            "border": null,
            "bottom": null,
            "display": null,
            "flex": null,
            "flex_flow": null,
            "grid_area": null,
            "grid_auto_columns": null,
            "grid_auto_flow": null,
            "grid_auto_rows": null,
            "grid_column": null,
            "grid_gap": null,
            "grid_row": null,
            "grid_template_areas": null,
            "grid_template_columns": null,
            "grid_template_rows": null,
            "height": null,
            "justify_content": null,
            "justify_items": null,
            "left": null,
            "margin": null,
            "max_height": null,
            "max_width": null,
            "min_height": null,
            "min_width": null,
            "object_fit": null,
            "object_position": null,
            "order": null,
            "overflow": null,
            "overflow_x": null,
            "overflow_y": null,
            "padding": null,
            "right": null,
            "top": null,
            "visibility": null,
            "width": null
          }
        },
        "ac763105c31046018039380f0a3ced14": {
          "model_module": "@jupyter-widgets/controls",
          "model_module_version": "1.5.0",
          "model_name": "FloatProgressModel",
          "state": {
            "_dom_classes": [],
            "_model_module": "@jupyter-widgets/controls",
            "_model_module_version": "1.5.0",
            "_model_name": "FloatProgressModel",
            "_view_count": null,
            "_view_module": "@jupyter-widgets/controls",
            "_view_module_version": "1.5.0",
            "_view_name": "ProgressView",
            "bar_style": "success",
            "description": "",
            "description_tooltip": null,
            "layout": "IPY_MODEL_4cefc14af35446e3b18ee74e386b36b1",
            "max": 242831,
            "min": 0,
            "orientation": "horizontal",
            "style": "IPY_MODEL_cb8b5a1a7f584239a309a147969822b8",
            "value": 242831
          }
        },
        "acf2a050397c4fdbb1adcaac161fd702": {
          "model_module": "@jupyter-widgets/base",
          "model_module_version": "1.2.0",
          "model_name": "LayoutModel",
          "state": {
            "_model_module": "@jupyter-widgets/base",
            "_model_module_version": "1.2.0",
            "_model_name": "LayoutModel",
            "_view_count": null,
            "_view_module": "@jupyter-widgets/base",
            "_view_module_version": "1.2.0",
            "_view_name": "LayoutView",
            "align_content": null,
            "align_items": null,
            "align_self": null,
            "border": null,
            "bottom": null,
            "display": null,
            "flex": null,
            "flex_flow": null,
            "grid_area": null,
            "grid_auto_columns": null,
            "grid_auto_flow": null,
            "grid_auto_rows": null,
            "grid_column": null,
            "grid_gap": null,
            "grid_row": null,
            "grid_template_areas": null,
            "grid_template_columns": null,
            "grid_template_rows": null,
            "height": null,
            "justify_content": null,
            "justify_items": null,
            "left": null,
            "margin": null,
            "max_height": null,
            "max_width": null,
            "min_height": null,
            "min_width": null,
            "object_fit": null,
            "object_position": null,
            "order": null,
            "overflow": null,
            "overflow_x": null,
            "overflow_y": null,
            "padding": null,
            "right": null,
            "top": null,
            "visibility": null,
            "width": null
          }
        },
        "b700c1238e3b48f7a3c272f31f555c02": {
          "model_module": "@jupyter-widgets/controls",
          "model_module_version": "1.5.0",
          "model_name": "HBoxModel",
          "state": {
            "_dom_classes": [],
            "_model_module": "@jupyter-widgets/controls",
            "_model_module_version": "1.5.0",
            "_model_name": "HBoxModel",
            "_view_count": null,
            "_view_module": "@jupyter-widgets/controls",
            "_view_module_version": "1.5.0",
            "_view_name": "HBoxView",
            "box_style": "",
            "children": [
              "IPY_MODEL_0df6ec126ab446538c7cb490eb485ce0",
              "IPY_MODEL_a647c5fdd0fa4ebc900df82e805962a9",
              "IPY_MODEL_f08572a0154d41d2920a3fdab27cdae8"
            ],
            "layout": "IPY_MODEL_aaa9a278bfa241349fa68477e4fc62b0"
          }
        },
        "baa0cbd60a704d9194431e5095dab6fc": {
          "model_module": "@jupyter-widgets/controls",
          "model_module_version": "1.5.0",
          "model_name": "FloatProgressModel",
          "state": {
            "_dom_classes": [],
            "_model_module": "@jupyter-widgets/controls",
            "_model_module_version": "1.5.0",
            "_model_name": "FloatProgressModel",
            "_view_count": null,
            "_view_module": "@jupyter-widgets/controls",
            "_view_module_version": "1.5.0",
            "_view_name": "ProgressView",
            "bar_style": "success",
            "description": "",
            "description_tooltip": null,
            "layout": "IPY_MODEL_79fc67c42a274dd289fe1b555165f947",
            "max": 1227,
            "min": 0,
            "orientation": "horizontal",
            "style": "IPY_MODEL_9217002165774eb5b8f0b466100e4ffb",
            "value": 1227
          }
        },
        "c8d727323a3147a69e6b484888db6669": {
          "model_module": "@jupyter-widgets/controls",
          "model_module_version": "1.5.0",
          "model_name": "HTMLModel",
          "state": {
            "_dom_classes": [],
            "_model_module": "@jupyter-widgets/controls",
            "_model_module_version": "1.5.0",
            "_model_name": "HTMLModel",
            "_view_count": null,
            "_view_module": "@jupyter-widgets/controls",
            "_view_module_version": "1.5.0",
            "_view_name": "HTMLView",
            "description": "",
            "description_tooltip": null,
            "layout": "IPY_MODEL_acf2a050397c4fdbb1adcaac161fd702",
            "placeholder": "​",
            "style": "IPY_MODEL_0c30619bb5f040cab68bbaf63b18e0e9",
            "value": " 242831/242831 [00:03&lt;00:00, 76438.95 examples/s]"
          }
        },
        "ca3bb2119e7948ed8a8544ecbe4054d9": {
          "model_module": "@jupyter-widgets/base",
          "model_module_version": "1.2.0",
          "model_name": "LayoutModel",
          "state": {
            "_model_module": "@jupyter-widgets/base",
            "_model_module_version": "1.2.0",
            "_model_name": "LayoutModel",
            "_view_count": null,
            "_view_module": "@jupyter-widgets/base",
            "_view_module_version": "1.2.0",
            "_view_name": "LayoutView",
            "align_content": null,
            "align_items": null,
            "align_self": null,
            "border": null,
            "bottom": null,
            "display": null,
            "flex": null,
            "flex_flow": null,
            "grid_area": null,
            "grid_auto_columns": null,
            "grid_auto_flow": null,
            "grid_auto_rows": null,
            "grid_column": null,
            "grid_gap": null,
            "grid_row": null,
            "grid_template_areas": null,
            "grid_template_columns": null,
            "grid_template_rows": null,
            "height": null,
            "justify_content": null,
            "justify_items": null,
            "left": null,
            "margin": null,
            "max_height": null,
            "max_width": null,
            "min_height": null,
            "min_width": null,
            "object_fit": null,
            "object_position": null,
            "order": null,
            "overflow": null,
            "overflow_x": null,
            "overflow_y": null,
            "padding": null,
            "right": null,
            "top": null,
            "visibility": null,
            "width": null
          }
        },
        "cb8b5a1a7f584239a309a147969822b8": {
          "model_module": "@jupyter-widgets/controls",
          "model_module_version": "1.5.0",
          "model_name": "ProgressStyleModel",
          "state": {
            "_model_module": "@jupyter-widgets/controls",
            "_model_module_version": "1.5.0",
            "_model_name": "ProgressStyleModel",
            "_view_count": null,
            "_view_module": "@jupyter-widgets/base",
            "_view_module_version": "1.2.0",
            "_view_name": "StyleView",
            "bar_color": null,
            "description_width": ""
          }
        },
        "cc832471c34647ea8682c269aa24b36e": {
          "model_module": "@jupyter-widgets/base",
          "model_module_version": "1.2.0",
          "model_name": "LayoutModel",
          "state": {
            "_model_module": "@jupyter-widgets/base",
            "_model_module_version": "1.2.0",
            "_model_name": "LayoutModel",
            "_view_count": null,
            "_view_module": "@jupyter-widgets/base",
            "_view_module_version": "1.2.0",
            "_view_name": "LayoutView",
            "align_content": null,
            "align_items": null,
            "align_self": null,
            "border": null,
            "bottom": null,
            "display": null,
            "flex": null,
            "flex_flow": null,
            "grid_area": null,
            "grid_auto_columns": null,
            "grid_auto_flow": null,
            "grid_auto_rows": null,
            "grid_column": null,
            "grid_gap": null,
            "grid_row": null,
            "grid_template_areas": null,
            "grid_template_columns": null,
            "grid_template_rows": null,
            "height": null,
            "justify_content": null,
            "justify_items": null,
            "left": null,
            "margin": null,
            "max_height": null,
            "max_width": null,
            "min_height": null,
            "min_width": null,
            "object_fit": null,
            "object_position": null,
            "order": null,
            "overflow": null,
            "overflow_x": null,
            "overflow_y": null,
            "padding": null,
            "right": null,
            "top": null,
            "visibility": null,
            "width": null
          }
        },
        "d18fa4815cff469091b448a354d915c2": {
          "model_module": "@jupyter-widgets/controls",
          "model_module_version": "1.5.0",
          "model_name": "HTMLModel",
          "state": {
            "_dom_classes": [],
            "_model_module": "@jupyter-widgets/controls",
            "_model_module_version": "1.5.0",
            "_model_name": "HTMLModel",
            "_view_count": null,
            "_view_module": "@jupyter-widgets/controls",
            "_view_module_version": "1.5.0",
            "_view_name": "HTMLView",
            "description": "",
            "description_tooltip": null,
            "layout": "IPY_MODEL_ca3bb2119e7948ed8a8544ecbe4054d9",
            "placeholder": "​",
            "style": "IPY_MODEL_e5d6620d57c84553a6f41b11f49c8507",
            "value": "Map: 100%"
          }
        },
        "d736a59a2cbe43a4b412f5f76936a8a2": {
          "model_module": "@jupyter-widgets/controls",
          "model_module_version": "1.5.0",
          "model_name": "HBoxModel",
          "state": {
            "_dom_classes": [],
            "_model_module": "@jupyter-widgets/controls",
            "_model_module_version": "1.5.0",
            "_model_name": "HBoxModel",
            "_view_count": null,
            "_view_module": "@jupyter-widgets/controls",
            "_view_module_version": "1.5.0",
            "_view_name": "HBoxView",
            "box_style": "",
            "children": [
              "IPY_MODEL_d18fa4815cff469091b448a354d915c2",
              "IPY_MODEL_ee1acacdb9004ddf8a330d57f0db8d99",
              "IPY_MODEL_14fceef503d242fca0585032f3cc9f1f"
            ],
            "layout": "IPY_MODEL_5d71da59c108449eb999a47868cc2f01"
          }
        },
        "d8871a0fca3a439ea620ad7aee3aaa72": {
          "model_module": "@jupyter-widgets/controls",
          "model_module_version": "1.5.0",
          "model_name": "HBoxModel",
          "state": {
            "_dom_classes": [],
            "_model_module": "@jupyter-widgets/controls",
            "_model_module_version": "1.5.0",
            "_model_name": "HBoxModel",
            "_view_count": null,
            "_view_module": "@jupyter-widgets/controls",
            "_view_module_version": "1.5.0",
            "_view_name": "HBoxView",
            "box_style": "",
            "children": [
              "IPY_MODEL_5cbff7cfc5c9442ba2c961e0e5aa21a2",
              "IPY_MODEL_baa0cbd60a704d9194431e5095dab6fc",
              "IPY_MODEL_68e9c45ee53e4ba9a2c592d9c56a6125"
            ],
            "layout": "IPY_MODEL_418b76b409d342ffbdaf04689b1ab681"
          }
        },
        "dbd9963db0044386b68b00a5275fbab1": {
          "model_module": "@jupyter-widgets/controls",
          "model_module_version": "1.5.0",
          "model_name": "DescriptionStyleModel",
          "state": {
            "_model_module": "@jupyter-widgets/controls",
            "_model_module_version": "1.5.0",
            "_model_name": "DescriptionStyleModel",
            "_view_count": null,
            "_view_module": "@jupyter-widgets/base",
            "_view_module_version": "1.2.0",
            "_view_name": "StyleView",
            "description_width": ""
          }
        },
        "dc8e8559bdb741a2931e61489d71c843": {
          "model_module": "@jupyter-widgets/controls",
          "model_module_version": "1.5.0",
          "model_name": "HBoxModel",
          "state": {
            "_dom_classes": [],
            "_model_module": "@jupyter-widgets/controls",
            "_model_module_version": "1.5.0",
            "_model_name": "HBoxModel",
            "_view_count": null,
            "_view_module": "@jupyter-widgets/controls",
            "_view_module_version": "1.5.0",
            "_view_name": "HBoxView",
            "box_style": "",
            "children": [
              "IPY_MODEL_71a2d6901d074cc8a7eaf4fd43bf9bf6",
              "IPY_MODEL_190e171cd76046fd97ba86fa068050f5",
              "IPY_MODEL_c8d727323a3147a69e6b484888db6669"
            ],
            "layout": "IPY_MODEL_698e39ceb3f146c18e2cfd83a131a191"
          }
        },
        "df4b1eaf04fa45dcbf11939540d1b697": {
          "model_module": "@jupyter-widgets/base",
          "model_module_version": "1.2.0",
          "model_name": "LayoutModel",
          "state": {
            "_model_module": "@jupyter-widgets/base",
            "_model_module_version": "1.2.0",
            "_model_name": "LayoutModel",
            "_view_count": null,
            "_view_module": "@jupyter-widgets/base",
            "_view_module_version": "1.2.0",
            "_view_name": "LayoutView",
            "align_content": null,
            "align_items": null,
            "align_self": null,
            "border": null,
            "bottom": null,
            "display": null,
            "flex": null,
            "flex_flow": null,
            "grid_area": null,
            "grid_auto_columns": null,
            "grid_auto_flow": null,
            "grid_auto_rows": null,
            "grid_column": null,
            "grid_gap": null,
            "grid_row": null,
            "grid_template_areas": null,
            "grid_template_columns": null,
            "grid_template_rows": null,
            "height": null,
            "justify_content": null,
            "justify_items": null,
            "left": null,
            "margin": null,
            "max_height": null,
            "max_width": null,
            "min_height": null,
            "min_width": null,
            "object_fit": null,
            "object_position": null,
            "order": null,
            "overflow": null,
            "overflow_x": null,
            "overflow_y": null,
            "padding": null,
            "right": null,
            "top": null,
            "visibility": null,
            "width": null
          }
        },
        "e3e0b0ec421448438ac0f99922f3fa80": {
          "model_module": "@jupyter-widgets/controls",
          "model_module_version": "1.5.0",
          "model_name": "DescriptionStyleModel",
          "state": {
            "_model_module": "@jupyter-widgets/controls",
            "_model_module_version": "1.5.0",
            "_model_name": "DescriptionStyleModel",
            "_view_count": null,
            "_view_module": "@jupyter-widgets/base",
            "_view_module_version": "1.2.0",
            "_view_name": "StyleView",
            "description_width": ""
          }
        },
        "e5d6620d57c84553a6f41b11f49c8507": {
          "model_module": "@jupyter-widgets/controls",
          "model_module_version": "1.5.0",
          "model_name": "DescriptionStyleModel",
          "state": {
            "_model_module": "@jupyter-widgets/controls",
            "_model_module_version": "1.5.0",
            "_model_name": "DescriptionStyleModel",
            "_view_count": null,
            "_view_module": "@jupyter-widgets/base",
            "_view_module_version": "1.2.0",
            "_view_name": "StyleView",
            "description_width": ""
          }
        },
        "e79c32b8d6e74892b9bfb9ea4c6a9e7f": {
          "model_module": "@jupyter-widgets/controls",
          "model_module_version": "1.5.0",
          "model_name": "DescriptionStyleModel",
          "state": {
            "_model_module": "@jupyter-widgets/controls",
            "_model_module_version": "1.5.0",
            "_model_name": "DescriptionStyleModel",
            "_view_count": null,
            "_view_module": "@jupyter-widgets/base",
            "_view_module_version": "1.2.0",
            "_view_name": "StyleView",
            "description_width": ""
          }
        },
        "ea738633a1914d4392bb92157eee9ad2": {
          "model_module": "@jupyter-widgets/controls",
          "model_module_version": "1.5.0",
          "model_name": "HTMLModel",
          "state": {
            "_dom_classes": [],
            "_model_module": "@jupyter-widgets/controls",
            "_model_module_version": "1.5.0",
            "_model_name": "HTMLModel",
            "_view_count": null,
            "_view_module": "@jupyter-widgets/controls",
            "_view_module_version": "1.5.0",
            "_view_name": "HTMLView",
            "description": "",
            "description_tooltip": null,
            "layout": "IPY_MODEL_eadbe9bd5e304d7faee64aabdd97f4ba",
            "placeholder": "​",
            "style": "IPY_MODEL_a481bafff96942c8a9347ef18ccf07a8",
            "value": "Map: 100%"
          }
        },
        "ea795ad2cae4467ebe76439a886c1cb1": {
          "model_module": "@jupyter-widgets/controls",
          "model_module_version": "1.5.0",
          "model_name": "ProgressStyleModel",
          "state": {
            "_model_module": "@jupyter-widgets/controls",
            "_model_module_version": "1.5.0",
            "_model_name": "ProgressStyleModel",
            "_view_count": null,
            "_view_module": "@jupyter-widgets/base",
            "_view_module_version": "1.2.0",
            "_view_name": "StyleView",
            "bar_color": null,
            "description_width": ""
          }
        },
        "eadbe9bd5e304d7faee64aabdd97f4ba": {
          "model_module": "@jupyter-widgets/base",
          "model_module_version": "1.2.0",
          "model_name": "LayoutModel",
          "state": {
            "_model_module": "@jupyter-widgets/base",
            "_model_module_version": "1.2.0",
            "_model_name": "LayoutModel",
            "_view_count": null,
            "_view_module": "@jupyter-widgets/base",
            "_view_module_version": "1.2.0",
            "_view_name": "LayoutView",
            "align_content": null,
            "align_items": null,
            "align_self": null,
            "border": null,
            "bottom": null,
            "display": null,
            "flex": null,
            "flex_flow": null,
            "grid_area": null,
            "grid_auto_columns": null,
            "grid_auto_flow": null,
            "grid_auto_rows": null,
            "grid_column": null,
            "grid_gap": null,
            "grid_row": null,
            "grid_template_areas": null,
            "grid_template_columns": null,
            "grid_template_rows": null,
            "height": null,
            "justify_content": null,
            "justify_items": null,
            "left": null,
            "margin": null,
            "max_height": null,
            "max_width": null,
            "min_height": null,
            "min_width": null,
            "object_fit": null,
            "object_position": null,
            "order": null,
            "overflow": null,
            "overflow_x": null,
            "overflow_y": null,
            "padding": null,
            "right": null,
            "top": null,
            "visibility": null,
            "width": null
          }
        },
        "ee1acacdb9004ddf8a330d57f0db8d99": {
          "model_module": "@jupyter-widgets/controls",
          "model_module_version": "1.5.0",
          "model_name": "FloatProgressModel",
          "state": {
            "_dom_classes": [],
            "_model_module": "@jupyter-widgets/controls",
            "_model_module_version": "1.5.0",
            "_model_name": "FloatProgressModel",
            "_view_count": null,
            "_view_module": "@jupyter-widgets/controls",
            "_view_module_version": "1.5.0",
            "_view_name": "ProgressView",
            "bar_style": "success",
            "description": "",
            "description_tooltip": null,
            "layout": "IPY_MODEL_f67a6b920f574ab5a59bdd46403f1ae4",
            "max": 242831,
            "min": 0,
            "orientation": "horizontal",
            "style": "IPY_MODEL_241c039ad4874b128270e5b0635c0983",
            "value": 242831
          }
        },
        "f08572a0154d41d2920a3fdab27cdae8": {
          "model_module": "@jupyter-widgets/controls",
          "model_module_version": "1.5.0",
          "model_name": "HTMLModel",
          "state": {
            "_dom_classes": [],
            "_model_module": "@jupyter-widgets/controls",
            "_model_module_version": "1.5.0",
            "_model_name": "HTMLModel",
            "_view_count": null,
            "_view_module": "@jupyter-widgets/controls",
            "_view_module_version": "1.5.0",
            "_view_name": "HTMLView",
            "description": "",
            "description_tooltip": null,
            "layout": "IPY_MODEL_ab9a15960b4f4e15abf2b25b94468301",
            "placeholder": "​",
            "style": "IPY_MODEL_5d461f22d28a4de8961ca48ddab22151",
            "value": " 3/3 [00:00&lt;00:00, 266.61 examples/s]"
          }
        },
        "f2a7f74163f24a7eb1c0955bdb91bc64": {
          "model_module": "@jupyter-widgets/controls",
          "model_module_version": "1.5.0",
          "model_name": "ProgressStyleModel",
          "state": {
            "_model_module": "@jupyter-widgets/controls",
            "_model_module_version": "1.5.0",
            "_model_name": "ProgressStyleModel",
            "_view_count": null,
            "_view_module": "@jupyter-widgets/base",
            "_view_module_version": "1.2.0",
            "_view_name": "StyleView",
            "bar_color": null,
            "description_width": ""
          }
        },
        "f67a6b920f574ab5a59bdd46403f1ae4": {
          "model_module": "@jupyter-widgets/base",
          "model_module_version": "1.2.0",
          "model_name": "LayoutModel",
          "state": {
            "_model_module": "@jupyter-widgets/base",
            "_model_module_version": "1.2.0",
            "_model_name": "LayoutModel",
            "_view_count": null,
            "_view_module": "@jupyter-widgets/base",
            "_view_module_version": "1.2.0",
            "_view_name": "LayoutView",
            "align_content": null,
            "align_items": null,
            "align_self": null,
            "border": null,
            "bottom": null,
            "display": null,
            "flex": null,
            "flex_flow": null,
            "grid_area": null,
            "grid_auto_columns": null,
            "grid_auto_flow": null,
            "grid_auto_rows": null,
            "grid_column": null,
            "grid_gap": null,
            "grid_row": null,
            "grid_template_areas": null,
            "grid_template_columns": null,
            "grid_template_rows": null,
            "height": null,
            "justify_content": null,
            "justify_items": null,
            "left": null,
            "margin": null,
            "max_height": null,
            "max_width": null,
            "min_height": null,
            "min_width": null,
            "object_fit": null,
            "object_position": null,
            "order": null,
            "overflow": null,
            "overflow_x": null,
            "overflow_y": null,
            "padding": null,
            "right": null,
            "top": null,
            "visibility": null,
            "width": null
          }
        }
      }
    }
  },
  "nbformat": 4,
  "nbformat_minor": 5
}
